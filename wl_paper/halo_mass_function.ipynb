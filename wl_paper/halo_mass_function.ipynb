{
 "cells": [
  {
   "cell_type": "code",
   "execution_count": 1,
   "id": "80731163",
   "metadata": {},
   "outputs": [],
   "source": [
    "import numpy as np\n",
    "import matplotlib.pyplot as plt\n",
    "import colossus\n",
    "from scipy.integrate import simps\n",
    "from scipy.interpolate import interp1d\n",
    "\n",
    "%matplotlib inline\n",
    "\n",
    "import astropy.units as u\n",
    "import astropy.constants as c\n",
    "from astropy.cosmology import Planck18 as cosmo"
   ]
  },
  {
   "cell_type": "code",
   "execution_count": null,
   "id": "ed11dd00",
   "metadata": {},
   "outputs": [],
   "source": []
  },
  {
   "cell_type": "markdown",
   "id": "8de0d83b",
   "metadata": {},
   "source": [
    "## Scales for subhalos\n",
    "\n",
    "References\n",
    "* **very useful review:** https://arxiv.org/pdf/1907.11775.pdf, eq 19 for mass function, eq 21 for radial distribution\n",
    "* **Eq 19 in dark census (projected)** https://arxiv.org/pdf/1506.01724.pdf\n",
    "* eq 1 of https://arxiv.org/pdf/1006.2882.pdf, original reference https://arxiv.org/pdf/0911.4484.pdf, eq 7 (focus on MW-type halos)\n",
    "* Book https://ui.adsabs.harvard.edu/abs/2010gfe..book.....M/abstract\n",
    "* https://arxiv.org/pdf/0802.2265.pdf see eq (3): *Subhalos do not trace the matter distribution of the host: tidal disruption is most effective in the inner halo, which leads to an antibias in the abundance profile of substructure relative to the smooth background, i.e. the radial distribution of subhalos above a given mass is much flatter than that of the dark matter in the host halo. This antibias is less pronounced if subhalos are selected by today’s peak circular velocity instead.*"
   ]
  },
  {
   "cell_type": "markdown",
   "id": "ecaa30bb",
   "metadata": {},
   "source": [
    "Ratio between virial and Einstein radius\n",
    "$$ \\frac{R_{\\rm vir}}{R_E} = \\frac{1.86\\cdot 10^4}{(1+z_L)}\\left(\\frac{1{\\rm Gpc}}{d_{\\rm eff}}\\right)^{1/2} \\left(\\frac{10^{12}M_\\odot}{M_{\\rm vir}}\\right)^{1/3} $$\n",
    "\n",
    "\n",
    "The rate associated to encountering a massive halo is given by the strong lensing cross section multiplied by $y_{\\rm sub}^2 \\equiv (b/R_{\\rm E})^2$ or\n",
    "\\begin{equation}\n",
    "y_{\\rm sub} = \\frac{1.9\\cdot 10^4}{(1+z_L)}\\left(\\frac{1{\\rm Gpc}} {d_{\\rm eff}}\\right)^{1/2} \\left(\\frac{10^{12}M_\\odot}{M_{\\rm vir}}\\right)^{1/3}\\left(\\frac{b}{R_{\\rm vir}}\\right)\\,,\n",
    "\\end{equation}\n",
    "in terms of an impact parameter $b$."
   ]
  },
  {
   "cell_type": "code",
   "execution_count": 2,
   "id": "831b6cbe",
   "metadata": {},
   "outputs": [
    {
     "data": {
      "text/latex": [
       "$1049.1166 \\; \\mathrm{pc}$"
      ],
      "text/plain": [
       "<Quantity 1049.11660151 pc>"
      ]
     },
     "execution_count": 2,
     "metadata": {},
     "output_type": "execute_result"
    }
   ],
   "source": [
    "# zS = 3\n",
    "# zL = zS/2\n",
    "\n",
    "zL = 0 #change later\n",
    "\n",
    "deff = u.Gpc\n",
    "dL = deff\n",
    "Mh = 1e12*u.Msun\n",
    "\n",
    "MLz = 2.3e6*u.Msun*(1+zL)**2*(deff/u.Gpc)*(Mh/1e9/u.Msun)**(4/3)\n",
    "\n",
    "RE = np.sqrt(c.G/c.c**2*MLz*deff).decompose()\n",
    "RE.to(u.pc)"
   ]
  },
  {
   "cell_type": "code",
   "execution_count": 3,
   "id": "27c94a67",
   "metadata": {},
   "outputs": [
    {
     "data": {
      "text/latex": [
       "$0.21639583 \\; \\mathrm{{}^{\\prime\\prime}}$"
      ],
      "text/plain": [
       "<Quantity 0.21639583 arcsec>"
      ]
     },
     "execution_count": 3,
     "metadata": {},
     "output_type": "execute_result"
    }
   ],
   "source": [
    "thE = (RE/dL*u.rad).decompose()\n",
    "thE.to(u.arcsec)"
   ]
  },
  {
   "cell_type": "code",
   "execution_count": 4,
   "id": "ef8695ec",
   "metadata": {},
   "outputs": [
    {
     "data": {
      "text/latex": [
       "$143.02587 \\; \\mathrm{kpc}$"
      ],
      "text/plain": [
       "<Quantity 143.02586556 kpc>"
      ]
     },
     "execution_count": 4,
     "metadata": {},
     "output_type": "execute_result"
    }
   ],
   "source": [
    "R200 = (300)**(-1/3)*((c.G*Mh/(70*u.km/u.Mpc/u.s)**2)**(1/3)).decompose()\n",
    "R200.to(u.kpc)"
   ]
  },
  {
   "cell_type": "code",
   "execution_count": 5,
   "id": "92965f23",
   "metadata": {},
   "outputs": [
    {
     "data": {
      "text/latex": [
       "$136.32981 \\; \\mathrm{}$"
      ],
      "text/plain": [
       "<Quantity 136.32980867>"
      ]
     },
     "execution_count": 5,
     "metadata": {},
     "output_type": "execute_result"
    }
   ],
   "source": [
    "R200/RE"
   ]
  },
  {
   "cell_type": "code",
   "execution_count": 6,
   "id": "4f0df679",
   "metadata": {},
   "outputs": [
    {
     "data": {
      "text/latex": [
       "$18585.817 \\; \\mathrm{}$"
      ],
      "text/plain": [
       "<Quantity 18585.81673169>"
      ]
     },
     "execution_count": 6,
     "metadata": {},
     "output_type": "execute_result"
    }
   ],
   "source": [
    "(R200/RE)**2#*0.07"
   ]
  },
  {
   "cell_type": "markdown",
   "id": "7c8bf1cd",
   "metadata": {},
   "source": [
    "Angular cross section of subhalos within a halo (see notes)\n",
    "\n",
    "$$ \\sigma_s =  \\int dm \\int d^2x \\color{red}{ \\xi_0^2} \\frac{\\Sigma(x)}{m}\\frac{df(m,x,z_L)}{dm}\\sigma_{\\rm WO}(m, x,\\vec z) $$\n",
    "\n",
    "**NOTE: factor of $\\xi_0^2$ (of main halo) to convert units in $\\Sigma$**\n",
    "\n",
    "One can define an effective impact parameter for subhalos as $y_{sub}^2(m,M_{\\rm vir},\\vec z) = \\sigma_s/\\theta_E(M_{\\rm vir})^2$. This can be then inserted in the expression used for isolated halos to get the rate of subhalo lensing.\n",
    "\n",
    "Let us now assume that the critical impact parameter is that of the isolated halos, so $\\sigma_{\\rm WO} = y_{\\rm crit}(m,\\vec z)^2\\theta_E(m,\\vec z)^2$. This amounts to neglectingthe external potential from the main halo and nearby subhalos, which tend to make WO deviations more distinguishable \\cite{Dai:2018}.\n",
    "Then, if the subhalo mass function $f$ depends weakly on $x$ (i.e. the probability of a halo is captured by the density profile $\\Sigma$) then\n",
    "\n",
    "$$ \\sigma_s \\approx \\int dm   \\frac{M_{\\rm vir}}{m}\\frac{df(m)}{dm}y^2_{\\rm crit}(m)\\theta_E^2(m) $$\n",
    "\n",
    "(we are now omitting the $z_L, z_S$ dependence)"
   ]
  },
  {
   "cell_type": "markdown",
   "id": "6e124b0f",
   "metadata": {},
   "source": [
    "We can also compute the expected number of subhalos contributing WO signatures for a given $x$:\n",
    "\n",
    "$$\\bar N_{\\rm WO, sub} = \\int dm \\frac{\\Sigma(x)}{m}\\frac{df(m,x,z_L)}{dm}\\color{red}{\\mathcal{A}_{\\rm WO}}(m, x, \\vec z) $$\n",
    "\n",
    "Where $\\mathcal{A}_{\\rm WO} \\sim y_{\\rm crit}^2(m)R_E^2(m)$ is the actual area on which subhalos can be detected.\n",
    "\n",
    "and then consider the probability of encountering a source forming an image at that value of $x$."
   ]
  },
  {
   "cell_type": "markdown",
   "id": "67d409c4",
   "metadata": {},
   "source": [
    "**SIS:** $M_v = 1.8\\cdot 10^{11}M_\\odot(\\sigma_v/70{\\rm km/s})^3$, $\\Sigma(\\xi) = \\frac{\\sigma_v^2}{2 G \\xi}$, $\\xi_0 = \\sigma_v^2/(G\\Sigma_{\\rm crit})$\n",
    "\n",
    "$$\\Sigma(x) = \\frac{\\Sigma_{\\rm crit}}{2x}$$\n",
    "\n",
    "$$\\Sigma_{\\rm crit} = \\frac{1}{4\\pi G(1+z_L)d_{\\rm eff}}= 1662.9\\frac{M_\\odot}{{\\rm pc}^2}\\frac{1}{1+z_L}\\left(\\frac{{\\rm Gpc}}{d_{\\rm eff}}\\right)$$"
   ]
  },
  {
   "cell_type": "markdown",
   "id": "e9b82111",
   "metadata": {},
   "source": [
    "Number of halos for SIS profile (check prefactors!!! so far fixed $d_{eff}$)\n",
    "\n",
    "$$\\bar N_{\\rm WO, sub} = \\frac{0.915}{x}\\int dm \\frac{10^9 M_\\odot}{m}\\frac{df(m,x,z_L)}{dm}\\color{red}{\\mathcal{A}_{\\rm WO}}(m, x, \\vec z) $$\n",
    "\n",
    "Simplest thing is $\\frac{df}{dm} = \\frac{f_{\\rm sub}}{m}e^{-m/M_{\\rm vir}}$ (scale invariant with cutoff at the halo mass$"
   ]
  },
  {
   "cell_type": "code",
   "execution_count": 7,
   "id": "a790930c",
   "metadata": {},
   "outputs": [
    {
     "data": {
      "text/latex": [
       "$1662.9165 \\; \\mathrm{\\frac{M_{\\odot}}{pc^{2}}}$"
      ],
      "text/plain": [
       "<Quantity 1662.91654018 solMass / pc2>"
      ]
     },
     "execution_count": 7,
     "metadata": {},
     "output_type": "execute_result"
    }
   ],
   "source": [
    "deff = u.Gpc\n",
    "Sigma_crit = 1/(4*np.pi*c.G/c.c**2*deff).decompose()\n",
    "Sigma_crit.to(u.Msun/u.pc**2)\n",
    "#Sigma_crit.to(u.Msun/u.kpc**2)"
   ]
  },
  {
   "cell_type": "code",
   "execution_count": 8,
   "id": "05fe720d",
   "metadata": {},
   "outputs": [],
   "source": [
    "def r_Einst(Mh,deff = u.Gpc):\n",
    "\n",
    "    Mh = Mh*u.Msun\n",
    "\n",
    "    MLz = 2.3e6*u.Msun*(1+zL)**2*(deff/u.Gpc)*(Mh/1e9/u.Msun)**(4/3)\n",
    "\n",
    "    RE = np.sqrt(c.G/c.c**2*MLz*deff).decompose()\n",
    "    \n",
    "    return RE\n",
    "\n",
    "# r_Einst = np.vectorize(r_Einst)"
   ]
  },
  {
   "cell_type": "code",
   "execution_count": 9,
   "id": "5973870d",
   "metadata": {},
   "outputs": [
    {
     "data": {
      "text/latex": [
       "$9.1514092 \\times 10^{8} \\; \\mathrm{M_{\\odot}}$"
      ],
      "text/plain": [
       "<Quantity 9.15140923e+08 solMass>"
      ]
     },
     "execution_count": 9,
     "metadata": {},
     "output_type": "execute_result"
    }
   ],
   "source": [
    "rE = r_Einst(1e12)\n",
    "\n",
    "0.5*(rE**2*Sigma_crit).to(u.Msun)"
   ]
  },
  {
   "cell_type": "code",
   "execution_count": 10,
   "id": "9dc26000",
   "metadata": {},
   "outputs": [
    {
     "data": {
      "text/plain": [
       "[<matplotlib.lines.Line2D at 0x7f4ecd3d1fa0>]"
      ]
     },
     "execution_count": 10,
     "metadata": {},
     "output_type": "execute_result"
    },
    {
     "data": {
      "image/png": "[encoded data removed]",
      "text/plain": [
       "<Figure size 432x288 with 1 Axes>"
      ]
     },
     "metadata": {
      "needs_background": "light"
     },
     "output_type": "display_data"
    }
   ],
   "source": [
    "masses = np.geomspace(1,1e12,100)\n",
    "\n",
    "#model with a lognormal\n",
    "y0 = 50\n",
    "M0 = 1e6\n",
    "s0 = 1.5\n",
    "ycrit = y0*np.exp(-(np.log10(masses/M0)/(s0))**2)\n",
    "# ycrit\n",
    "plt.semilogx(masses,ycrit)"
   ]
  },
  {
   "cell_type": "code",
   "execution_count": 11,
   "id": "963bb1ee",
   "metadata": {},
   "outputs": [
    {
     "data": {
      "image/png": "[encoded data removed]",
      "text/plain": [
       "<Figure size 432x288 with 1 Axes>"
      ]
     },
     "metadata": {
      "needs_background": "light"
     },
     "output_type": "display_data"
    }
   ],
   "source": [
    "mrel = np.geomspace(1e-7,1e-1,100)\n",
    "dNdM = mrel**(-1.86)\n",
    "\n",
    "plt.loglog(mrel,dNdM)\n",
    "plt.grid()"
   ]
  },
  {
   "cell_type": "code",
   "execution_count": 12,
   "id": "8b76b22d",
   "metadata": {},
   "outputs": [
    {
     "name": "stdout",
     "output_type": "stream",
     "text": [
      "1.8302818455567995e-07\n"
     ]
    },
    {
     "data": {
      "text/plain": [
       "<matplotlib.lines.Line2D at 0x7f4ecd080ee0>"
      ]
     },
     "execution_count": 12,
     "metadata": {},
     "output_type": "execute_result"
    },
    {
     "data": {
      "image/png": "[encoded data removed]",
      "text/plain": [
       "<Figure size 432x288 with 1 Axes>"
      ]
     },
     "metadata": {
      "needs_background": "light"
     },
     "output_type": "display_data"
    }
   ],
   "source": [
    "masses = np.geomspace(1,1e12,100)\n",
    "rE = [(r_Einst(m)/u.pc).decompose() for m in masses]\n",
    "factor = [(Sigma_crit*r_Einst(m)**2/u.Msun).decompose() for m in masses]\n",
    "\n",
    "\n",
    "#model with a lognormal\n",
    "y0 = 50\n",
    "M0 = 1e6\n",
    "s0 = 1.5\n",
    "ycrit = y0*np.exp(-(np.log10(masses/M0)/(s0))**2)\n",
    "\n",
    "\n",
    "print(factor[0])\n",
    "\n",
    "# plt.loglog(masses,rE,label='$R_E$ [pc]')\n",
    "var0=factor/masses\n",
    "plt.loglog(masses,var0,label='$\\Sigma_c R_E^2(m)/m$')\n",
    "plt.loglog(masses,ycrit**2*var0,label='$y^2\\Sigma_c R_E^2(m)/m$')\n",
    "\n",
    "plt.legend()\n",
    "plt.grid()\n",
    "plt.ylim(var0.min(),)\n",
    "plt.axhline(1,color='gray',ls='--')\n",
    "\n",
    "# factor = (Sigma_crit*r_Einst(m)**2/u.Msun).decompose()"
   ]
  },
  {
   "cell_type": "markdown",
   "id": "9044cea5",
   "metadata": {},
   "source": [
    "## Rates in light of PTA data"
   ]
  },
  {
   "cell_type": "code",
   "execution_count": 13,
   "id": "91ce153f",
   "metadata": {},
   "outputs": [
    {
     "name": "stdout",
     "output_type": "stream",
     "text": [
      "dict_keys(['agnostic_90_upper', 'agnostic_50_upper', 'astro_50_upper', 'astro_90_upper', 'agnostic_50_lower', 'astro_90_lower', 'agnostic_median', 'astro_median', 'astro_50_lower'])\n"
     ]
    }
   ],
   "source": [
    "#retrieve data from https://arxiv.org/pdf/2305.05955.pdf\n",
    "from os import listdir\n",
    "from os.path import isfile, join, splitext\n",
    "pta_path = '/home/miguel/code/notebooks/gw_data/PTA_lim_MBHB_230505955/'\n",
    "pta_names = [splitext(f)[0] for f in listdir(pta_path) if isfile(join(pta_path, f))]\n",
    "# print(onlyfiles)\n",
    "\n",
    "pta_data = {}\n",
    "\n",
    "for f in pta_names:\n",
    "    if 'full' in f:\n",
    "        continue\n",
    "    filename = pta_path+f+'.csv'\n",
    "    pta_data[f] = np.genfromtxt(filename,delimiter=',')\n",
    "    \n",
    "print(pta_data.keys())"
   ]
  },
  {
   "cell_type": "code",
   "execution_count": 23,
   "id": "05865e34",
   "metadata": {},
   "outputs": [
    {
     "data": {
      "text/plain": [
       "3.0"
      ]
     },
     "execution_count": 23,
     "metadata": {},
     "output_type": "execute_result"
    }
   ],
   "source": [
    "from numpy.random import poisson\n",
    "from scipy.stats import poisson as poiss\n",
    "from scipy.special import gamma\n",
    "\n",
    "from scipy.integrate import simps,cumtrapz\n",
    "from scipy.interpolate import griddata\n",
    "\n",
    "np.floor(3.5)"
   ]
  },
  {
   "cell_type": "code",
   "execution_count": 29,
   "id": "202a6044",
   "metadata": {},
   "outputs": [
    {
     "data": {
      "text/plain": [
       "'1.1'"
      ]
     },
     "execution_count": 29,
     "metadata": {},
     "output_type": "execute_result"
    }
   ],
   "source": [
    "def latex_exp(x, exp_min = (0,0),ndec=2,forms=('g','g')):\n",
    "    if x == 0:\n",
    "        return '%g'%x\n",
    "    expon = np.log10(x)\n",
    "    expon = np.floor(expon) if expon>0 else np.ceil(expon)\n",
    "    if expon>=exp_min[0] and expon<exp_min[1]:\n",
    "        ndec = max(ndec,exp_min[1] if expon>0 else -exp_min[0])\n",
    "#         print('*',x)\n",
    "        n = ndec if np.abs(x)>1 else ndec-1\n",
    "        form = '%.'+('%i'%n)+forms[0]\n",
    "#         print(form)\n",
    "#         form = '%.'+form+'g'\n",
    "        return form%x\n",
    "    mant = x/10**expon\n",
    "    if mant ==1:\n",
    "#         print('.',x)\n",
    "        return '10^{%i}'%(expon)\n",
    "    else:\n",
    "        form = '%.'+('%i'%(ndec-1))+forms[1]\n",
    "        return (form+'\\cdot 10^{%i}')%(mant,expon)\n",
    "    \n",
    "latex_exp(1.1,exp_min=(-2,2))"
   ]
  },
  {
   "cell_type": "code",
   "execution_count": 30,
   "id": "d61e0c4f",
   "metadata": {},
   "outputs": [
    {
     "data": {
      "text/plain": [
       "array([0.05070348, 0.21243337, 0.04569344])"
      ]
     },
     "execution_count": 30,
     "metadata": {},
     "output_type": "execute_result"
    }
   ],
   "source": [
    "#output from Stefano\n",
    "\n",
    "Mbbh=[1e5, 1e6, 1e7]\n",
    "z_S=[3, 5, 8, 10]\n",
    "lambda_wo=[[0.026674146917436796,\n",
    "  0.05070347785752591,\n",
    "  0.08340254319921814,\n",
    "  0.10110685326664795],\n",
    " [0.19113249871505728,\n",
    "  0.21243336993160855,\n",
    "  0.15506866007936593,\n",
    "  0.12318028115880689],\n",
    " [0.0538947158340833,\n",
    "  0.04569343654895107,\n",
    "  0.02442326460587767,\n",
    "  0.01410021483517128]]\n",
    "lambda_sl=[0.005940430380461109,\n",
    "  0.01156095373763084,\n",
    "  0.01818539266276898,\n",
    "  0.02154655568552058]\n",
    "\n",
    "lambda_sl = np.array(lambda_sl)\n",
    "lambda_wo = np.array(lambda_wo).T\n",
    "\n",
    "# plt.loglog(Mbbh,lambda_wo[1])\n",
    "lambda_wo[1]"
   ]
  },
  {
   "cell_type": "code",
   "execution_count": 31,
   "id": "d5b187ad",
   "metadata": {},
   "outputs": [
    {
     "data": {
      "text/plain": [
       "array([1.e+05, 1.e+06, 1.e+07, 1.e+08, 1.e+10])"
      ]
     },
     "execution_count": 31,
     "metadata": {},
     "output_type": "execute_result"
    }
   ],
   "source": [
    "np.concatenate((Mbbh,[1e8,1e10]))"
   ]
  },
  {
   "cell_type": "code",
   "execution_count": 32,
   "id": "f99bf3bb",
   "metadata": {},
   "outputs": [
    {
     "data": {
      "image/png": "[encoded data removed]",
      "text/plain": [
       "<Figure size 432x288 with 1 Axes>"
      ]
     },
     "metadata": {
      "needs_background": "light"
     },
     "output_type": "display_data"
    }
   ],
   "source": [
    "#estimated rates\n",
    "Mbhs = np.array(np.concatenate((Mbbh,[1e8,1e10])))\n",
    "barNs = np.array(np.concatenate((lambda_wo[1],[0.001,1e-5]))) #take the z=5\n",
    "barNwo = interp1d(Mbhs,barNs,fill_value=0)\n",
    "\n",
    "plt.loglog(pta_data['astro_median'][:,0],pta_data['astro_median'][:,1],'b-',label='astro')\n",
    "plt.loglog(pta_data['agnostic_median'][:,0],pta_data['agnostic_median'][:,1],'r-',label='agnostic')\n",
    "# for d1,d2 in [('agnostic_50_upper','agnostic_50_lower')]:\n",
    "#     plt.fill_between(pta_data[d1][:,0],pta_data[d2][:,1],pta_data[d2][:,1],color='r',alpha=0.2)\n",
    "\n",
    "plt.loglog(Mbhs,barNs,'k:',label=r'$\\bar N_{\\rm WO}$')\n",
    "plt.legend()\n",
    "plt.ylabel(r'$d\\dot N/d\\log_{10}(M_{\\rm BBH})$ [1/yr]')\n",
    "plt.xlabel(r'$M_{\\rm BBH}$')\n",
    "plt.ylim(1e-3,)\n",
    "plt.xlim(1e6,1e9)\n",
    "plt.grid()"
   ]
  },
  {
   "cell_type": "code",
   "execution_count": 33,
   "id": "d5c1b0c1",
   "metadata": {},
   "outputs": [
    {
     "data": {
      "text/plain": [
       "array([0.99378239, 1.00000938, 1.00626326])"
      ]
     },
     "execution_count": 33,
     "metadata": {},
     "output_type": "execute_result"
    }
   ],
   "source": [
    "def f_hmf_bounds(Nwo,Ndet,quantil = [0.05,0.5,0.95]):\n",
    "    '''compute the limits on the halo mass function ratio, given fiducial Nwo, Ndet\n",
    "       assumes data is given by fiducial (i.e. k_wo = floor(N_wo))\n",
    "    '''\n",
    "    \n",
    "    #define a grid\n",
    "    n = 1\n",
    "    rescale = Nwo**n \n",
    "    rlim = np.max([100/Ndet**n,1.01])\n",
    "    flim = np.max([100/Nwo**n,2])\n",
    "#     f = np.geomspace(0.001*rescale,1000/rescale,1000)\n",
    "    f = np.geomspace(1/flim,flim,1000)\n",
    "    r = np.geomspace(1/rlim,rlim,100)\n",
    "    F, R = np.meshgrid(f,r)\n",
    "\n",
    "    #likelihood\n",
    "    kwo = np.floor(Nwo)\n",
    "    kdet = np.floor(Ndet)\n",
    "    L = poiss.pmf(kwo,Nwo*R*F)*poiss.pmf(kdet,Ndet*R)\n",
    "\n",
    "    \n",
    "#     plt.contourf(F,R,L); plt.xscale('log'); plt.yscale('log')\n",
    "    \n",
    "    #marginalize\n",
    "    Lf = simps(L,R,axis=0)\n",
    "\n",
    "    cumLf = cumtrapz(Lf,f,initial=0)\n",
    "    cumLf/=cumLf[-1]\n",
    "    \n",
    "#     plt.semilogx(f,cumLf)\n",
    "\n",
    "    return griddata(cumLf,f,quantil)\n",
    "\n",
    "# f_hmf_bounds(1000,10000)\n",
    "f_hmf_bounds(16005.6*5,127395*5)"
   ]
  },
  {
   "cell_type": "code",
   "execution_count": 34,
   "id": "4ef93829",
   "metadata": {},
   "outputs": [
    {
     "name": "stdout",
     "output_type": "stream",
     "text": [
      "Limit  &  5\\%  & 95\\% \\\\\n",
      "\\hline\n",
      "Agnostic 95\\% & $0.995$ & $1.005$ \\\\\n",
      "Agnostic 75\\% & $0.976$ & $1.025$ \\\\\n",
      "Agnostic 50\\% & $0.766$ & $1.261$ \\\\\n",
      "Agnostic 25\\% & $-$ & $3\\cdot 10^{3}$ \\\\\n",
      "\\hline\n",
      "Astro 95\\% & $0.883$ & $1.132$ \\\\\n",
      "Astro 75\\% & $0.664$ & $1.490$ \\\\\n",
      "Astro 50\\% & $0.345$ & $2.835$ \\\\\n",
      "Astro 25\\% & $-$ & $7.139$ \\\\\n",
      "Astro 5\\% & $-$ & $5\\cdot 10^{2}$ \\\\\n",
      "\\hline\n"
     ]
    }
   ],
   "source": [
    "T = 5 #in years\n",
    "\n",
    "distributions = {}\n",
    "labels ={}\n",
    "\n",
    "print(r'Limit  &  5\\%  & 95\\% \\\\')\n",
    "print('\\hline')\n",
    "for i,n in enumerate(datasets): #(['agnostic_50_lower']):\n",
    "    d = pta_data[n]\n",
    "    Ntot = simps(d[:,1],np.log10(d[:,0]))\n",
    "    Nwo = simps(d[:,1]*barNwo(d[:,0]),np.log10(d[:,0]))\n",
    "    \n",
    "    Nsl = simps(d[:,1]*barNsl,np.log10(d[:,0]))\n",
    "    \n",
    "    labels[n] = names[i]\n",
    "    \n",
    "    limits = f_hmf_bounds(T*Nwo,T*Ntot)\n",
    "    \n",
    "    val_labs = ['$%.3f$'%v if v <20 else '$%s$'%latex_exp(v) for v in limits]\n",
    "    #treat special cases\n",
    "    if Nwo*T<1:\n",
    "        val_labs[0] = '$-$'\n",
    "    \n",
    "    print(names[i],r'& %s & %s \\\\'%(val_labs[0],val_labs[2]))\n",
    "#     if Nwo*T <1:\n",
    "#         print(names[i],r' & $-$ & $%.3f$  \\\\'%limits[2])\n",
    "#     else:\n",
    "#     print(names[i],r' & $%.3f$ & $%.3f$  \\\\'%tuple([limits[n] for n in [0,2]]))\n",
    "    if i ==3:\n",
    "        print('\\hline')\n",
    "print('\\hline')"
   ]
  },
  {
   "cell_type": "code",
   "execution_count": 36,
   "id": "eecb9b50",
   "metadata": {},
   "outputs": [
    {
     "name": "stdout",
     "output_type": "stream",
     "text": [
      "Limit &  $\\dot N_{\\rm det}$ &  $\\dot N_{\\rm WO}$ & $\\dot N_{\\rm SL}$ &   5\\%  & 95\\% \\\\\n",
      "\\hline\n",
      "Agnostic 95\\% & $1.27\\cdot 10^{5}$ & $2.61\\cdot 10^{4}$  & $1.47\\cdot 10^{3}$ & $0.995$ & $1.005$ \\\\\n",
      "Agnostic 75\\% & $5.21\\cdot 10^{3}$ & $1.02\\cdot 10^{3}$  & $60.24$ & $0.976$ & $1.025$ \\\\\n",
      "Agnostic 50\\% & $66.34$ & $8.797$  & $0.767$ & $0.77$ & $1.26$ \\\\\n",
      "Agnostic 25\\% & $0.0757$ & $0.473\\cdot 10^{-2}$  & $0.876\\cdot 10^{-3}$ & $-$ & $-$ \\\\\n",
      "\\hline\n",
      "Astro 95\\% & $3.28\\cdot 10^{2}$ & $35.24$  & $3.787$ & $0.88$ & $1.13$ \\\\\n",
      "Astro 75\\% & $40.63$ & $3.262$  & $0.47$ & $0.66$ & $1.49$ \\\\\n",
      "Astro 50\\% & $8.55$ & $0.476$  & $0.0988$ & $0.35$ & $2.84$ \\\\\n",
      "Astro 25\\% & $2.163$ & $0.106$  & $0.025$ & $-$ & $7.14$ \\\\\n",
      "Astro 5\\% & $0.22$ & $0.679\\cdot 10^{-2}$  & $0.254\\cdot 10^{-2}$ & $-$ & $4.8\\cdot 10^{2}$ \\\\\n",
      "\\hline\n"
     ]
    }
   ],
   "source": [
    "#complete table\n",
    "\n",
    "T = 5 #in years\n",
    "\n",
    "distributions = {}\n",
    "labels ={}\n",
    "\n",
    "print(r'Limit &  $\\dot N_{\\rm det}$ &  $\\dot N_{\\rm WO}$ & $\\dot N_{\\rm SL}$ &',end=' ')\n",
    "print(r'  5\\%  & 95\\% \\\\')\n",
    "print('\\hline')\n",
    "for i,n in enumerate(datasets): #(['agnostic_50_lower']):\n",
    "    d = pta_data[n]\n",
    "    Ntot = simps(d[:,1],np.log10(d[:,0]))\n",
    "    Nwo = simps(d[:,1]*barNwo(d[:,0]),np.log10(d[:,0]))\n",
    "    \n",
    "    Nsl = simps(d[:,1]*barNsl,np.log10(d[:,0]))\n",
    "    \n",
    "    labels[n] = names[i]\n",
    "    \n",
    "    limits = f_hmf_bounds(T*Nwo,T*Ntot)\n",
    "    \n",
    "    val_labs = ['$%.3f$'%v if np.abs(v-1) <.1 else '$%s$'%latex_exp(v,exp_min=(-1,2),ndec=3) for v in limits]\n",
    "    #treat special cases\n",
    "    if Nwo*T<1:\n",
    "        val_labs[0] = '$-$'\n",
    "    if Ntot*T <1:\n",
    "        val_labs[2] = '$-$'\n",
    "    string = names[i] + r' & $%s$ & $%s$  & $%s$ '%tuple([latex_exp(n,exp_min=(-1,2),forms=('g','g'),ndec=4) for n in [Ntot, Nwo, Nsl]])\n",
    "    string += r'& %s & %s \\\\'%(val_labs[0],val_labs[2])\n",
    "    \n",
    "    print(string)\n",
    "                            \n",
    "    if i ==3:\n",
    "        print('\\hline')\n",
    "print('\\hline')"
   ]
  },
  {
   "cell_type": "markdown",
   "id": "6d28a696",
   "metadata": {},
   "source": [
    "### Further tests"
   ]
  },
  {
   "cell_type": "code",
   "execution_count": 19,
   "id": "ab5c0599",
   "metadata": {},
   "outputs": [
    {
     "data": {
      "text/plain": [
       "'1.3 \\\\cdot 10^{5}'"
      ]
     },
     "execution_count": 19,
     "metadata": {},
     "output_type": "execute_result"
    }
   ],
   "source": [
    "def latex_float(f):\n",
    "    float_str = \"{0:.2g}\".format(f)\n",
    "    if \"e\" in float_str:\n",
    "        base, exponent = float_str.split(\"e\")\n",
    "        if base==1:\n",
    "            return r\"10^{{{0}}}\".format(int(exponent))\n",
    "        if base==-1:\n",
    "            return r\"-10^{{{0}}}\".format(int(exponent))\n",
    "        else:\n",
    "            return r\"{0} \\cdot 10^{{{1}}}\".format(base, int(exponent))\n",
    "    else:\n",
    "        return float_str\n",
    "\n",
    "latex_float(127395)"
   ]
  },
  {
   "cell_type": "code",
   "execution_count": 20,
   "id": "b0cc1be0",
   "metadata": {},
   "outputs": [
    {
     "name": "stdout",
     "output_type": "stream",
     "text": [
      "Limit  \t \t  \t    N_tot  \t  N_wo \t \t N_sl\n",
      "agnostic_90_upper    \t   127395  \t 26078.4  \t 1472.81 \t [yr^-1] \n",
      "agnostic_50_upper    \t   5210.88  \t 1021.53  \t 60.2427 \t [yr^-1] \n",
      "agnostic_median    \t   66.3417  \t 8.79671  \t 0.766973 \t [yr^-1] \n",
      "agnostic_50_lower    \t   0.075736  \t 0.00473489  \t 0.000875581 \t [yr^-1] \n",
      "astro_90_upper    \t   327.526  \t 35.2409  \t 3.78651 \t [yr^-1] \n",
      "astro_50_upper    \t   40.6317  \t 3.2618  \t 0.469741 \t [yr^-1] \n",
      "astro_median    \t   8.5503  \t 0.475779  \t 0.0988496 \t [yr^-1] \n",
      "astro_50_lower    \t   2.16296  \t 0.105934  \t 0.0250058 \t [yr^-1] \n",
      "astro_90_lower    \t   0.219908  \t 0.00678825  \t 0.00254235 \t [yr^-1] \n"
     ]
    }
   ],
   "source": [
    "#strong lensing rate (assumed)\n",
    "\n",
    "barNsl = lambda_sl[1] #LISA at z=5, optimistic bc it is at high end\n",
    "\n",
    "datasets = ['agnostic_90_upper', 'agnostic_50_upper', 'agnostic_median','agnostic_50_lower', 'astro_90_upper', 'astro_50_upper' , 'astro_median', 'astro_50_lower', 'astro_90_lower']\n",
    "names = ['Agnostic 95\\%', 'Agnostic 75\\%',  'Agnostic 50\\%' , 'Agnostic 25\\%', 'Astro 95\\%', 'Astro 75\\%' , 'Astro 50\\%', 'Astro 25\\%', 'Astro 5\\%']\n",
    "\n",
    "print('Limit  \\t \\t  \\t    N_tot  \\t  N_wo \\t \\t N_sl')\n",
    "for i,n in enumerate(datasets):\n",
    "    d = pta_data[n]\n",
    "    Ntot = simps(d[:,1],np.log10(d[:,0]))\n",
    "    Nwo = simps(d[:,1]*barNwo(d[:,0]),np.log10(d[:,0]))\n",
    "    Nsl = simps(d[:,1]*barNsl,np.log10(d[:,0]))\n",
    "    print(n,'   \\t   %g  \\t %g  \\t %g \\t [yr^-1] '%(Ntot, Nwo, Nsl))"
   ]
  },
  {
   "cell_type": "code",
   "execution_count": 21,
   "id": "c671e70d",
   "metadata": {},
   "outputs": [
    {
     "name": "stdout",
     "output_type": "stream",
     "text": [
      "0.22, 0.0068, 0.0025\n"
     ]
    }
   ],
   "source": [
    "print('%s, %s, %s' % tuple(latex_float(n) for n in [Ntot, Nwo, Nsl]))\n"
   ]
  },
  {
   "cell_type": "code",
   "execution_count": 22,
   "id": "fdc34777",
   "metadata": {},
   "outputs": [
    {
     "name": "stdout",
     "output_type": "stream",
     "text": [
      "Limit &  $\\dot N_{\\rm det}$ &  $\\dot N_{\\rm WO}$ & $\\dot N_{\\rm SL}$ \\\\ \\hline\n",
      "Agnostic 95\\%  & $1.3 \\cdot 10^{5}$ & $2.6 \\cdot 10^{4}$  & $1.5 \\cdot 10^{3}$  \\\\\n",
      "Agnostic 75\\%  & $5.2 \\cdot 10^{3}$ & $1 \\cdot 10^{3}$  & $60$  \\\\\n",
      "Agnostic 50\\%  & $66$ & $8.8$  & $0.77$  \\\\\n",
      "Agnostic 25\\%  & $0.076$ & $0.0047$  & $0.00088$  \\\\\n",
      "\\hline\n",
      "Astro 95\\%  & $3.3 \\cdot 10^{2}$ & $35$  & $3.8$  \\\\\n",
      "Astro 75\\%  & $41$ & $3.3$  & $0.47$  \\\\\n",
      "Astro 50\\%  & $8.6$ & $0.48$  & $0.099$  \\\\\n",
      "Astro 25\\%  & $2.2$ & $0.11$  & $0.025$  \\\\\n",
      "Astro 5\\%  & $0.22$ & $0.0068$  & $0.0025$  \\\\\n",
      "\\hline\n"
     ]
    }
   ],
   "source": [
    "print(r'Limit &  $\\dot N_{\\rm det}$ &  $\\dot N_{\\rm WO}$ & $\\dot N_{\\rm SL}$ \\\\ \\hline')\n",
    "for i,n in enumerate(datasets):\n",
    "    d = pta_data[n]\n",
    "    Ntot = simps(d[:,1],np.log10(d[:,0]))\n",
    "    Nwo = simps(d[:,1]*barNwo(d[:,0]),np.log10(d[:,0]))\n",
    "    Nsl = simps(d[:,1]*barNsl,np.log10(d[:,0]))\n",
    "    print(names[i],r' & $%s$ & $%s$  & $%s$  \\\\'%tuple([latex_float(n) for n in [Ntot, Nwo, Nsl]]))\n",
    "    if i ==3:\n",
    "        print('\\hline')\n",
    "print('\\hline')"
   ]
  },
  {
   "cell_type": "markdown",
   "id": "4ee28d9e",
   "metadata": {},
   "source": [
    "Note: the rudimentary observable is the ratio $N_{WO}/N_{det} \\propto \\bar N_{WO}$, but we need to account for hte Poisson nature of the numbers to get intervals. We can use the classical method in Ref https://iopscience.iop.org/article/10.1086/507406/pdf, Eq. 3 (the point of the paper is to do a more principled analysis)"
   ]
  },
  {
   "cell_type": "code",
   "execution_count": 321,
   "id": "e83df3a0",
   "metadata": {},
   "outputs": [
    {
     "data": {
      "image/png": "[encoded data removed]",
      "text/plain": [
       "<Figure size 432x288 with 1 Axes>"
      ]
     },
     "metadata": {
      "needs_background": "light"
     },
     "output_type": "display_data"
    }
   ],
   "source": [
    "from scipy.special import gamma\n",
    "\n",
    "def prob_poisson(k,rate):\n",
    "    \n",
    "    return rate**k/gamma(k+1)*np.exp(-rate)\n",
    "\n",
    "k = np.linspace(0,20,100)\n",
    "for rate in [0.1,1,5]:\n",
    "    plt.plot(k,prob_poisson(k,rate))\n",
    "\n",
    "        "
   ]
  },
  {
   "cell_type": "code",
   "execution_count": 330,
   "id": "e5d5f9f0",
   "metadata": {},
   "outputs": [
    {
     "data": {
      "image/png": "[encoded data removed]",
      "text/plain": [
       "<Figure size 432x288 with 1 Axes>"
      ]
     },
     "metadata": {
      "needs_background": "light"
     },
     "output_type": "display_data"
    }
   ],
   "source": [
    "def sigma_gauss_lim(S,H):\n",
    "    ''' standard deviation of a ratio of Poisson distributions in the Gaussian limit, \n",
    "    Eq 3 for S/H of  https://iopscience.iop.org/article/10.1086/507406/pdf, using Gehrels criterion, \n",
    "    setting no background (r->infty)'''\n",
    "    def sg(x):\n",
    "        return np.sqrt(x+0.75)+1\n",
    "    \n",
    "    sS = sg(S)\n",
    "    sH = sg(H)\n",
    "    \n",
    "    return S/H*np.sqrt((sS/S)**2+(sH/H)**2)\n",
    "    \n",
    "n = np.geomspace(1,1000)\n",
    "\n",
    "for rate in [0.01,0.1]:\n",
    "    plt.loglog(n,sigma_gauss_lim(rate*n,n))\n",
    "    \n",
    "plt.grid()"
   ]
  },
  {
   "cell_type": "code",
   "execution_count": 338,
   "id": "abd232dd",
   "metadata": {},
   "outputs": [
    {
     "name": "stdout",
     "output_type": "stream",
     "text": [
      "Limit  \t \t  \t    N_tot  \t  N_wo \t \t N_sl \t \t sigma_x \n",
      "\n",
      "agnostic_90_upper    \t   127395  \t 16005.6  \t 560.54, \t 4.73e-04 \t [yr^-1] \n",
      "agnostic_50_upper    \t   5210.88  \t 629.121  \t 22.9279, \t 2.32e-03 \t [yr^-1] \n",
      "agnostic_median    \t   66.3417  \t 5.62406  \t 0.291903, \t 1.98e-02 \t [yr^-1] \n",
      "agnostic_50_lower    \t   0.075736  \t 0.00335758  \t 0.000333239, \t 4.96e+00 \t [yr^-1] \n",
      "astro_90_upper    \t   327.526  \t 22.6689  \t 1.44111, \t 7.35e-03 \t [yr^-1] \n",
      "astro_50_upper    \t   40.6317  \t 2.15508  \t 0.178779, \t 2.20e-02 \t [yr^-1] \n",
      "astro_median    \t   8.5503  \t 0.323229  \t 0.0376213, \t 5.98e-02 \t [yr^-1] \n",
      "astro_50_lower    \t   2.16296  \t 0.0729789  \t 0.009517, \t 1.91e-01 \t [yr^-1] \n",
      "astro_90_lower    \t   0.219908  \t 0.00478777  \t 0.000967597, \t 1.71e+00 \t [yr^-1] \n"
     ]
    }
   ],
   "source": [
    "T = 5 #in years\n",
    "print('Limit  \\t \\t  \\t    N_tot  \\t  N_wo \\t \\t N_sl \\t \\t sigma_x \\n')\n",
    "for i,n in enumerate(datasets):\n",
    "    d = pta_data[n]\n",
    "    Ntot = simps(d[:,1],np.log10(d[:,0]))\n",
    "    Nwo = simps(d[:,1]*barNwo(d[:,0]),np.log10(d[:,0]))\n",
    "    Nsl = simps(d[:,1]*barNsl,np.log10(d[:,0]))\n",
    "    \n",
    "    sigma_x = sigma_gauss_lim(Nwo*T,Ntot*T)\n",
    "    \n",
    "    print(n,'   \\t   %g  \\t %g  \\t %g, \\t %.2e \\t [yr^-1] '%(Ntot, Nwo, Nsl, sigma_x))"
   ]
  },
  {
   "cell_type": "code",
   "execution_count": 21,
   "id": "73dc3a7c",
   "metadata": {},
   "outputs": [
    {
     "data": {
      "image/png": "[encoded data removed]",
      "text/plain": [
       "<Figure size 432x288 with 1 Axes>"
      ]
     },
     "metadata": {
      "needs_background": "light"
     },
     "output_type": "display_data"
    }
   ],
   "source": [
    "#need to sample likelihood\n",
    "\n",
    "\n",
    "kdet = 1000\n",
    "kwo = 10\n",
    "\n",
    "# if rescale==0:\n",
    "#     rescale = 1e-5\n",
    "\n",
    "n = 0.75\n",
    "rescale = kwo**n \n",
    "rlim = np.max([100/kdet**n,2])\n",
    "f = np.geomspace(0.001*rescale,1000/rescale,1000)\n",
    "r = np.geomspace(1/rlim,rlim,100)\n",
    "F, R = np.meshgrid(f,r)\n",
    "\n",
    "\n",
    "L = poiss.pmf(np.floor(kdet),kdet*R)*poiss.pmf(np.floor(kwo),kwo*R*F)\n",
    "\n",
    "\n",
    "plt.contourf(F,R,L)\n",
    "plt.xscale('log')\n",
    "plt.yscale('log')"
   ]
  },
  {
   "cell_type": "code",
   "execution_count": 22,
   "id": "413bb9c0",
   "metadata": {},
   "outputs": [
    {
     "name": "stdout",
     "output_type": "stream",
     "text": [
      "[0.61568971 1.70236769]\n"
     ]
    },
    {
     "data": {
      "image/png": "[encoded data removed]",
      "text/plain": [
       "<Figure size 432x288 with 1 Axes>"
      ]
     },
     "metadata": {
      "needs_background": "light"
     },
     "output_type": "display_data"
    }
   ],
   "source": [
    "#marginalize\n",
    "\n",
    "Lf = simps(L,R,axis=0)\n",
    "\n",
    "# plt.semilogx(f,Lf)\n",
    "cumLf = cumtrapz(Lf,f,initial=0)\n",
    "cumLf/=cumLf[-1]\n",
    "plt.semilogx(f,cumLf)\n",
    "\n",
    "lims = griddata(cumLf,f,[0.05,0.95])\n",
    "print(lims)\n",
    "\n",
    "# print(np.quantile(cumLf,[0.05,0.95]))"
   ]
  },
  {
   "cell_type": "markdown",
   "id": "6f3bda71",
   "metadata": {},
   "source": [
    "### Sampling ratio wo/det\n",
    "* good approximation to grid for Nwo>1, but more constraining\n",
    "* can't give bounds when Nwo<1"
   ]
  },
  {
   "cell_type": "code",
   "execution_count": 437,
   "id": "45f7077e",
   "metadata": {},
   "outputs": [
    {
     "name": "stdout",
     "output_type": "stream",
     "text": [
      "Limit  &  5\\%  & 95\\% \\\\\n",
      "\\hline\n",
      "Agnostic 95\\%  & $0.996$ & $1.004$  \\\\\n",
      "Agnostic 75\\%  & $0.981$ & $1.019$  \\\\\n",
      "Agnostic 50\\%  & $0.779$ & $1.206$  \\\\\n",
      "Agnostic 25\\%  & $-$ & $-$  \\\\\n",
      "\\hline\n",
      "Astro 95\\%  & $0.883$ & $1.111$  \\\\\n",
      "Astro 75\\%  & $0.618$ & $1.347$  \\\\\n",
      "Astro 50\\%  & $-$ & $-$  \\\\\n",
      "Astro 25\\%  & $-$ & $-$  \\\\\n",
      "Astro 5\\%  & $-$ & $-$  \\\\\n",
      "\\hline\n"
     ]
    },
    {
     "name": "stderr",
     "output_type": "stream",
     "text": [
      "<ipython-input-437-0e7e7dfd777f>:24: RuntimeWarning: invalid value encountered in divide\n",
      "  sample = np.sort(dist_wo)/np.sort(dist_det)\n"
     ]
    }
   ],
   "source": [
    "T = 5 #in years\n",
    "Nsample = 10000\n",
    "\n",
    "distributions = {}\n",
    "labels ={}\n",
    "\n",
    "print(r'Limit  &  5\\%  & 95\\% \\\\')\n",
    "print('\\hline')\n",
    "for i,n in enumerate(datasets): #(['agnostic_50_lower']):\n",
    "    d = pta_data[n]\n",
    "    Ntot = simps(d[:,1],np.log10(d[:,0]))\n",
    "    Nwo = simps(d[:,1]*barNwo(d[:,0]),np.log10(d[:,0]))\n",
    "    \n",
    "    barNfid = Nwo/Ntot\n",
    "    \n",
    "    Nsl = simps(d[:,1]*barNsl,np.log10(d[:,0]))\n",
    "    \n",
    "    dist_det = poisson(Ntot*T,Nsample)\n",
    "    dist_wo = poisson(Nwo*T,Nsample)\n",
    "#     plt.scatter(np.sort(dist_det),np.sort(dist_wo))\n",
    "#     plt.hist(dist_det)\n",
    "#     plt.hist(dist_wo)\n",
    "    \n",
    "    sample = np.sort(dist_wo)/np.sort(dist_det)\n",
    "    sample[np.isnan(sample)] = 0\n",
    "#     plt.hist(sample)    \n",
    "    \n",
    "    distributions[n] = sample\n",
    "    labels[n] = names[i]\n",
    "    \n",
    "    limits = np.quantile(sample,[0.05,0.5,0.95])/barNfid\n",
    "    \n",
    "    if np.all(limits) == 0:\n",
    "        print(names[i],r' & $-$ & $-$  \\\\')\n",
    "    else:\n",
    "        print(names[i],r' & $%.3f$ & $%.3f$  \\\\'%tuple([limits[n] for n in [0,2]]))\n",
    "    if i ==3:\n",
    "        print('\\hline')\n",
    "print('\\hline')\n",
    "#     print('%g, %g'%(limits.mean(),np.std(limits)))\n",
    "#     print('%g'%(sigma_gauss_lim(Nwo,Ntot)*barNfid))"
   ]
  },
  {
   "cell_type": "code",
   "execution_count": 412,
   "id": "f8ff83df",
   "metadata": {},
   "outputs": [
    {
     "data": {
      "image/png": "[encoded data removed]",
      "text/plain": [
       "<Figure size 864x432 with 3 Axes>"
      ]
     },
     "metadata": {
      "needs_background": "light"
     },
     "output_type": "display_data"
    }
   ],
   "source": [
    "import seaborn as sns\n",
    "import matplotlib.pyplot as plt\n",
    "\n",
    "# Example distributions dictionary\n",
    "distributions = {\n",
    "    'variable1': [1, 2, 3, 4, 5],\n",
    "    'variable2': [2, 4, 6, 8, 10],\n",
    "    'variable3': [5, 10, 15, 20, 25]\n",
    "}\n",
    "\n",
    "# Set the figure size and number of columns\n",
    "plt.figure(figsize=(12, 6))\n",
    "num_columns = len(distributions)\n",
    "\n",
    "# Iterate over the distributions and create violin plots\n",
    "for i, (var_name, data) in enumerate(distributions.items()):\n",
    "    plt.subplot(1, num_columns, i + 1)\n",
    "    sns.violinplot(y=data)\n",
    "    plt.title(var_name)\n",
    "\n",
    "# Adjust the spacing between subplots\n",
    "plt.tight_layout()\n",
    "\n",
    "# Display the violin plots\n",
    "plt.show()\n"
   ]
  },
  {
   "cell_type": "code",
   "execution_count": null,
   "id": "c09bf5dd",
   "metadata": {},
   "outputs": [],
   "source": []
  }
 ],
 "metadata": {
  "kernelspec": {
   "display_name": "Python 3",
   "language": "python",
   "name": "python3"
  },
  "language_info": {
   "codemirror_mode": {
    "name": "ipython",
    "version": 3
   },
   "file_extension": ".py",
   "mimetype": "text/x-python",
   "name": "python",
   "nbconvert_exporter": "python",
   "pygments_lexer": "ipython3",
   "version": "3.8.10"
  }
 },
 "nbformat": 4,
 "nbformat_minor": 5
}
