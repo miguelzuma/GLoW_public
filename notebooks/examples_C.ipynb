{
 "cells": [
  {
   "cell_type": "code",
   "execution_count": null,
   "metadata": {
    "ExecuteTime": {
     "end_time": "2023-05-03T14:37:26.834523Z",
     "start_time": "2023-05-03T14:37:25.679800Z"
    },
    "execution": {
     "iopub.execute_input": "2024-07-22T15:17:05.120908Z",
     "iopub.status.busy": "2024-07-22T15:17:05.120496Z",
     "iopub.status.idle": "2024-07-22T15:17:06.113548Z",
     "shell.execute_reply": "2024-07-22T15:17:06.112487Z",
     "shell.execute_reply.started": "2024-07-22T15:17:05.120866Z"
    }
   },
   "outputs": [],
   "source": [
    "import numpy as np\n",
    "import matplotlib\n",
    "import matplotlib.pyplot as plt\n",
    "\n",
    "from glow import lenses, time_domain_c, freq_domain_c, wrapper"
   ]
  },
  {
   "cell_type": "markdown",
   "metadata": {
    "heading_collapsed": true,
    "jp-MarkdownHeadingCollapsed": true
   },
   "source": [
    "# Overview"
   ]
  },
  {
   "cell_type": "markdown",
   "metadata": {
    "hidden": true
   },
   "source": [
    "The core of this module is written in C, it can be used in three ways:\n",
    "  - Directly from C: the syntax, types of 'objects' etc. are similar to the Python version. There are examples in wrapper/glow_lib/tests (not proper examples, since this are just auxiliary test files) \n",
    "  - Directly from Python: the wrapper can be used independently from any other of our Python modules (see Testing performance section below). However it is not fully functional since even though most of the algorithms are C based, they are still interfaced through Python.\n",
    "  - **(Preferred)** Through `time_domain_c.py` and `freq_domain_c.py`: the new objects included here can be used in the same way as the ones in `time_domain.py` and `freq_domain.py`, i.e. they can be interfaced with `lenses.py`. **However** keep in mind that a change in the lenses will either not have any effect or (hopefully) the code will break down. The implementation of the lenses in C and Python are independent and the wrapper only translates the physical parameters from Python to C.\n",
    " \n",
    "Finally, the two sets (`time_domain.py`, `freq_domain.py`) and (`time_domain_c.py`, `freq_domain_c.py`) are totally independent of each other. The first one is written in full Python, while the second one relies on compiled code (C and Cython)."
   ]
  },
  {
   "cell_type": "markdown",
   "metadata": {
    "heading_collapsed": true,
    "jp-MarkdownHeadingCollapsed": true
   },
   "source": [
    "# Time domain"
   ]
  },
  {
   "cell_type": "markdown",
   "metadata": {
    "heading_collapsed": true,
    "hidden": true,
    "jp-MarkdownHeadingCollapsed": true
   },
   "source": [
    "## Single contour"
   ]
  },
  {
   "cell_type": "markdown",
   "metadata": {
    "hidden": true
   },
   "source": [
    "This object performs the exact computation of $I(\\tau)$ for an arbitrary lens assuming that there is only one critical point in the Fermat potential (i.e. the minimum). The algorithm tries to find the first two critical points starting from the origin and infinity, and will not proceed if they do not coincide."
   ]
  },
  {
   "cell_type": "markdown",
   "metadata": {
    "hidden": true
   },
   "source": [
    "By default, $I(\\tau)$ is precomputed on a grid and can then be evaluated at any point using an interpolation function (computed internally)"
   ]
  },
  {
   "cell_type": "code",
   "execution_count": null,
   "metadata": {
    "ExecuteTime": {
     "end_time": "2023-05-03T14:37:34.293433Z",
     "start_time": "2023-05-03T14:37:34.213966Z"
    },
    "execution": {
     "iopub.execute_input": "2024-07-22T15:17:08.965332Z",
     "iopub.status.busy": "2024-07-22T15:17:08.964834Z",
     "iopub.status.idle": "2024-07-22T15:17:09.070336Z",
     "shell.execute_reply": "2024-07-22T15:17:09.068820Z",
     "shell.execute_reply.started": "2024-07-22T15:17:08.965284Z"
    },
    "hidden": true
   },
   "outputs": [],
   "source": [
    "Psi = lenses.Psi_CIS()\n",
    "\n",
    "# impact parameter\n",
    "y = 1.4\n",
    "\n",
    "# parameters for the temporal grid\n",
    "p_prec = {'tmin' : 1e-3,\n",
    "          'tmax' : 100,\n",
    "          'Nt' : 5000}\n",
    "\n",
    "It = time_domain_c.It_SingleContour_C(Psi, y, p_prec)"
   ]
  },
  {
   "cell_type": "markdown",
   "metadata": {
    "hidden": true
   },
   "source": [
    "We can then work with it, either accessing its grid points (`It.t_grid`, `It.It_grid`) or use its interpolation function"
   ]
  },
  {
   "cell_type": "code",
   "execution_count": null,
   "metadata": {
    "ExecuteTime": {
     "end_time": "2023-05-03T14:37:35.941470Z",
     "start_time": "2023-05-03T14:37:35.094069Z"
    },
    "execution": {
     "iopub.execute_input": "2024-07-22T15:17:09.517832Z",
     "iopub.status.busy": "2024-07-22T15:17:09.517373Z",
     "iopub.status.idle": "2024-07-22T15:17:10.544990Z",
     "shell.execute_reply": "2024-07-22T15:17:10.543993Z",
     "shell.execute_reply.started": "2024-07-22T15:17:09.517791Z"
    },
    "hidden": true
   },
   "outputs": [],
   "source": [
    "taus = np.geomspace(1e-1, 10, 10000)\n",
    "\n",
    "fig, ax = plt.subplots()\n",
    "\n",
    "ax.plot(taus, It(taus)/2/np.pi, label=It.lens.p_phys['name'])\n",
    "\n",
    "ax.set_xlabel(r'$\\tau$')\n",
    "ax.set_ylabel(r'$I(\\tau)/2\\pi$')\n",
    "ax.set_xscale('log')\n",
    "ax.legend(loc='best');"
   ]
  },
  {
   "cell_type": "markdown",
   "metadata": {
    "hidden": true
   },
   "source": [
    "We can display the precision parameters as shown below. An important option is `parallel` (switched on by default), that allows for the computation to be performed in parallel (with OMP)."
   ]
  },
  {
   "cell_type": "code",
   "execution_count": null,
   "metadata": {
    "ExecuteTime": {
     "end_time": "2023-05-03T14:37:36.029800Z",
     "start_time": "2023-05-03T14:37:36.018406Z"
    },
    "execution": {
     "iopub.execute_input": "2024-07-22T15:17:10.549429Z",
     "iopub.status.busy": "2024-07-22T15:17:10.548517Z",
     "iopub.status.idle": "2024-07-22T15:17:10.555406Z",
     "shell.execute_reply": "2024-07-22T15:17:10.554159Z",
     "shell.execute_reply.started": "2024-07-22T15:17:10.549392Z"
    },
    "hidden": true
   },
   "outputs": [],
   "source": [
    "It.display_info()"
   ]
  },
  {
   "cell_type": "markdown",
   "metadata": {
    "hidden": true
   },
   "source": [
    "Another important option is `eval_mode = exact` (by default `eval_mode = interpolate`). In this case the grid is not precomputed, and the evaluation of the object computes the integral at any point requested without using interpolation."
   ]
  },
  {
   "cell_type": "code",
   "execution_count": null,
   "metadata": {
    "ExecuteTime": {
     "end_time": "2023-05-03T14:37:37.987928Z",
     "start_time": "2023-05-03T14:37:37.419055Z"
    },
    "execution": {
     "iopub.execute_input": "2024-07-22T15:17:10.846005Z",
     "iopub.status.busy": "2024-07-22T15:17:10.845509Z",
     "iopub.status.idle": "2024-07-22T15:17:11.575748Z",
     "shell.execute_reply": "2024-07-22T15:17:11.574555Z",
     "shell.execute_reply.started": "2024-07-22T15:17:10.845959Z"
    },
    "hidden": true
   },
   "outputs": [],
   "source": [
    "Psi = lenses.Psi_CIS()\n",
    "\n",
    "y = 1.4\n",
    "p_prec = {'eval_mode' : 'exact'}\n",
    "\n",
    "It = time_domain_c.It_SingleContour_C(Psi, y, p_prec)\n",
    "\n",
    "## ---------------------------------------------------\n",
    "\n",
    "taus = np.geomspace(1e-1, 10, 10000)\n",
    "Its = It.eval_It(taus)/2/np.pi\n",
    "\n",
    "fig, ax = plt.subplots()\n",
    "\n",
    "ax.plot(taus, Its, label=It.lens.p_phys['name'])\n",
    "\n",
    "ax.set_xlabel(r'$\\tau$')\n",
    "ax.set_ylabel(r'$I(\\tau)/2\\pi$')\n",
    "ax.set_xscale('log')\n",
    "ax.legend(loc='best');"
   ]
  },
  {
   "cell_type": "markdown",
   "metadata": {},
   "source": [
    "We can also compute the Green function $G(\\tau)$"
   ]
  },
  {
   "cell_type": "code",
   "execution_count": null,
   "metadata": {
    "execution": {
     "iopub.execute_input": "2024-07-22T15:17:11.578179Z",
     "iopub.status.busy": "2024-07-22T15:17:11.577726Z",
     "iopub.status.idle": "2024-07-22T15:17:12.164573Z",
     "shell.execute_reply": "2024-07-22T15:17:12.163370Z",
     "shell.execute_reply.started": "2024-07-22T15:17:11.578139Z"
    }
   },
   "outputs": [],
   "source": [
    "Psi = lenses.Psi_CIS()\n",
    "\n",
    "y = 1.4\n",
    "p_prec = {'eval_mode' : 'exact'}\n",
    "\n",
    "It = time_domain_c.It_SingleContour_C(Psi, y, p_prec)\n",
    "\n",
    "## ---------------------------------------------------\n",
    "\n",
    "taus = np.geomspace(1e-1, 10, 1000)\n",
    "Gts = It.eval_Gt(taus, dt=1e-3)  # default value dt=1e-4\n",
    "\n",
    "fig, ax = plt.subplots()\n",
    "\n",
    "ax.plot(taus, Gts, label=It.lens.p_phys['name'])\n",
    "\n",
    "ax.set_xlabel(r'$\\tau$')\n",
    "ax.set_ylabel(r'$G(\\tau)=dI(\\tau)/d\\tau/2\\pi$')\n",
    "ax.set_xscale('log')\n",
    "ax.legend(loc='best');"
   ]
  },
  {
   "cell_type": "markdown",
   "metadata": {
    "heading_collapsed": true,
    "hidden": true,
    "jp-MarkdownHeadingCollapsed": true
   },
   "source": [
    "## Analytic SIS"
   ]
  },
  {
   "cell_type": "markdown",
   "metadata": {
    "hidden": true
   },
   "source": [
    "Implementation of the analytic formula for the SIS in the time domain."
   ]
  },
  {
   "cell_type": "code",
   "execution_count": null,
   "metadata": {
    "ExecuteTime": {
     "end_time": "2023-05-03T14:37:39.881400Z",
     "start_time": "2023-05-03T14:37:39.428710Z"
    },
    "execution": {
     "iopub.execute_input": "2024-07-22T15:17:12.440224Z",
     "iopub.status.busy": "2024-07-22T15:17:12.439113Z",
     "iopub.status.idle": "2024-07-22T15:17:13.030804Z",
     "shell.execute_reply": "2024-07-22T15:17:13.029442Z",
     "shell.execute_reply.started": "2024-07-22T15:17:12.440173Z"
    },
    "hidden": true
   },
   "outputs": [],
   "source": [
    "y = 0.3\n",
    "p_prec = {'eval_mode' : 'exact'}\n",
    "\n",
    "It_SIS = time_domain_c.It_AnalyticSIS_C(y, p_prec)\n",
    "\n",
    "## -----------------------------------------------\n",
    "\n",
    "taus = np.geomspace(1e-1, 10, 10000)\n",
    "Its = It_SIS(taus)/2/np.pi\n",
    "\n",
    "fig, ax = plt.subplots()\n",
    "\n",
    "ax.plot(taus, Its, label='SIS')\n",
    "\n",
    "ax.set_xlabel(r'$\\tau$')\n",
    "ax.set_ylabel(r'$I(\\tau)/2\\pi$')\n",
    "ax.set_xscale('log')\n",
    "ax.legend(loc='best');"
   ]
  },
  {
   "cell_type": "markdown",
   "metadata": {},
   "source": [
    "And the Green function is"
   ]
  },
  {
   "cell_type": "code",
   "execution_count": null,
   "metadata": {
    "execution": {
     "iopub.execute_input": "2024-07-22T15:17:13.039364Z",
     "iopub.status.busy": "2024-07-22T15:17:13.038865Z",
     "iopub.status.idle": "2024-07-22T15:17:13.711752Z",
     "shell.execute_reply": "2024-07-22T15:17:13.710797Z",
     "shell.execute_reply.started": "2024-07-22T15:17:13.039319Z"
    }
   },
   "outputs": [],
   "source": [
    "y = 0.3\n",
    "p_prec = {'eval_mode' : 'exact'}\n",
    "\n",
    "It_SIS = time_domain_c.It_AnalyticSIS_C(y, p_prec)\n",
    "\n",
    "## -----------------------------------------------\n",
    "\n",
    "taus = np.geomspace(1e-1, 10, 10000)\n",
    "Gts = It_SIS.eval_Gt(taus)\n",
    "\n",
    "fig, ax = plt.subplots()\n",
    "\n",
    "ax.plot(taus, Gts, label='SIS')\n",
    "\n",
    "ax.set_xlabel(r'$\\tau$')\n",
    "ax.set_ylabel(r'$G(\\tau)=dI(\\tau)/d\\tau/2\\pi$')\n",
    "ax.set_xscale('log')\n",
    "ax.set_ylim([-15, 15])\n",
    "ax.axhline(y=0, c='grey', alpha=0.5)\n",
    "ax.legend(loc='best');"
   ]
  },
  {
   "cell_type": "markdown",
   "metadata": {
    "heading_collapsed": true,
    "hidden": true,
    "jp-MarkdownHeadingCollapsed": true
   },
   "source": [
    "## Single integral"
   ]
  },
  {
   "cell_type": "markdown",
   "metadata": {},
   "source": [
    "This method reduces the difraction integral in the time domain, i.e. a 2d integral of a Dirac delta, to a single ordinary integral for axisymmetric lenses. It can handle strong lensing, but it is limited to axisymmetric lenses. "
   ]
  },
  {
   "cell_type": "markdown",
   "metadata": {
    "hidden": true
   },
   "source": [
    "Strong lensing examples for the CIS and NFW:"
   ]
  },
  {
   "cell_type": "code",
   "execution_count": null,
   "metadata": {
    "ExecuteTime": {
     "end_time": "2023-05-03T14:37:41.973026Z",
     "start_time": "2023-05-03T14:37:41.455465Z"
    },
    "execution": {
     "iopub.execute_input": "2024-07-22T15:17:14.294395Z",
     "iopub.status.busy": "2024-07-22T15:17:14.293608Z",
     "iopub.status.idle": "2024-07-22T15:17:14.809609Z",
     "shell.execute_reply": "2024-07-22T15:17:14.808589Z",
     "shell.execute_reply.started": "2024-07-22T15:17:14.294365Z"
    },
    "hidden": true
   },
   "outputs": [],
   "source": [
    "Psi = lenses.Psi_CIS()\n",
    "\n",
    "y = 0.3\n",
    "p_prec = {'eval_mode':'exact'}\n",
    "\n",
    "It = time_domain_c.It_SingleIntegral_C(Psi, y, p_prec)\n",
    "\n",
    "## ---------------------------------------------------------\n",
    "\n",
    "taus = np.geomspace(1e-1, 10, 1000)\n",
    "\n",
    "fig, ax = plt.subplots()\n",
    "\n",
    "ax.plot(taus, It(taus)/2/np.pi, label=It.lens.p_phys['name'])\n",
    "\n",
    "ax.set_xlabel(r'$\\tau$')\n",
    "ax.set_ylabel(r'$I(\\tau)/2\\pi$')\n",
    "ax.set_xscale('log')\n",
    "ax.legend(loc='best');"
   ]
  },
  {
   "cell_type": "markdown",
   "metadata": {
    "hidden": true
   },
   "source": [
    "The step function is built-in in the exact mode:"
   ]
  },
  {
   "cell_type": "code",
   "execution_count": null,
   "metadata": {
    "ExecuteTime": {
     "end_time": "2023-05-03T14:37:43.630282Z",
     "start_time": "2023-05-03T14:37:43.192366Z"
    },
    "execution": {
     "iopub.execute_input": "2024-07-22T15:17:14.944698Z",
     "iopub.status.busy": "2024-07-22T15:17:14.944190Z",
     "iopub.status.idle": "2024-07-22T15:17:15.248770Z",
     "shell.execute_reply": "2024-07-22T15:17:15.247478Z",
     "shell.execute_reply.started": "2024-07-22T15:17:14.944654Z"
    },
    "hidden": true
   },
   "outputs": [],
   "source": [
    "Psi = lenses.Psi_NFW({'xs':0.1})\n",
    "\n",
    "y = 0.3\n",
    "p_prec = {'eval_mode':'exact'}\n",
    "\n",
    "It = time_domain_c.It_SingleIntegral_C(Psi, y, p_prec)\n",
    "\n",
    "## ---------------------------------------------------------\n",
    "\n",
    "taus = np.linspace(-0.1, 2, 1000)\n",
    "\n",
    "fig, ax = plt.subplots()\n",
    "\n",
    "ax.plot(taus, It(taus)/2/np.pi, label=It.lens.p_phys['name'])\n",
    "\n",
    "ax.set_xlabel(r'$\\tau$')\n",
    "ax.set_ylabel(r'$I(\\tau)/2\\pi$')\n",
    "ax.legend(loc='best');"
   ]
  },
  {
   "cell_type": "markdown",
   "metadata": {
    "heading_collapsed": true,
    "hidden": true,
    "jp-MarkdownHeadingCollapsed": true
   },
   "source": [
    "## Area integral"
   ]
  },
  {
   "cell_type": "markdown",
   "metadata": {
    "hidden": true
   },
   "source": [
    "This method is slow and noisy compared with the others, and its current implementation is very naive. However, it has been included to cross-check the results of the other methods, since it can be equally applied to any lens and it requires minimal extra information. In particular, it is the only method where the computation of the images is not required (only the global minimum is needed)."
   ]
  },
  {
   "cell_type": "code",
   "execution_count": null,
   "metadata": {
    "ExecuteTime": {
     "end_time": "2023-05-03T14:37:47.007545Z",
     "start_time": "2023-05-03T14:37:45.413776Z"
    },
    "execution": {
     "iopub.execute_input": "2024-07-22T15:17:15.907900Z",
     "iopub.status.busy": "2024-07-22T15:17:15.907220Z",
     "iopub.status.idle": "2024-07-22T15:17:17.118331Z",
     "shell.execute_reply": "2024-07-22T15:17:17.116689Z",
     "shell.execute_reply.started": "2024-07-22T15:17:15.907871Z"
    },
    "hidden": true
   },
   "outputs": [],
   "source": [
    "Psi = lenses.Psi_CIS({'rc':0.1})\n",
    "\n",
    "y = 0.2\n",
    "p_prec = {'n_rho' : 20000,\n",
    "          'tmax' : 3,\n",
    "          'Nt' : 500}\n",
    "\n",
    "It = time_domain_c.It_AreaIntegral_C(Psi, y, p_prec)"
   ]
  },
  {
   "cell_type": "code",
   "execution_count": null,
   "metadata": {
    "ExecuteTime": {
     "end_time": "2023-05-03T14:37:47.447469Z",
     "start_time": "2023-05-03T14:37:47.170075Z"
    },
    "execution": {
     "iopub.execute_input": "2024-07-22T15:17:17.122354Z",
     "iopub.status.busy": "2024-07-22T15:17:17.120836Z",
     "iopub.status.idle": "2024-07-22T15:17:17.466403Z",
     "shell.execute_reply": "2024-07-22T15:17:17.465022Z",
     "shell.execute_reply.started": "2024-07-22T15:17:17.122294Z"
    },
    "hidden": true
   },
   "outputs": [],
   "source": [
    "fig, ax = plt.subplots()\n",
    "\n",
    "ax.plot(It.t_grid, It.It_grid/2/np.pi, label=It.lens.p_phys['name'])\n",
    "\n",
    "ax.set_xlabel(r'$\\tau$')\n",
    "ax.set_ylabel(r'$I(\\tau)/2\\pi$')\n",
    "ax.legend(loc='best');"
   ]
  },
  {
   "cell_type": "markdown",
   "metadata": {
    "heading_collapsed": true,
    "hidden": true,
    "jp-MarkdownHeadingCollapsed": true
   },
   "source": [
    "## Numerical lenses"
   ]
  },
  {
   "cell_type": "markdown",
   "metadata": {
    "hidden": true
   },
   "source": [
    "When the lens is not implemented in C, the code will try to precompute it in a grid, using the Python version, and then read it in C. There is a performance overhead, that can be mitigated reducing the size of the grid, but this feature will (hopefully) increase the flexibility of the code."
   ]
  },
  {
   "cell_type": "code",
   "execution_count": null,
   "metadata": {
    "ExecuteTime": {
     "end_time": "2023-05-03T14:37:49.812564Z",
     "start_time": "2023-05-03T14:37:49.549735Z"
    },
    "execution": {
     "iopub.execute_input": "2024-07-22T15:17:18.661352Z",
     "iopub.status.busy": "2024-07-22T15:17:18.659994Z",
     "iopub.status.idle": "2024-07-22T15:17:19.014399Z",
     "shell.execute_reply": "2024-07-22T15:17:19.013082Z",
     "shell.execute_reply.started": "2024-07-22T15:17:18.661296Z"
    },
    "hidden": true
   },
   "outputs": [],
   "source": [
    "Psi = lenses.Psi_SIS()\n",
    "Psi.p_phys['name'] = 'new SIS'\n",
    "\n",
    "y = 1.4\n",
    "p_prec = {'eval_mode' : 'interpolate'}\n",
    "It = time_domain_c.It_SingleContour_C(Psi, y, p_prec)"
   ]
  },
  {
   "cell_type": "markdown",
   "metadata": {
    "hidden": true
   },
   "source": [
    "For now, only axisymmetric lenses are allowed."
   ]
  },
  {
   "cell_type": "markdown",
   "metadata": {
    "jp-MarkdownHeadingCollapsed": true
   },
   "source": [
    "## Getting contours"
   ]
  },
  {
   "cell_type": "markdown",
   "metadata": {},
   "source": [
    "The `SingleContour`, `SingleIntegral` and `MultiContour` classes contain a method to output the contours of constant time delay."
   ]
  },
  {
   "cell_type": "code",
   "execution_count": null,
   "metadata": {
    "execution": {
     "iopub.execute_input": "2024-07-22T15:17:20.790389Z",
     "iopub.status.busy": "2024-07-22T15:17:20.788685Z",
     "iopub.status.idle": "2024-07-22T15:17:20.800932Z",
     "shell.execute_reply": "2024-07-22T15:17:20.799197Z",
     "shell.execute_reply.started": "2024-07-22T15:17:20.790322Z"
    }
   },
   "outputs": [],
   "source": [
    "# auxiliary function to map times to colors\n",
    "def color_scheme(ts, cmap='rainbow', log_norm=False):\n",
    "        if log_norm is True:\n",
    "            log_tmin = np.log10(ts[0])\n",
    "            log_tmax = np.log10(ts[-1])\n",
    "            normalization = (np.log10(ts) - log_tmin)/(log_tmax - log_tmin)\n",
    "        else:\n",
    "            normalization = (ts - ts[0])/(ts[-1] - ts[0])\n",
    "\n",
    "        cm = plt.colormaps.get_cmap(cmap)\n",
    "        colors = cm(normalization)\n",
    "    \n",
    "        return colors"
   ]
  },
  {
   "cell_type": "markdown",
   "metadata": {},
   "source": [
    "### Single contour"
   ]
  },
  {
   "cell_type": "markdown",
   "metadata": {},
   "source": [
    "We can obtain an array of contours for a given array of $\\tau$ values. We must also specify the number of points in the contour. Each point is obtained integrating the differential equation (not interpolating)."
   ]
  },
  {
   "cell_type": "code",
   "execution_count": null,
   "metadata": {
    "execution": {
     "iopub.execute_input": "2024-07-22T15:17:21.835779Z",
     "iopub.status.busy": "2024-07-22T15:17:21.835338Z",
     "iopub.status.idle": "2024-07-22T15:17:22.234631Z",
     "shell.execute_reply": "2024-07-22T15:17:22.233318Z",
     "shell.execute_reply.started": "2024-07-22T15:17:21.835750Z"
    }
   },
   "outputs": [],
   "source": [
    "y = 1.05\n",
    "Psi = lenses.Psi_SIS()\n",
    "It_std = time_domain_c.It_SingleContour_C(Psi, y, {'method':'standard', 'eval_mode':'exact'})\n",
    "        \n",
    "n_points = 100\n",
    "n_contours = 30\n",
    "ts = np.geomspace(1e-3, 10, n_contours)\n",
    "cnts_std = It_std.get_contour(ts, n_points=n_points)\n",
    "\n",
    "## ------------------------------------------------------------\n",
    "\n",
    "fig, ax = plt.subplots()\n",
    "for cnt, color in zip(cnts_std, color_scheme(ts)):\n",
    "    ax.plot(cnt['x1'], cnt['x2'], c=color)\n",
    "\n",
    "ax.set_aspect('equal')\n",
    "ax.set_title('%s $(y=%g)$' % (Psi.p_phys['name'], It_std.y))\n",
    "ax.set_xlabel('$x_1$')\n",
    "ax.set_ylabel('$x_2$');"
   ]
  },
  {
   "cell_type": "markdown",
   "metadata": {},
   "source": [
    "If the number of points is not specified (or set to be smaller than 1), then the contour contains the accepted points in the computation of $I(\\tau)$. This information is useful for debugging. In this method, we can also obtain the contours in terms of $(R, \\alpha)$, i.e. the polar coordinates actually used in the integration. Below we also compare with the 'robust' method, where the contours are computed as a parametric representation $R(\\sigma)$ and $\\alpha(\\sigma)$ (the variable $\\sigma$ is also stored in the contour dictionary)."
   ]
  },
  {
   "cell_type": "code",
   "execution_count": null,
   "metadata": {
    "execution": {
     "iopub.execute_input": "2024-07-22T15:17:22.416326Z",
     "iopub.status.busy": "2024-07-22T15:17:22.415735Z",
     "iopub.status.idle": "2024-07-22T15:17:23.202349Z",
     "shell.execute_reply": "2024-07-22T15:17:23.201112Z",
     "shell.execute_reply.started": "2024-07-22T15:17:22.416271Z"
    }
   },
   "outputs": [],
   "source": [
    "y = 1.05\n",
    "Psi = lenses.Psi_SIS()\n",
    "It_std = time_domain_c.It_SingleContour_C(Psi, y, {'method':'standard', 'eval_mode':'exact'})\n",
    "It_rob = time_domain_c.It_SingleContour_C(Psi, y, {'method':'robust', 'eval_mode':'exact'})\n",
    "\n",
    "n_contours = 30\n",
    "ts = np.geomspace(1e-3, 10, n_contours)\n",
    "cnts_std = It_std.get_contour(ts)\n",
    "cnts_rob = It_rob.get_contour(ts)\n",
    "\n",
    "## -----------------------------------------------------\n",
    "\n",
    "fig, (ax, ax2) = plt.subplots(ncols=2, figsize=(8, 4), gridspec_kw={'wspace':0.3})\n",
    "for cnt1, cnt2, color in zip(cnts_std, cnts_rob, color_scheme(ts)):\n",
    "    ax.plot(cnt1['x1'], cnt1['x2'], c=color)\n",
    "    ax.plot(cnt2['x1'], cnt2['x2'], c=color, ls='--')\n",
    "\n",
    "    ax2.plot(cnt1['alpha']/np.pi/2., cnt1['R'], c=color)\n",
    "    ax2.plot(cnt2['alpha']/np.pi/2., cnt2['R'], c=color, ls='--')\n",
    "    \n",
    "ax.set_aspect('equal')\n",
    "ax.set_title('%s $(y=%g)$' % (Psi.p_phys['name'], It_std.y))\n",
    "ax.set_xlabel('$x_1$')\n",
    "ax.set_ylabel('$x_2$')\n",
    "\n",
    "ax2.set_box_aspect(1)\n",
    "ax2.set_title('%s $(y=%g)$' % (Psi.p_phys['name'], It_std.y))\n",
    "ax2.set_xlabel('$\\\\alpha/2\\\\pi$')\n",
    "ax2.set_ylabel('$R$');"
   ]
  },
  {
   "cell_type": "markdown",
   "metadata": {},
   "source": [
    "### Single integral"
   ]
  },
  {
   "cell_type": "markdown",
   "metadata": {},
   "source": [
    "Even though in this algorithm the contours are irrelevant, they can also be computed. For debugging purposes, the relevant quantities in this method are the minimum an maximum values of $x_1$ at $x_2=0$ for a given contour. These set the upper and lower limits for the radial integral."
   ]
  },
  {
   "cell_type": "code",
   "execution_count": null,
   "metadata": {
    "execution": {
     "iopub.execute_input": "2024-07-22T15:17:23.385949Z",
     "iopub.status.busy": "2024-07-22T15:17:23.385164Z",
     "iopub.status.idle": "2024-07-22T15:17:23.788370Z",
     "shell.execute_reply": "2024-07-22T15:17:23.786672Z",
     "shell.execute_reply.started": "2024-07-22T15:17:23.385920Z"
    }
   },
   "outputs": [],
   "source": [
    "y = 0.1\n",
    "Psi = lenses.Psi_PointLens()\n",
    "It_int = time_domain_c.It_SingleIntegral_C(Psi, y, {'eval_mode':'exact'})\n",
    "\n",
    "n_points = 1000\n",
    "n_contours = 30\n",
    "ts = np.geomspace(1e-3, 1, n_contours)\n",
    "cnts_int = It_int.get_contour(ts, n_points=n_points)\n",
    "\n",
    "## ------------------------------------------------------------\n",
    "\n",
    "fig, ax = plt.subplots()\n",
    "for cnt, color in zip(cnts_int, color_scheme(ts)):\n",
    "    for x1, x2 in zip(cnt['x1'], cnt['x2']):\n",
    "        ax.plot(x1, x2, c=color)\n",
    "\n",
    "ax.set_aspect('equal')\n",
    "ax.set_title('%s $(y=%g)$' % (Psi.p_phys['name'], It_int.y))\n",
    "ax.set_xlabel('$x_1$')\n",
    "ax.set_ylabel('$x_2$');"
   ]
  },
  {
   "cell_type": "code",
   "execution_count": null,
   "metadata": {
    "execution": {
     "iopub.execute_input": "2024-07-22T15:17:23.790601Z",
     "iopub.status.busy": "2024-07-22T15:17:23.790043Z",
     "iopub.status.idle": "2024-07-22T15:17:24.187886Z",
     "shell.execute_reply": "2024-07-22T15:17:24.186556Z",
     "shell.execute_reply.started": "2024-07-22T15:17:23.790554Z"
    }
   },
   "outputs": [],
   "source": [
    "y = 0.1\n",
    "Psi = lenses.Psi_SIS()\n",
    "It_int = time_domain_c.It_SingleIntegral_C(Psi, y, {'eval_mode':'exact'})\n",
    "\n",
    "n_points = 1000\n",
    "n_contours = 30\n",
    "ts = np.geomspace(1e-3, 1, n_contours)\n",
    "cnts_int = It_int.get_contour(ts, n_points=n_points)\n",
    "\n",
    "## ------------------------------------------------------------\n",
    "\n",
    "fig, ax = plt.subplots()\n",
    "for cnt, color in zip(cnts_int, color_scheme(ts)):\n",
    "    for x1, x2 in zip(cnt['x1'], cnt['x2']):\n",
    "        ax.plot(x1, x2, c=color)\n",
    "\n",
    "ax.set_aspect('equal')\n",
    "ax.set_title('%s $(y=%g)$' % (Psi.p_phys['name'], It_int.y))\n",
    "ax.set_xlabel('$x_1$')\n",
    "ax.set_ylabel('$x_2$');"
   ]
  },
  {
   "cell_type": "markdown",
   "metadata": {},
   "source": [
    "### Multicontour"
   ]
  },
  {
   "cell_type": "code",
   "execution_count": null,
   "metadata": {
    "execution": {
     "iopub.execute_input": "2024-07-22T15:17:24.285791Z",
     "iopub.status.busy": "2024-07-22T15:17:24.285148Z",
     "iopub.status.idle": "2024-07-22T15:17:25.097881Z",
     "shell.execute_reply": "2024-07-22T15:17:25.096796Z",
     "shell.execute_reply.started": "2024-07-22T15:17:24.285731Z"
    }
   },
   "outputs": [],
   "source": [
    "def benchmark_lens():\n",
    "    # benchmark lens for 2d SL    \n",
    "    xs = [[0.3, 0], [-0.6, 0.3], [0.3, -0.3], [0, 0]]\n",
    "    psi0 = 1./len(xs)\n",
    "    rc = 0.05\n",
    "    Psis = [lenses.Psi_offcenterCIS({'psi0':psi0, 'rc':rc, 'xc1':x[0], 'xc2':x[1]}) for x in xs]\n",
    "    Psi = lenses.CombinedLens({'lenses':Psis})\n",
    "    return Psi\n",
    "\n",
    "## ------------------------------------------------------------\n",
    "\n",
    "y = 0.05\n",
    "Psi = benchmark_lens()\n",
    "It = time_domain_c.It_MultiContour_C(Psi, y, {'eval_mode':'exact'})\n",
    "\n",
    "n_points = 2000\n",
    "n_contours = 60\n",
    "ts = np.linspace(1e-2, 0.15, n_contours)\n",
    "cnts = It.get_contour(ts, n_points=n_points)\n",
    "\n",
    "## ------------------------------------------------------------\n",
    "\n",
    "fig, ax = plt.subplots()\n",
    "for cnt, color in zip(cnts, color_scheme(ts)):\n",
    "    for x1, x2 in zip(cnt['x1'], cnt['x2']):\n",
    "        ax.plot(x1, x2, c=color)\n",
    "\n",
    "ax.set_aspect('equal')\n",
    "ax.set_title('%s $(y=%g)$' % (Psi.p_phys['name'], It.y))\n",
    "ax.set_xlabel('$x_1$')\n",
    "ax.set_ylabel('$x_2$');"
   ]
  },
  {
   "cell_type": "markdown",
   "metadata": {
    "heading_collapsed": true,
    "jp-MarkdownHeadingCollapsed": true
   },
   "source": [
    "# Frequency domain"
   ]
  },
  {
   "cell_type": "markdown",
   "metadata": {
    "heading_collapsed": true,
    "hidden": true,
    "jp-MarkdownHeadingCollapsed": true
   },
   "source": [
    "## General purpose F(w)"
   ]
  },
  {
   "cell_type": "markdown",
   "metadata": {
    "hidden": true
   },
   "source": [
    "The main object for the computation of the amplification factor `Fw_FFT_C` is a general purpose algorithm that computes the FFT of $I(\\tau)$ to obtain the amplification factor. It uses the new regularization scheme, trying to improve the precision (and speed) of the computation when information about the asymptotic behaviour of the lens is available."
   ]
  },
  {
   "cell_type": "markdown",
   "metadata": {
    "hidden": true
   },
   "source": [
    "The algorithm first computes the Fourier transform of the regularized $I(\\tau)$ and then add to it the analytic FT of the singular contribution. It is always a good idea to plot `Fw_reg` separately from `Fw`, since this is the one that is actually computed numerically."
   ]
  },
  {
   "cell_type": "code",
   "execution_count": null,
   "metadata": {
    "ExecuteTime": {
     "end_time": "2023-05-03T14:37:57.595561Z",
     "start_time": "2023-05-03T14:37:56.950595Z"
    },
    "execution": {
     "iopub.execute_input": "2024-07-22T15:17:25.926904Z",
     "iopub.status.busy": "2024-07-22T15:17:25.925833Z",
     "iopub.status.idle": "2024-07-22T15:17:26.678817Z",
     "shell.execute_reply": "2024-07-22T15:17:26.677688Z",
     "shell.execute_reply.started": "2024-07-22T15:17:25.926871Z"
    },
    "hidden": true
   },
   "outputs": [],
   "source": [
    "y = 1.3\n",
    "It = time_domain_c.It_AnalyticSIS_C(y)\n",
    "Fw = freq_domain_c.Fw_FFT_C(It)\n",
    "\n",
    "## ----------------------------------------\n",
    "\n",
    "ws = Fw.w_grid\n",
    "\n",
    "fig, ax = plt.subplots()\n",
    "ax.plot(ws, np.abs(Fw(ws)), label='full = sing + reg', alpha=0.5)\n",
    "ax.plot(ws, np.abs(Fw.eval_Fw_sing(ws)), label='sing')\n",
    "ax.plot(ws, np.abs(Fw.eval_Fw_reg(ws)), label='reg')\n",
    "ax.set_xscale('log')\n",
    "ax.set_xlabel('$w$')\n",
    "ax.set_ylabel('$|F(w)|$')\n",
    "ax.legend()\n",
    "ax.set_title(\"y=%g\" % y)\n",
    "ax.grid()"
   ]
  },
  {
   "cell_type": "code",
   "execution_count": null,
   "metadata": {
    "ExecuteTime": {
     "end_time": "2023-05-03T14:37:58.415141Z",
     "start_time": "2023-05-03T14:37:57.724481Z"
    },
    "execution": {
     "iopub.execute_input": "2024-07-22T15:17:26.681693Z",
     "iopub.status.busy": "2024-07-22T15:17:26.681124Z",
     "iopub.status.idle": "2024-07-22T15:17:27.563100Z",
     "shell.execute_reply": "2024-07-22T15:17:27.562036Z",
     "shell.execute_reply.started": "2024-07-22T15:17:26.681649Z"
    },
    "hidden": true
   },
   "outputs": [],
   "source": [
    "y = 0.3\n",
    "It = time_domain_c.It_AnalyticSIS_C(y)\n",
    "Fw = freq_domain_c.Fw_FFT_C(It)\n",
    "\n",
    "## ----------------------------------------\n",
    "\n",
    "ws = Fw.w_grid\n",
    "\n",
    "fig, ax = plt.subplots()\n",
    "ax.plot(ws, np.abs(Fw(ws)), label='full = sing + reg', alpha=0.5)\n",
    "ax.plot(ws, np.abs(Fw.eval_Fw_sing(ws)), label='sing')\n",
    "ax.plot(ws, np.abs(Fw.eval_Fw_reg(ws)), label='reg')\n",
    "ax.set_xscale('log')\n",
    "ax.set_xlabel('$w$')\n",
    "ax.set_ylabel('$|F(w)|$')\n",
    "ax.set_title(\"y=%g\" % y)\n",
    "ax.legend()\n",
    "ax.grid()"
   ]
  },
  {
   "cell_type": "markdown",
   "metadata": {
    "hidden": true
   },
   "source": [
    "It is also advisable to plot the regularized version of $I(\\tau)$, in order to see what is the object actually dealing with. "
   ]
  },
  {
   "cell_type": "code",
   "execution_count": null,
   "metadata": {
    "ExecuteTime": {
     "end_time": "2023-05-03T14:38:00.730393Z",
     "start_time": "2023-05-03T14:38:00.207497Z"
    },
    "execution": {
     "iopub.execute_input": "2024-07-22T15:17:27.950443Z",
     "iopub.status.busy": "2024-07-22T15:17:27.949949Z",
     "iopub.status.idle": "2024-07-22T15:17:28.580656Z",
     "shell.execute_reply": "2024-07-22T15:17:28.579228Z",
     "shell.execute_reply.started": "2024-07-22T15:17:27.950397Z"
    },
    "hidden": true
   },
   "outputs": [],
   "source": [
    "y = 0.3\n",
    "It = time_domain_c.It_AnalyticSIS_C(y)\n",
    "Fw = freq_domain_c.Fw_FFT_C(It)\n",
    "\n",
    "## ----------------------------------------\n",
    "\n",
    "ts = np.geomspace(1e-1, 1e2, 1000)\n",
    "\n",
    "fig, ax = plt.subplots()\n",
    "ax.plot(ts, Fw.It(ts), label='full = sing + reg', alpha=0.5)\n",
    "ax.plot(ts, Fw.eval_It_sing(ts), label='sing')\n",
    "ax.plot(ts, Fw.eval_It_reg(ts), label='reg')\n",
    "ax.set_xscale('log')\n",
    "ax.set_xlabel(r'$\\tau$')\n",
    "ax.set_ylabel(r'$I(\\tau)$')\n",
    "ax.set_title(\"y=%g\" % y)\n",
    "ax.legend()\n",
    "ax.grid()"
   ]
  },
  {
   "cell_type": "markdown",
   "metadata": {
    "jp-MarkdownHeadingCollapsed": true
   },
   "source": [
    "## Analytic point lens"
   ]
  },
  {
   "cell_type": "markdown",
   "metadata": {},
   "source": [
    "We also implemented an extremely fast version of the analytic amplification factor for the point lens. The accuracy is calibrated to $10^{-5}$."
   ]
  },
  {
   "cell_type": "code",
   "execution_count": null,
   "metadata": {
    "execution": {
     "iopub.execute_input": "2024-07-22T15:17:29.990679Z",
     "iopub.status.busy": "2024-07-22T15:17:29.989908Z",
     "iopub.status.idle": "2024-07-22T15:17:30.589775Z",
     "shell.execute_reply": "2024-07-22T15:17:30.588683Z",
     "shell.execute_reply.started": "2024-07-22T15:17:29.990649Z"
    }
   },
   "outputs": [],
   "source": [
    "y = 0.3\n",
    "Fw = freq_domain_c.Fw_AnalyticPointLens_C(y)\n",
    "\n",
    "## ----------------------------------------\n",
    "\n",
    "ws = np.geomspace(1e-2, 1e2, 2000)\n",
    "\n",
    "fig, ax = plt.subplots()\n",
    "ax.plot(ws, np.abs(Fw(ws)))\n",
    "ax.set_xscale('log')\n",
    "ax.set_xlabel('$w$')\n",
    "ax.set_ylabel('$|F(w)|$')\n",
    "ax.set_title(\"y=%g\" % y)\n",
    "ax.grid()"
   ]
  },
  {
   "cell_type": "markdown",
   "metadata": {
    "heading_collapsed": true,
    "hidden": true,
    "jp-MarkdownHeadingCollapsed": true
   },
   "source": [
    "## Semianalytic SIS"
   ]
  },
  {
   "cell_type": "markdown",
   "metadata": {
    "hidden": true
   },
   "source": [
    "This is the semi-analytic computation of the amplification factor for the SIS."
   ]
  },
  {
   "cell_type": "code",
   "execution_count": null,
   "metadata": {
    "ExecuteTime": {
     "end_time": "2023-05-03T14:38:05.683828Z",
     "start_time": "2023-05-03T14:38:04.621921Z"
    },
    "execution": {
     "iopub.execute_input": "2024-07-22T15:17:31.766853Z",
     "iopub.status.busy": "2024-07-22T15:17:31.765570Z",
     "iopub.status.idle": "2024-07-22T15:17:32.571802Z",
     "shell.execute_reply": "2024-07-22T15:17:32.570613Z",
     "shell.execute_reply.started": "2024-07-22T15:17:31.766820Z"
    },
    "hidden": true
   },
   "outputs": [],
   "source": [
    "y = 1.3\n",
    "Fw = freq_domain_c.Fw_SemiAnalyticSIS_C(y)\n",
    "\n",
    "## ----------------------------------------\n",
    "\n",
    "ws = np.geomspace(1e-2, 1e2, 1000)\n",
    "\n",
    "fig, ax = plt.subplots()\n",
    "ax.plot(ws, np.abs(Fw.eval_Fw(ws)), label='full = sing + reg', alpha=0.5)\n",
    "ax.plot(ws, np.abs(Fw.eval_Fw_sing(ws)), label='sing')\n",
    "ax.plot(ws, np.abs(Fw.eval_Fw_reg(ws)), label='reg')\n",
    "ax.set_xscale('log')\n",
    "ax.set_xlabel('$w$')\n",
    "ax.set_ylabel('$|F(w)|$')\n",
    "ax.legend()\n",
    "ax.set_title(\"y=%g\" % y)\n",
    "ax.grid()"
   ]
  },
  {
   "cell_type": "code",
   "execution_count": null,
   "metadata": {
    "ExecuteTime": {
     "end_time": "2023-05-03T14:38:06.621155Z",
     "start_time": "2023-05-03T14:38:06.019237Z"
    },
    "execution": {
     "iopub.execute_input": "2024-07-22T15:17:32.573708Z",
     "iopub.status.busy": "2024-07-22T15:17:32.573337Z",
     "iopub.status.idle": "2024-07-22T15:17:33.385460Z",
     "shell.execute_reply": "2024-07-22T15:17:33.383981Z",
     "shell.execute_reply.started": "2024-07-22T15:17:32.573683Z"
    },
    "hidden": true
   },
   "outputs": [],
   "source": [
    "y = 0.3\n",
    "Fw = freq_domain_c.Fw_SemiAnalyticSIS_C(y)\n",
    "\n",
    "## ----------------------------------------\n",
    "\n",
    "ws = np.geomspace(1e-2, 1e2, 1000)\n",
    "\n",
    "fig, ax = plt.subplots()\n",
    "ax.plot(ws, np.abs(Fw.eval_Fw(ws)), label='full = sing + reg', alpha=0.5)\n",
    "ax.plot(ws, np.abs(Fw.eval_Fw_sing(ws)), label='sing')\n",
    "ax.plot(ws, np.abs(Fw.eval_Fw_reg(ws)), label='reg')\n",
    "ax.set_xscale('log')\n",
    "ax.set_xlabel('$w$')\n",
    "ax.set_ylabel('$|F(w)|$')\n",
    "ax.set_title(\"y=%g\" % y)\n",
    "ax.legend()\n",
    "ax.grid()"
   ]
  },
  {
   "cell_type": "code",
   "execution_count": null,
   "metadata": {
    "ExecuteTime": {
     "end_time": "2023-05-03T14:38:07.502999Z",
     "start_time": "2023-05-03T14:38:07.012424Z"
    },
    "execution": {
     "iopub.execute_input": "2024-07-22T15:17:33.388112Z",
     "iopub.status.busy": "2024-07-22T15:17:33.387607Z",
     "iopub.status.idle": "2024-07-22T15:17:34.148820Z",
     "shell.execute_reply": "2024-07-22T15:17:34.147862Z",
     "shell.execute_reply.started": "2024-07-22T15:17:33.388062Z"
    },
    "hidden": true
   },
   "outputs": [],
   "source": [
    "y = 0.3\n",
    "Fw = freq_domain_c.Fw_SemiAnalyticSIS_C(y)\n",
    "\n",
    "## ----------------------------------------\n",
    "\n",
    "ts = np.geomspace(1e-1, 1e2, 1000)\n",
    "\n",
    "fig, ax = plt.subplots()\n",
    "ax.plot(ts, Fw.It.eval_It(ts), label='full = sing + reg', alpha=0.5)\n",
    "ax.plot(ts, Fw.eval_It_sing(ts), label='sing')\n",
    "ax.plot(ts, Fw.eval_It_reg(ts), label='reg')\n",
    "ax.set_xscale('log')\n",
    "ax.set_xlabel(r'$\\tau$')\n",
    "ax.set_ylabel(r'$I(\\tau)$')\n",
    "ax.set_title(\"y=%g\" % y)\n",
    "ax.legend()\n",
    "ax.grid()"
   ]
  },
  {
   "cell_type": "markdown",
   "metadata": {
    "heading_collapsed": true,
    "jp-MarkdownHeadingCollapsed": true
   },
   "source": [
    "# Miscellanea"
   ]
  },
  {
   "cell_type": "markdown",
   "metadata": {
    "heading_collapsed": true,
    "hidden": true,
    "jp-MarkdownHeadingCollapsed": true
   },
   "source": [
    "## Internal information and debugging"
   ]
  },
  {
   "cell_type": "markdown",
   "metadata": {
    "jp-MarkdownHeadingCollapsed": true
   },
   "source": [
    "### Python"
   ]
  },
  {
   "cell_type": "markdown",
   "metadata": {
    "hidden": true
   },
   "source": [
    "All the objects defined in the Python modules share a common structure. They only take as parameters either another object, a `p_phys` or a `p_prec` dictionary. This make it easy to display the internal information of each object. All of them ship with a `display_info()` method, that is also a good remainder of the allowed input parameters."
   ]
  },
  {
   "cell_type": "code",
   "execution_count": null,
   "metadata": {
    "ExecuteTime": {
     "end_time": "2023-05-03T14:38:15.367430Z",
     "start_time": "2023-05-03T14:38:15.359978Z"
    },
    "execution": {
     "iopub.execute_input": "2024-07-22T15:17:36.127658Z",
     "iopub.status.busy": "2024-07-22T15:17:36.127158Z",
     "iopub.status.idle": "2024-07-22T15:17:36.135302Z",
     "shell.execute_reply": "2024-07-22T15:17:36.133844Z",
     "shell.execute_reply.started": "2024-07-22T15:17:36.127612Z"
    },
    "hidden": true
   },
   "outputs": [],
   "source": [
    "Psi = lenses.Psi_SIS()\n",
    "Psi.display_info()"
   ]
  },
  {
   "cell_type": "code",
   "execution_count": null,
   "metadata": {
    "ExecuteTime": {
     "end_time": "2023-05-03T14:38:15.973950Z",
     "start_time": "2023-05-03T14:38:15.912329Z"
    },
    "execution": {
     "iopub.execute_input": "2024-07-22T15:17:37.679317Z",
     "iopub.status.busy": "2024-07-22T15:17:37.678378Z",
     "iopub.status.idle": "2024-07-22T15:17:37.762910Z",
     "shell.execute_reply": "2024-07-22T15:17:37.761298Z",
     "shell.execute_reply.started": "2024-07-22T15:17:37.679230Z"
    },
    "hidden": true
   },
   "outputs": [],
   "source": [
    "It = time_domain_c.It_SingleContour_C(Psi, y=1.2)\n",
    "It.display_info()"
   ]
  },
  {
   "cell_type": "code",
   "execution_count": null,
   "metadata": {
    "ExecuteTime": {
     "end_time": "2023-05-03T14:38:16.472521Z",
     "start_time": "2023-05-03T14:38:16.399904Z"
    },
    "execution": {
     "iopub.execute_input": "2024-07-22T15:17:38.527056Z",
     "iopub.status.busy": "2024-07-22T15:17:38.526457Z",
     "iopub.status.idle": "2024-07-22T15:17:38.537217Z",
     "shell.execute_reply": "2024-07-22T15:17:38.535619Z",
     "shell.execute_reply.started": "2024-07-22T15:17:38.526999Z"
    },
    "hidden": true
   },
   "outputs": [],
   "source": [
    "Fw = freq_domain_c.Fw_FFT_C(It)\n",
    "Fw.display_info()"
   ]
  },
  {
   "cell_type": "markdown",
   "metadata": {
    "hidden": true
   },
   "source": [
    "The time-domain integral can also show the information about the images found"
   ]
  },
  {
   "cell_type": "code",
   "execution_count": null,
   "metadata": {
    "ExecuteTime": {
     "end_time": "2023-05-03T14:38:17.556885Z",
     "start_time": "2023-05-03T14:38:17.494304Z"
    },
    "execution": {
     "iopub.execute_input": "2024-07-22T15:17:39.815158Z",
     "iopub.status.busy": "2024-07-22T15:17:39.813665Z",
     "iopub.status.idle": "2024-07-22T15:17:39.897771Z",
     "shell.execute_reply": "2024-07-22T15:17:39.896144Z",
     "shell.execute_reply.started": "2024-07-22T15:17:39.815088Z"
    },
    "hidden": true
   },
   "outputs": [],
   "source": [
    "It = time_domain_c.It_SingleContour_C(Psi, y=1.2)\n",
    "It.display_images()"
   ]
  },
  {
   "cell_type": "code",
   "execution_count": null,
   "metadata": {
    "ExecuteTime": {
     "end_time": "2023-05-03T14:38:17.980086Z",
     "start_time": "2023-05-03T14:38:17.916386Z"
    },
    "execution": {
     "iopub.execute_input": "2024-07-22T15:17:40.639643Z",
     "iopub.status.busy": "2024-07-22T15:17:40.638788Z",
     "iopub.status.idle": "2024-07-22T15:17:40.655329Z",
     "shell.execute_reply": "2024-07-22T15:17:40.653985Z",
     "shell.execute_reply.started": "2024-07-22T15:17:40.639575Z"
    },
    "hidden": true
   },
   "outputs": [],
   "source": [
    "It = time_domain_c.It_SingleIntegral_C(Psi, y=0.2)\n",
    "It.display_images()"
   ]
  },
  {
   "cell_type": "markdown",
   "metadata": {
    "hidden": true
   },
   "source": [
    "Another feature, especially useful for debugging, is the ability to print the tree of calls needed to replicate a given object:"
   ]
  },
  {
   "cell_type": "code",
   "execution_count": null,
   "metadata": {
    "ExecuteTime": {
     "end_time": "2023-05-03T14:38:18.861074Z",
     "start_time": "2023-05-03T14:38:18.855080Z"
    },
    "execution": {
     "iopub.execute_input": "2024-07-22T15:17:42.039664Z",
     "iopub.status.busy": "2024-07-22T15:17:42.038715Z",
     "iopub.status.idle": "2024-07-22T15:17:42.050788Z",
     "shell.execute_reply": "2024-07-22T15:17:42.048219Z",
     "shell.execute_reply.started": "2024-07-22T15:17:42.039566Z"
    },
    "hidden": true
   },
   "outputs": [],
   "source": [
    "print(Psi)"
   ]
  },
  {
   "cell_type": "code",
   "execution_count": null,
   "metadata": {
    "ExecuteTime": {
     "end_time": "2023-05-03T14:38:19.330936Z",
     "start_time": "2023-05-03T14:38:19.327595Z"
    },
    "execution": {
     "iopub.execute_input": "2024-07-22T15:17:42.743979Z",
     "iopub.status.busy": "2024-07-22T15:17:42.742889Z",
     "iopub.status.idle": "2024-07-22T15:17:42.752935Z",
     "shell.execute_reply": "2024-07-22T15:17:42.750474Z",
     "shell.execute_reply.started": "2024-07-22T15:17:42.743925Z"
    },
    "hidden": true
   },
   "outputs": [],
   "source": [
    "print(It)"
   ]
  },
  {
   "cell_type": "code",
   "execution_count": null,
   "metadata": {
    "ExecuteTime": {
     "end_time": "2023-05-03T14:38:19.758216Z",
     "start_time": "2023-05-03T14:38:19.754607Z"
    },
    "execution": {
     "iopub.execute_input": "2024-07-22T15:17:43.456857Z",
     "iopub.status.busy": "2024-07-22T15:17:43.456164Z",
     "iopub.status.idle": "2024-07-22T15:17:43.473201Z",
     "shell.execute_reply": "2024-07-22T15:17:43.465675Z",
     "shell.execute_reply.started": "2024-07-22T15:17:43.456805Z"
    },
    "hidden": true
   },
   "outputs": [],
   "source": [
    "print(Fw)"
   ]
  },
  {
   "cell_type": "markdown",
   "metadata": {
    "hidden": true
   },
   "source": [
    "In this simple example it is pretty straightforward, but this feature is useful for debugging the code when the amplification factor has been generated in the middle of a more complicated script, e.g. when we use a random distribution of lenses or a lens generated by a different piece of code."
   ]
  },
  {
   "cell_type": "markdown",
   "metadata": {
    "jp-MarkdownHeadingCollapsed": true
   },
   "source": [
    "### C precision parameters"
   ]
  },
  {
   "attachments": {},
   "cell_type": "markdown",
   "metadata": {},
   "source": [
    "Most of the precision parameters in the C code can be accessed from Python. After defining the main object, the current precision parameters can be visualized with the `display_Cprec` method (including options for non-numerical parameters)"
   ]
  },
  {
   "cell_type": "code",
   "execution_count": null,
   "metadata": {
    "execution": {
     "iopub.execute_input": "2024-07-22T15:17:45.613742Z",
     "iopub.status.busy": "2024-07-22T15:17:45.612309Z",
     "iopub.status.idle": "2024-07-22T15:17:45.629916Z",
     "shell.execute_reply": "2024-07-22T15:17:45.628528Z",
     "shell.execute_reply.started": "2024-07-22T15:17:45.613683Z"
    }
   },
   "outputs": [],
   "source": [
    "It = time_domain_c.It_AnalyticSIS_C(y=1.2)\n",
    "#It.display_Cprec()   # long output"
   ]
  },
  {
   "cell_type": "markdown",
   "metadata": {},
   "source": [
    "These parameters can be modified through an entry in `p_prec`"
   ]
  },
  {
   "cell_type": "code",
   "execution_count": null,
   "metadata": {
    "execution": {
     "iopub.execute_input": "2024-07-22T15:17:46.148394Z",
     "iopub.status.busy": "2024-07-22T15:17:46.147778Z",
     "iopub.status.idle": "2024-07-22T15:17:46.211952Z",
     "shell.execute_reply": "2024-07-22T15:17:46.209720Z",
     "shell.execute_reply.started": "2024-07-22T15:17:46.148347Z"
    }
   },
   "outputs": [],
   "source": [
    "C_prec = {'ro_issameCP_dist' : 2e-5, \\\n",
    "          'sc_intContourStd' : {'type' : 'rkf45', 'epsabs' : 1e-6}}\n",
    "Psi = lenses.Psi_SIS()\n",
    "It = time_domain_c.It_SingleContour_C(Psi, y=1.2, p_prec={'C_prec' : C_prec})"
   ]
  },
  {
   "cell_type": "markdown",
   "metadata": {
    "execution": {
     "iopub.execute_input": "2023-07-25T20:20:20.161782Z",
     "iopub.status.busy": "2023-07-25T20:20:20.160845Z",
     "iopub.status.idle": "2023-07-25T20:20:20.172451Z",
     "shell.execute_reply": "2023-07-25T20:20:20.170635Z",
     "shell.execute_reply.started": "2023-07-25T20:20:20.161711Z"
    }
   },
   "source": [
    "If needed, the precision parameters of the current session can also be retrieved in dictionary form"
   ]
  },
  {
   "cell_type": "code",
   "execution_count": null,
   "metadata": {
    "execution": {
     "iopub.execute_input": "2024-07-22T15:17:46.779980Z",
     "iopub.status.busy": "2024-07-22T15:17:46.779453Z",
     "iopub.status.idle": "2024-07-22T15:17:46.786875Z",
     "shell.execute_reply": "2024-07-22T15:17:46.784780Z",
     "shell.execute_reply.started": "2024-07-22T15:17:46.779947Z"
    }
   },
   "outputs": [],
   "source": [
    "full_C_prec = It.get_Cprec()"
   ]
  },
  {
   "cell_type": "markdown",
   "metadata": {
    "heading_collapsed": true,
    "hidden": true,
    "jp-MarkdownHeadingCollapsed": true
   },
   "source": [
    "## A more complex example: $n$ SISs"
   ]
  },
  {
   "cell_type": "markdown",
   "metadata": {
    "hidden": true
   },
   "source": [
    "First, we define a couple of functions that will prove handy"
   ]
  },
  {
   "cell_type": "code",
   "execution_count": null,
   "metadata": {
    "ExecuteTime": {
     "end_time": "2023-05-03T14:38:29.655812Z",
     "start_time": "2023-05-03T14:38:29.616639Z"
    },
    "execution": {
     "iopub.execute_input": "2024-07-22T15:17:48.077269Z",
     "iopub.status.busy": "2024-07-22T15:17:48.076543Z",
     "iopub.status.idle": "2024-07-22T15:17:48.114225Z",
     "shell.execute_reply": "2024-07-22T15:17:48.112006Z",
     "shell.execute_reply.started": "2024-07-22T15:17:48.077216Z"
    },
    "hidden": true
   },
   "outputs": [],
   "source": [
    "def distribute_centers(n, R=1, seed=None):\n",
    "    \n",
    "    if(seed is None):\n",
    "        seed = np.random.randint(0, 1e7)\n",
    "        print(\"Seed:\", seed)    \n",
    "    np.random.seed(seed)\n",
    "    \n",
    "    Rs = R*np.sqrt(np.random.random_sample(n))\n",
    "    ths = 2*np.pi*np.random.random_sample(n)\n",
    "    \n",
    "    x1 = Rs*np.cos(ths)\n",
    "    x2 = Rs*np.sin(ths)\n",
    "    \n",
    "    x1CM = np.sum(x1)/n\n",
    "    x2CM = np.sum(x2)/n\n",
    "    \n",
    "    x1 -= x1CM\n",
    "    x2 -= x2CM\n",
    "    \n",
    "    return x1, x2\n",
    "\n",
    "def create_lens(n, R, seed=None):\n",
    "    psi0 = 1./n\n",
    "    xc1s, xc2s = distribute_centers(n, R, seed=seed)\n",
    "    \n",
    "    p_phys = {'lenses' : []}\n",
    "    for xc1, xc2 in zip(xc1s, xc2s):\n",
    "        sub_p_phys = {'psi0' : psi0, 'xc1' : xc1, 'xc2' : xc2}\n",
    "        Psi = lenses.Psi_offcenterSIS(sub_p_phys)\n",
    "        p_phys['lenses'].append(Psi)\n",
    "\n",
    "    return lenses.CombinedLens(p_phys)\n",
    "\n",
    "def plot_It(Psi, y, SIS=False, CIS=False, rc=0.1):\n",
    "    p_prec = {'eval_mode':'exact', 'C_prec':{'no_warnings':1}}\n",
    "    It = time_domain_c.It_SingleContour_C(Psi, y, p_prec)\n",
    "\n",
    "    taus = np.geomspace(1e-1, 50, 1000)\n",
    "\n",
    "    fig, ax = plt.subplots()\n",
    "    ax.plot(taus, It.eval_It(taus)/2/np.pi, label='%d SIS' % len(Psi.p_phys['lenses']))\n",
    "    ax.set_xscale('log')\n",
    "    \n",
    "    It_SIS = None\n",
    "    if SIS is True:\n",
    "        It_SIS = time_domain_c.It_AnalyticSIS_C(y, {'eval_mode':'exact'})\n",
    "        ax.plot(taus, It_SIS.eval_It(taus)/2/np.pi, label='SIS')\n",
    "    \n",
    "    It_CIS = None\n",
    "    if CIS is True:\n",
    "        Psi_CIS = lenses.Psi_CIS({'rc':rc})\n",
    "        It_CIS = time_domain_c.It_SingleContour_C(Psi_CIS, y, {'eval_mode':'exact'})\n",
    "        ax.plot(taus, It_CIS.eval_It(taus)/2/np.pi, label='CIS')\n",
    "    \n",
    "    ax.set_xlabel(r'$\\tau$')\n",
    "    ax.set_ylabel(r'$I(\\tau)/2\\pi$')\n",
    "    ax.set_xlim([taus[0], taus[-1]])\n",
    "    ax.legend(loc='best')\n",
    "    \n",
    "def plot_Gt(Psi, y, SIS=False, CIS=False, rc=0.1):\n",
    "    p_prec = {'eval_mode':'exact', 'C_prec':{'no_warnings':1}}\n",
    "    It = time_domain_c.It_SingleContour_C(Psi, y, p_prec)\n",
    "\n",
    "    dt = 1e-3\n",
    "    taus = np.geomspace(1e-1, 50, 1000)\n",
    "    \n",
    "    fig, ax = plt.subplots()\n",
    "    ax.plot(taus, It.eval_Gt(taus, dt=dt), label='%d SIS' % len(Psi.p_phys['lenses']), c='C0')\n",
    "    ax.set_xscale('log')\n",
    "    \n",
    "    It_SIS = None\n",
    "    if SIS is True:\n",
    "        It_SIS = time_domain_c.It_AnalyticSIS_C(y, {'eval_mode':'exact'})\n",
    "        ax.plot(taus, It_SIS.eval_Gt(taus, dt=dt), label='SIS', c='C1')\n",
    "    \n",
    "    It_CIS = None\n",
    "    if CIS is True:\n",
    "        Psi_CIS = lenses.Psi_CIS({'rc':rc})\n",
    "        It_CIS = time_domain_c.It_SingleContour_C(Psi_CIS, y, {'eval_mode':'exact'})\n",
    "        ax.plot(taus, It_CIS.eval_Gt(taus, dt=dt), label='CIS', c='C2')\n",
    "    \n",
    "    ax.set_xlabel(r'$\\tau$')\n",
    "    ax.set_ylabel(r'$G(\\tau)$')\n",
    "    ax.set_xlim([taus[0], taus[-1]])\n",
    "    ax.legend(loc='best')"
   ]
  },
  {
   "cell_type": "code",
   "execution_count": null,
   "metadata": {
    "execution": {
     "iopub.execute_input": "2024-07-22T15:17:50.846923Z",
     "iopub.status.busy": "2024-07-22T15:17:50.845943Z",
     "iopub.status.idle": "2024-07-22T15:17:50.857453Z",
     "shell.execute_reply": "2024-07-22T15:17:50.854754Z",
     "shell.execute_reply.started": "2024-07-22T15:17:50.846870Z"
    }
   },
   "outputs": [],
   "source": [
    "It.display_info()"
   ]
  },
  {
   "cell_type": "markdown",
   "metadata": {
    "hidden": true
   },
   "source": [
    "Now, we will create a set of (`n_sublenses`) SIS randomly distributed inside a sphere of radius (`R`). The center of mass position and the total lens mass are fixed."
   ]
  },
  {
   "cell_type": "code",
   "execution_count": null,
   "metadata": {
    "ExecuteTime": {
     "end_time": "2023-05-03T14:38:36.412115Z",
     "start_time": "2023-05-03T14:38:36.406439Z"
    },
    "execution": {
     "iopub.execute_input": "2024-07-22T15:17:52.216042Z",
     "iopub.status.busy": "2024-07-22T15:17:52.215072Z",
     "iopub.status.idle": "2024-07-22T15:17:52.229638Z",
     "shell.execute_reply": "2024-07-22T15:17:52.227085Z",
     "shell.execute_reply.started": "2024-07-22T15:17:52.215952Z"
    },
    "hidden": true
   },
   "outputs": [],
   "source": [
    "n_sublenses = 3\n",
    "R = 1\n",
    "\n",
    "Psi = create_lens(n=n_sublenses, R=R, seed=None)"
   ]
  },
  {
   "cell_type": "markdown",
   "metadata": {
    "hidden": true
   },
   "source": [
    "We can compare this composed lens with a SIS or a CIS of the same mass (situated at the center of mass of the lens distribution)"
   ]
  },
  {
   "cell_type": "code",
   "execution_count": null,
   "metadata": {
    "ExecuteTime": {
     "end_time": "2023-05-03T14:38:37.851872Z",
     "start_time": "2023-05-03T14:38:37.408238Z"
    },
    "execution": {
     "iopub.execute_input": "2024-07-22T15:17:53.375228Z",
     "iopub.status.busy": "2024-07-22T15:17:53.373916Z",
     "iopub.status.idle": "2024-07-22T15:17:53.899171Z",
     "shell.execute_reply": "2024-07-22T15:17:53.897684Z",
     "shell.execute_reply.started": "2024-07-22T15:17:53.375174Z"
    },
    "hidden": true
   },
   "outputs": [],
   "source": [
    "plot_It(Psi, y=1.2, SIS=True, CIS=True)"
   ]
  },
  {
   "cell_type": "code",
   "execution_count": null,
   "metadata": {
    "ExecuteTime": {
     "end_time": "2023-05-03T14:38:38.657941Z",
     "start_time": "2023-05-03T14:38:38.190804Z"
    },
    "execution": {
     "iopub.execute_input": "2024-07-22T15:17:54.390441Z",
     "iopub.status.busy": "2024-07-22T15:17:54.389675Z",
     "iopub.status.idle": "2024-07-22T15:17:55.027706Z",
     "shell.execute_reply": "2024-07-22T15:17:55.026500Z",
     "shell.execute_reply.started": "2024-07-22T15:17:54.390403Z"
    },
    "hidden": true
   },
   "outputs": [],
   "source": [
    "plot_Gt(Psi, y=1.2, SIS=False, CIS=True)"
   ]
  },
  {
   "cell_type": "markdown",
   "metadata": {
    "hidden": true
   },
   "source": [
    "We can also compare the effects in the amplification factor. First we must compute the time-domain integral in a wide temporal range, as usual. (Note: the plot above was computed using the `p_prec['eval_method']='exact'` option to compute it at any tau requested, now we need a grid so we must use `'interpolate'`, which is the default)"
   ]
  },
  {
   "cell_type": "code",
   "execution_count": null,
   "metadata": {
    "ExecuteTime": {
     "end_time": "2023-05-03T14:38:40.244145Z",
     "start_time": "2023-05-03T14:38:40.141119Z"
    },
    "execution": {
     "iopub.execute_input": "2024-07-22T15:17:55.572720Z",
     "iopub.status.busy": "2024-07-22T15:17:55.572241Z",
     "iopub.status.idle": "2024-07-22T15:17:55.760707Z",
     "shell.execute_reply": "2024-07-22T15:17:55.759294Z",
     "shell.execute_reply.started": "2024-07-22T15:17:55.572691Z"
    },
    "hidden": true
   },
   "outputs": [],
   "source": [
    "y = 1.2\n",
    "p_prec = {'tmin':1e-2, 'tmax':1e8, 'Nt':5000, 'sampling':'log', 'C_prec':{'no_warnings':1}}\n",
    "\n",
    "It_MultiSIS = time_domain_c.It_SingleContour_C(Psi, y, p_prec)\n",
    "\n",
    "It_SIS = time_domain_c.It_AnalyticSIS_C(y, p_prec)\n",
    "\n",
    "Psi_CIS = lenses.Psi_CIS({'rc':0.1})\n",
    "It_CIS = time_domain_c.It_SingleContour_C(Psi_CIS, y, p_prec)"
   ]
  },
  {
   "cell_type": "markdown",
   "metadata": {
    "hidden": true
   },
   "source": [
    "Next, we compute the amplification factors"
   ]
  },
  {
   "cell_type": "code",
   "execution_count": null,
   "metadata": {
    "ExecuteTime": {
     "end_time": "2023-05-03T14:38:41.241832Z",
     "start_time": "2023-05-03T14:38:41.169124Z"
    },
    "execution": {
     "iopub.execute_input": "2024-07-22T15:17:56.558509Z",
     "iopub.status.busy": "2024-07-22T15:17:56.557129Z",
     "iopub.status.idle": "2024-07-22T15:17:56.575550Z",
     "shell.execute_reply": "2024-07-22T15:17:56.574576Z",
     "shell.execute_reply.started": "2024-07-22T15:17:56.558461Z"
    },
    "hidden": true
   },
   "outputs": [],
   "source": [
    "Fw_MultiSIS = freq_domain_c.Fw_FFT_C(It_MultiSIS, {'interp_kind':'cubic'})\n",
    "Fw_SIS = freq_domain_c.Fw_FFT_C(It_SIS, {'interp_kind':'cubic'})\n",
    "Fw_CIS = freq_domain_c.Fw_FFT_C(It_CIS, {'interp_kind':'cubic'})"
   ]
  },
  {
   "cell_type": "markdown",
   "metadata": {
    "hidden": true
   },
   "source": [
    "and plot them"
   ]
  },
  {
   "cell_type": "code",
   "execution_count": null,
   "metadata": {
    "ExecuteTime": {
     "end_time": "2023-05-03T14:38:42.589770Z",
     "start_time": "2023-05-03T14:38:42.137797Z"
    },
    "execution": {
     "iopub.execute_input": "2024-07-22T15:17:57.703922Z",
     "iopub.status.busy": "2024-07-22T15:17:57.702934Z",
     "iopub.status.idle": "2024-07-22T15:17:58.386153Z",
     "shell.execute_reply": "2024-07-22T15:17:58.385102Z",
     "shell.execute_reply.started": "2024-07-22T15:17:57.703863Z"
    },
    "hidden": true
   },
   "outputs": [],
   "source": [
    "fig, ax = plt.subplots()\n",
    "\n",
    "ws = np.geomspace(1e-2, 1e2, 5000)\n",
    "\n",
    "ax.plot(ws, np.abs(Fw_MultiSIS(ws)), zorder=10, label='%d SIS' % len(Psi.p_phys['lenses']))\n",
    "ax.plot(ws, np.abs(Fw_SIS(ws)), alpha=0.5, label='SIS')\n",
    "ax.plot(ws, np.abs(Fw_CIS(ws)), alpha=0.5, label='CIS')\n",
    "\n",
    "ax.set_xlim([ws[0], ws[-1]])\n",
    "ax.set_xscale('log')\n",
    "ax.set_ylabel('$|F(w)|$')\n",
    "ax.set_xlabel('$w$')\n",
    "ax.legend(loc='best');"
   ]
  },
  {
   "cell_type": "markdown",
   "metadata": {
    "heading_collapsed": true,
    "hidden": true,
    "jp-MarkdownHeadingCollapsed": true
   },
   "source": [
    "## Testing performance"
   ]
  },
  {
   "cell_type": "markdown",
   "metadata": {
    "heading_collapsed": true,
    "hidden": true,
    "jp-MarkdownHeadingCollapsed": true
   },
   "source": [
    "### Analytic SIS"
   ]
  },
  {
   "cell_type": "code",
   "execution_count": null,
   "metadata": {
    "ExecuteTime": {
     "end_time": "2023-05-03T14:38:44.699662Z",
     "start_time": "2023-05-03T14:38:44.692493Z"
    },
    "execution": {
     "iopub.execute_input": "2024-07-22T15:17:59.908413Z",
     "iopub.status.busy": "2024-07-22T15:17:59.907817Z",
     "iopub.status.idle": "2024-07-22T15:17:59.915058Z",
     "shell.execute_reply": "2024-07-22T15:17:59.913650Z",
     "shell.execute_reply.started": "2024-07-22T15:17:59.908369Z"
    },
    "hidden": true
   },
   "outputs": [],
   "source": [
    "y = 0.3\n",
    "psi0 = 1\n",
    "\n",
    "tau_ini = 0.8\n",
    "taus = np.geomspace(1e-2, 10, 1000)"
   ]
  },
  {
   "cell_type": "markdown",
   "metadata": {
    "hidden": true
   },
   "source": [
    "Performance for a single point, numpy arrays and numpy arrays in parallel"
   ]
  },
  {
   "cell_type": "code",
   "execution_count": null,
   "metadata": {
    "ExecuteTime": {
     "end_time": "2023-05-03T14:38:57.967452Z",
     "start_time": "2023-05-03T14:38:45.671930Z"
    },
    "execution": {
     "iopub.execute_input": "2024-07-22T15:18:01.041213Z",
     "iopub.status.busy": "2024-07-22T15:18:01.039590Z",
     "iopub.status.idle": "2024-07-22T15:18:21.205856Z",
     "shell.execute_reply": "2024-07-22T15:18:21.204790Z",
     "shell.execute_reply.started": "2024-07-22T15:18:01.041124Z"
    },
    "hidden": true
   },
   "outputs": [],
   "source": [
    "%timeit wrapper.pyIt_SIS(tau_ini, y, psi0)\n",
    "%timeit wrapper.pyIt_SIS(taus, y, psi0, parallel=False)\n",
    "%timeit wrapper.pyIt_SIS(taus, y, psi0)"
   ]
  },
  {
   "cell_type": "markdown",
   "metadata": {
    "heading_collapsed": true,
    "hidden": true,
    "jp-MarkdownHeadingCollapsed": true
   },
   "source": [
    "### Single contour"
   ]
  },
  {
   "cell_type": "markdown",
   "metadata": {
    "hidden": true
   },
   "source": [
    "Benchmark values (RK(8,9) integrator with tol=1e-5, compilation with `-Ofast`)"
   ]
  },
  {
   "cell_type": "code",
   "execution_count": null,
   "metadata": {
    "ExecuteTime": {
     "end_time": "2023-05-03T14:40:47.240739Z",
     "start_time": "2023-05-03T14:40:47.232860Z"
    },
    "execution": {
     "iopub.execute_input": "2024-07-22T15:18:21.209020Z",
     "iopub.status.busy": "2024-07-22T15:18:21.207843Z",
     "iopub.status.idle": "2024-07-22T15:18:21.215188Z",
     "shell.execute_reply": "2024-07-22T15:18:21.214119Z",
     "shell.execute_reply.started": "2024-07-22T15:18:21.208963Z"
    },
    "hidden": true
   },
   "outputs": [],
   "source": [
    "y = 1.1\n",
    "psi0 = 1\n",
    "x1_min = psi0 + y\n",
    "x2_min = 0\n",
    "\n",
    "Psi = lenses.Psi_SIS({'psi0':psi0})\n",
    "\n",
    "tau_ini = 0.8\n",
    "taus = np.geomspace(0.1, 100, 1000)"
   ]
  },
  {
   "cell_type": "markdown",
   "metadata": {
    "hidden": true
   },
   "source": [
    "Performance for a single point, numpy arrays and numpy arrays in parallel"
   ]
  },
  {
   "cell_type": "code",
   "execution_count": null,
   "metadata": {
    "ExecuteTime": {
     "end_time": "2023-05-03T14:40:50.355139Z",
     "start_time": "2023-05-03T14:40:47.966989Z"
    },
    "execution": {
     "iopub.execute_input": "2024-07-22T15:18:21.216836Z",
     "iopub.status.busy": "2024-07-22T15:18:21.216446Z",
     "iopub.status.idle": "2024-07-22T15:18:35.119077Z",
     "shell.execute_reply": "2024-07-22T15:18:35.117840Z",
     "shell.execute_reply.started": "2024-07-22T15:18:21.216806Z"
    },
    "hidden": true
   },
   "outputs": [],
   "source": [
    "%timeit wrapper.pyContour(tau_ini, x1_min, x2_min, y, Psi)\n",
    "%timeit wrapper.pyContour(taus, x1_min, x2_min, y, Psi, parallel=False)\n",
    "%timeit wrapper.pyContour(taus, x1_min, x2_min, y, Psi)"
   ]
  },
  {
   "cell_type": "markdown",
   "metadata": {},
   "source": [
    "Same but now with the `'robust'` method (i.e. parametric contours)"
   ]
  },
  {
   "cell_type": "code",
   "execution_count": null,
   "metadata": {
    "ExecuteTime": {
     "end_time": "2023-05-03T14:40:56.316529Z",
     "start_time": "2023-05-03T14:40:50.730231Z"
    },
    "execution": {
     "iopub.execute_input": "2024-07-22T15:18:35.122980Z",
     "iopub.status.busy": "2024-07-22T15:18:35.122013Z",
     "iopub.status.idle": "2024-07-22T15:18:47.702079Z",
     "shell.execute_reply": "2024-07-22T15:18:47.700075Z",
     "shell.execute_reply.started": "2024-07-22T15:18:35.122925Z"
    },
    "hidden": true
   },
   "outputs": [],
   "source": [
    "%timeit wrapper.pyContour(tau_ini, x1_min, x2_min, y, Psi, method='robust')\n",
    "%timeit wrapper.pyContour(taus, x1_min, x2_min, y, Psi, parallel=False, method='robust')\n",
    "%timeit wrapper.pyContour(taus, x1_min, x2_min, y, Psi, method='robust')"
   ]
  },
  {
   "cell_type": "markdown",
   "metadata": {
    "hidden": true
   },
   "source": [
    "We can compare it with the exact result"
   ]
  },
  {
   "cell_type": "code",
   "execution_count": null,
   "metadata": {
    "ExecuteTime": {
     "end_time": "2023-05-03T14:41:26.925147Z",
     "start_time": "2023-05-03T14:41:25.699064Z"
    },
    "execution": {
     "iopub.execute_input": "2024-07-22T15:18:47.704432Z",
     "iopub.status.busy": "2024-07-22T15:18:47.703651Z",
     "iopub.status.idle": "2024-07-22T15:18:48.864687Z",
     "shell.execute_reply": "2024-07-22T15:18:48.863606Z",
     "shell.execute_reply.started": "2024-07-22T15:18:47.704388Z"
    },
    "hidden": true
   },
   "outputs": [],
   "source": [
    "Is = wrapper.pyContour(taus, x1_min, x2_min, y, Psi)\n",
    "Is2 = wrapper.pyContour(taus, x1_min, x2_min, y, Psi, method='robust')\n",
    "It_exact = wrapper.pyIt_SIS(taus, y, psi0)\n",
    "\n",
    "fig, ax = plt.subplots()\n",
    "ax.plot(taus, np.abs(Is-It_exact)/It_exact, label='std method')\n",
    "ax.plot(taus, np.abs(Is2-It_exact)/It_exact, label='robust method')\n",
    "ax.set_xlabel('$\\\\tau$')\n",
    "ax.set_ylabel('$|I-I_{exact}|/|I_{exact}|$')\n",
    "ax.legend()\n",
    "ax.grid()\n",
    "ax.set_xscale('log')\n",
    "ax.set_yscale('log')"
   ]
  },
  {
   "cell_type": "markdown",
   "metadata": {
    "heading_collapsed": true,
    "hidden": true,
    "jp-MarkdownHeadingCollapsed": true
   },
   "source": [
    "### Single integral"
   ]
  },
  {
   "cell_type": "markdown",
   "metadata": {
    "hidden": true
   },
   "source": [
    "Benchmark values: `qags` integrator with rtol=1e-4, atol=0, sub_int_limit=1000, compilation with `-Ofast`)"
   ]
  },
  {
   "cell_type": "code",
   "execution_count": null,
   "metadata": {
    "ExecuteTime": {
     "end_time": "2023-05-03T14:41:27.667779Z",
     "start_time": "2023-05-03T14:41:27.661498Z"
    },
    "execution": {
     "iopub.execute_input": "2024-07-22T15:18:48.866761Z",
     "iopub.status.busy": "2024-07-22T15:18:48.866210Z",
     "iopub.status.idle": "2024-07-22T15:18:48.874044Z",
     "shell.execute_reply": "2024-07-22T15:18:48.873052Z",
     "shell.execute_reply.started": "2024-07-22T15:18:48.866719Z"
    },
    "hidden": true
   },
   "outputs": [],
   "source": [
    "y = 1.3\n",
    "\n",
    "tau_ini = 0.8\n",
    "taus = np.geomspace(1e-2, 10, 1000)\n",
    "\n",
    "Psi = lenses.Psi_SIS()\n",
    "\n",
    "# extract p_crits first\n",
    "It = time_domain_c.It_SingleIntegral_C(Psi, y, {'eval_mode':'exact'})\n",
    "p_crits = It.p_crits"
   ]
  },
  {
   "cell_type": "markdown",
   "metadata": {
    "hidden": true
   },
   "source": [
    "Performance for a single point, numpy arrays and numpy arrays in parallel"
   ]
  },
  {
   "cell_type": "code",
   "execution_count": null,
   "metadata": {
    "ExecuteTime": {
     "end_time": "2023-05-03T14:41:34.124260Z",
     "start_time": "2023-05-03T14:41:28.466670Z"
    },
    "execution": {
     "iopub.execute_input": "2024-07-22T15:18:48.875942Z",
     "iopub.status.busy": "2024-07-22T15:18:48.875425Z",
     "iopub.status.idle": "2024-07-22T15:19:18.528232Z",
     "shell.execute_reply": "2024-07-22T15:19:18.527203Z",
     "shell.execute_reply.started": "2024-07-22T15:18:48.875900Z"
    },
    "hidden": true
   },
   "outputs": [],
   "source": [
    "%timeit wrapper.pySingleIntegral(tau_ini, y, Psi, p_crits, method='qag15')\n",
    "%timeit wrapper.pySingleIntegral(taus, y, Psi, p_crits, method='qag15', parallel=False)\n",
    "%timeit wrapper.pySingleIntegral(taus, y, Psi, p_crits, method='qag15')"
   ]
  },
  {
   "cell_type": "markdown",
   "metadata": {
    "hidden": true
   },
   "source": [
    "We can compare it with the exact result"
   ]
  },
  {
   "cell_type": "code",
   "execution_count": null,
   "metadata": {
    "ExecuteTime": {
     "end_time": "2023-05-03T14:41:42.899655Z",
     "start_time": "2023-05-03T14:41:41.983317Z"
    },
    "execution": {
     "iopub.execute_input": "2024-07-22T15:19:18.530660Z",
     "iopub.status.busy": "2024-07-22T15:19:18.529602Z",
     "iopub.status.idle": "2024-07-22T15:19:19.513483Z",
     "shell.execute_reply": "2024-07-22T15:19:19.512001Z",
     "shell.execute_reply.started": "2024-07-22T15:19:18.530608Z"
    },
    "hidden": true
   },
   "outputs": [],
   "source": [
    "Is = wrapper.pySingleIntegral(taus, y, Psi, p_crits, method='direct')\n",
    "It_exact = wrapper.pyIt_SIS(taus, y, 1)\n",
    "\n",
    "fig, ax = plt.subplots()\n",
    "ax.plot(taus, np.abs(Is-It_exact)/It_exact)\n",
    "ax.grid()\n",
    "ax.set_xlabel('$\\\\tau$')\n",
    "ax.set_ylabel('$|I-I_{exact}|/|I_{exact}|$')\n",
    "ax.set_xscale('log')\n",
    "ax.set_yscale('log')"
   ]
  },
  {
   "cell_type": "markdown",
   "metadata": {
    "heading_collapsed": true,
    "hidden": true,
    "jp-MarkdownHeadingCollapsed": true
   },
   "source": [
    "### Semianalytic SIS"
   ]
  },
  {
   "cell_type": "markdown",
   "metadata": {},
   "source": [
    "Semi-analytical formula for the SIS"
   ]
  },
  {
   "cell_type": "code",
   "execution_count": null,
   "metadata": {
    "ExecuteTime": {
     "end_time": "2023-05-03T14:41:43.687612Z",
     "start_time": "2023-05-03T14:41:43.684440Z"
    },
    "execution": {
     "iopub.execute_input": "2024-07-22T15:19:19.518736Z",
     "iopub.status.busy": "2024-07-22T15:19:19.518116Z",
     "iopub.status.idle": "2024-07-22T15:19:19.524981Z",
     "shell.execute_reply": "2024-07-22T15:19:19.523545Z",
     "shell.execute_reply.started": "2024-07-22T15:19:19.518694Z"
    },
    "hidden": true
   },
   "outputs": [],
   "source": [
    "ws = np.geomspace(1e-2, 1e2, 1000)"
   ]
  },
  {
   "cell_type": "markdown",
   "metadata": {},
   "source": [
    "Strong and weak lensing tests. The `'direct'` method usually outperforms the default `'osc'` method, but it cannot be used for high frequencies."
   ]
  },
  {
   "cell_type": "code",
   "execution_count": null,
   "metadata": {
    "ExecuteTime": {
     "end_time": "2023-05-03T14:41:48.582938Z",
     "start_time": "2023-05-03T14:41:44.509815Z"
    },
    "execution": {
     "iopub.execute_input": "2024-07-22T15:19:19.527242Z",
     "iopub.status.busy": "2024-07-22T15:19:19.526343Z",
     "iopub.status.idle": "2024-07-22T15:19:26.729776Z",
     "shell.execute_reply": "2024-07-22T15:19:26.728559Z",
     "shell.execute_reply.started": "2024-07-22T15:19:19.527188Z"
    },
    "hidden": true
   },
   "outputs": [],
   "source": [
    "y = 0.3\n",
    "Fw1 = freq_domain_c.Fw_SemiAnalyticSIS_C(y)\n",
    "Fw2 = freq_domain_c.Fw_SemiAnalyticSIS_C(y, {'method':'direct'})\n",
    "\n",
    "%timeit Fw1.eval_Fw(ws)\n",
    "%timeit Fw2.eval_Fw(ws)"
   ]
  },
  {
   "cell_type": "code",
   "execution_count": null,
   "metadata": {
    "execution": {
     "iopub.execute_input": "2024-07-22T15:19:26.732035Z",
     "iopub.status.busy": "2024-07-22T15:19:26.731542Z",
     "iopub.status.idle": "2024-07-22T15:19:38.357637Z",
     "shell.execute_reply": "2024-07-22T15:19:38.356351Z",
     "shell.execute_reply.started": "2024-07-22T15:19:26.731985Z"
    }
   },
   "outputs": [],
   "source": [
    "y = 1.3\n",
    "Fw1 = freq_domain_c.Fw_SemiAnalyticSIS_C(y)\n",
    "Fw2 = freq_domain_c.Fw_SemiAnalyticSIS_C(y, {'method':'direct'})\n",
    "\n",
    "%timeit Fw1.eval_Fw(ws)\n",
    "%timeit Fw2.eval_Fw(ws)"
   ]
  },
  {
   "cell_type": "markdown",
   "metadata": {
    "heading_collapsed": true,
    "hidden": true,
    "jp-MarkdownHeadingCollapsed": true
   },
   "source": [
    "### General F(w)"
   ]
  },
  {
   "cell_type": "markdown",
   "metadata": {
    "hidden": true
   },
   "source": [
    "Weak-lensing speed"
   ]
  },
  {
   "cell_type": "code",
   "execution_count": null,
   "metadata": {
    "ExecuteTime": {
     "end_time": "2023-05-03T14:42:12.408531Z",
     "start_time": "2023-05-03T14:42:12.379181Z"
    },
    "execution": {
     "iopub.execute_input": "2024-07-22T15:19:38.360114Z",
     "iopub.status.busy": "2024-07-22T15:19:38.359113Z",
     "iopub.status.idle": "2024-07-22T15:19:48.902444Z",
     "shell.execute_reply": "2024-07-22T15:19:48.901348Z",
     "shell.execute_reply.started": "2024-07-22T15:19:38.360063Z"
    },
    "hidden": true
   },
   "outputs": [],
   "source": [
    "y = 1.3\n",
    "It = time_domain_c.It_AnalyticSIS_C(y, {'Nt':5000})\n",
    "\n",
    "%timeit Fw = freq_domain_c.Fw_FFT_C(It)"
   ]
  },
  {
   "cell_type": "markdown",
   "metadata": {
    "hidden": true
   },
   "source": [
    "Strong-lensing speed"
   ]
  },
  {
   "cell_type": "code",
   "execution_count": null,
   "metadata": {
    "ExecuteTime": {
     "end_time": "2023-05-03T14:42:24.745207Z",
     "start_time": "2023-05-03T14:42:23.260579Z"
    },
    "execution": {
     "iopub.execute_input": "2024-07-22T15:19:48.904759Z",
     "iopub.status.busy": "2024-07-22T15:19:48.904217Z",
     "iopub.status.idle": "2024-07-22T15:20:01.607444Z",
     "shell.execute_reply": "2024-07-22T15:20:01.606250Z",
     "shell.execute_reply.started": "2024-07-22T15:19:48.904716Z"
    },
    "hidden": true
   },
   "outputs": [],
   "source": [
    "y = 0.3\n",
    "It = time_domain_c.It_AnalyticSIS_C(y, {'Nt':5000})\n",
    "\n",
    "%timeit Fw = freq_domain_c.Fw_FFT_C(It)"
   ]
  },
  {
   "cell_type": "markdown",
   "metadata": {
    "hidden": true
   },
   "source": [
    "Weak-lensing precision"
   ]
  },
  {
   "cell_type": "code",
   "execution_count": null,
   "metadata": {
    "ExecuteTime": {
     "end_time": "2023-05-03T14:42:26.997810Z",
     "start_time": "2023-05-03T14:42:25.660880Z"
    },
    "execution": {
     "iopub.execute_input": "2024-07-22T15:20:01.609345Z",
     "iopub.status.busy": "2024-07-22T15:20:01.608960Z",
     "iopub.status.idle": "2024-07-22T15:20:02.695435Z",
     "shell.execute_reply": "2024-07-22T15:20:02.694343Z",
     "shell.execute_reply.started": "2024-07-22T15:20:01.609320Z"
    },
    "hidden": true
   },
   "outputs": [],
   "source": [
    "y = 1.3\n",
    "\n",
    "It_std = time_domain_c.It_AnalyticSIS_C(y)\n",
    "Fw_std = freq_domain_c.Fw_FFT_C(It_std)\n",
    "\n",
    "It_high = time_domain_c.It_AnalyticSIS_C(y, {'sampling':'oversampling'})\n",
    "Fw_high = freq_domain_c.Fw_FFT_C(It_high, p_prec={'N_above_discard':8})\n",
    "\n",
    "Fw_exact = freq_domain_c.Fw_SemiAnalyticSIS_C(y)\n",
    "\n",
    "Fws_std  = Fw_std.Fw_grid\n",
    "Fws_high = Fw_high.Fw_grid\n",
    "Fws_std_exact  = Fw_exact.eval_Fw(Fw_std.w_grid)\n",
    "Fws_high_exact = Fw_exact.eval_Fw(Fw_high.w_grid)\n",
    "\n",
    "fig, ax = plt.subplots()\n",
    "ax.plot(Fw_std.w_grid, np.abs(Fws_std-Fws_std_exact)/np.abs(Fws_std_exact), label='std prec')\n",
    "ax.plot(Fw_high.w_grid, np.abs(Fws_high-Fws_high_exact)/np.abs(Fws_high_exact), label='high prec')\n",
    "ax.legend()\n",
    "ax.set_xscale('log')\n",
    "ax.set_yscale('log')\n",
    "ax.set_title('y=%g' % y)\n",
    "ax.set_xlabel('$w$')\n",
    "ax.set_ylabel('$|F-F_{exact}|/|F_{exact}|$')\n",
    "ax.grid()"
   ]
  },
  {
   "cell_type": "markdown",
   "metadata": {
    "ExecuteTime": {
     "end_time": "2023-04-08T20:54:46.525322Z",
     "start_time": "2023-04-08T20:54:46.499076Z"
    },
    "hidden": true
   },
   "source": [
    "Strong-lensing precision"
   ]
  },
  {
   "cell_type": "code",
   "execution_count": null,
   "metadata": {
    "ExecuteTime": {
     "end_time": "2023-05-03T14:42:29.662264Z",
     "start_time": "2023-05-03T14:42:28.232802Z"
    },
    "execution": {
     "iopub.execute_input": "2024-07-22T15:20:02.698376Z",
     "iopub.status.busy": "2024-07-22T15:20:02.697525Z",
     "iopub.status.idle": "2024-07-22T15:20:03.826122Z",
     "shell.execute_reply": "2024-07-22T15:20:03.824432Z",
     "shell.execute_reply.started": "2024-07-22T15:20:02.698324Z"
    },
    "hidden": true
   },
   "outputs": [],
   "source": [
    "y = 0.3\n",
    "\n",
    "It_std = time_domain_c.It_AnalyticSIS_C(y)\n",
    "Fw_std = freq_domain_c.Fw_FFT_C(It_std)\n",
    "\n",
    "It_high = time_domain_c.It_AnalyticSIS_C(y, {'sampling':'oversampling'})\n",
    "Fw_high = freq_domain_c.Fw_FFT_C(It_high, p_prec={'N_above_discard':8})\n",
    "\n",
    "Fw_exact = freq_domain_c.Fw_SemiAnalyticSIS_C(y)\n",
    "\n",
    "Fws_std  = Fw_std.Fw_grid\n",
    "Fws_high = Fw_high.Fw_grid\n",
    "Fws_std_exact  = Fw_exact.eval_Fw(Fw_std.w_grid)\n",
    "Fws_high_exact = Fw_exact.eval_Fw(Fw_high.w_grid)\n",
    "\n",
    "fig, ax = plt.subplots()\n",
    "ax.plot(Fw_std.w_grid, np.abs(Fws_std-Fws_std_exact)/np.abs(Fws_std_exact), label='std prec')\n",
    "ax.plot(Fw_high.w_grid, np.abs(Fws_high-Fws_high_exact)/np.abs(Fws_high_exact), label='high prec')\n",
    "ax.legend()\n",
    "ax.set_xscale('log')\n",
    "ax.set_yscale('log')\n",
    "ax.set_title('y=%g' % y)\n",
    "ax.set_xlabel('$w$')\n",
    "ax.set_ylabel('$|F-F_{exact}|/|F_{exact}|$')\n",
    "ax.grid()"
   ]
  },
  {
   "cell_type": "code",
   "execution_count": null,
   "metadata": {},
   "outputs": [],
   "source": []
  }
 ],
 "metadata": {
  "kernelspec": {
   "display_name": "Python 3 (ipykernel)",
   "language": "python",
   "name": "python3"
  },
  "language_info": {
   "codemirror_mode": {
    "name": "ipython",
    "version": 3
   },
   "file_extension": ".py",
   "mimetype": "text/x-python",
   "name": "python",
   "nbconvert_exporter": "python",
   "pygments_lexer": "ipython3",
   "version": "3.10.12"
  },
  "varInspector": {
   "cols": {
    "lenName": 16,
    "lenType": 16,
    "lenVar": 40
   },
   "kernels_config": {
    "python": {
     "delete_cmd_postfix": "",
     "delete_cmd_prefix": "del ",
     "library": "var_list.py",
     "varRefreshCmd": "print(var_dic_list())"
    },
    "r": {
     "delete_cmd_postfix": ") ",
     "delete_cmd_prefix": "rm(",
     "library": "var_list.r",
     "varRefreshCmd": "cat(var_dic_list()) "
    }
   },
   "types_to_exclude": [
    "module",
    "function",
    "builtin_function_or_method",
    "instance",
    "_Feature"
   ],
   "window_display": false
  }
 },
 "nbformat": 4,
 "nbformat_minor": 4
}
