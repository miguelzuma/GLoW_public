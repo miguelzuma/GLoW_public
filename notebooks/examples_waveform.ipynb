{
 "cells": [
  {
   "cell_type": "code",
   "execution_count": null,
   "metadata": {},
   "outputs": [],
   "source": [
    "import numpy as np\n",
    "import matplotlib.pyplot as plt\n",
    "\n",
    "from glow import waveform\n",
    "from glow import time_domain_c, freq_domain_c, freq_domain_c\n",
    "from glow import physical_units as phys\n",
    "from glow import tools\n",
    "\n",
    "import astropy.units as u\n",
    "import astropy.constants as c\n",
    "import astropy.cosmology.units as cu\n",
    "from astropy.cosmology import Planck18 as cosmo\n",
    "\n",
    "GMsun8pi=(8*c.G*c.M_sun*np.pi/c.c**3).decompose().value\n",
    "yr_to_s=u.yr.to(u.s)\n"
   ]
  },
  {
   "cell_type": "code",
   "execution_count": null,
   "metadata": {},
   "outputs": [],
   "source": [
    "# Produce unlensed wavefrom\n",
    "detector='LISA'\n",
    "z_src_waveform= 5 * cu.redshift\n",
    "dL_src= z_src_waveform.to(u.Mpc, cu.with_redshift(cosmo, distance=\"luminosity\")).value\n",
    "Mtot=1e7\n",
    "Mtot_detector= Mtot*(1+z_src_waveform)\n",
    "q=1\n",
    "spin=0\n",
    "inc=0\n",
    "Tobs=(0.8*u.yr).to('s').value\n",
    "# Lower bound of the frequecy. Maximum between expected frequency at -Tobs and the detector observable bound.\n",
    "f_lower= np.amax([waveform.f0_obs(Mtot_detector, Tobs),waveform.f_bounds_detector(detector)[0]])\n",
    "f_final= waveform.f_isco(Mtot_detector)*(1+z_src_waveform) # If too short, multiply by k>1\n",
    "\n",
    "# Same keys of get_fd_waveform in pycbc\n",
    "\n",
    "params_source= {'approximant': \"IMRPhenomXHM\",\n",
    "            'mass1'          : Mtot_detector * q/(1. + q),\n",
    "            'mass2'          : Mtot_detector * 1/(1. + q),\n",
    "            'spin1z'         : spin,\n",
    "            'spin2z'         : spin,\n",
    "            'distance'       : dL_src,\n",
    "            'inclination'    : inc,\n",
    "            'long_asc_nodes' : 0,\n",
    "            'f_lower'        : f_lower,\n",
    "            'delta_f'        : 1/Tobs,\n",
    "            'f_final':  f_final\n",
    "            }\n",
    "\n",
    "\n",
    "# Generate Frequency Domain (FD) Waveform object\n",
    "\n",
    "h_fd=waveform.WaveformFD(params_source)\n"
   ]
  },
  {
   "cell_type": "code",
   "execution_count": null,
   "metadata": {},
   "outputs": [],
   "source": [
    "# Sky location and polariation can be specified in the params_source (above) or later (below)\n",
    "# Once specified, the projected strain is computed \n",
    "\n",
    "sky_dict = {'declination' : 0.05, 'right_ascension' : 3.67, 'polarization': 0.34}\n",
    "\n",
    "h_fd.get_projected_strain(sky_dict=sky_dict)\n"
   ]
  },
  {
   "cell_type": "code",
   "execution_count": null,
   "metadata": {},
   "outputs": [],
   "source": [
    "# If needed, load a psd function either from file or pycbc (get_psd_from_file/_pycbc)\n",
    "# External psd can be used, check documentation\n",
    "\n",
    "psd=waveform.get_psd_from_file(detector)\n",
    "h_fd.load_psd(psd)"
   ]
  },
  {
   "cell_type": "code",
   "execution_count": null,
   "metadata": {},
   "outputs": [],
   "source": [
    "plt.loglog(h_fd.sample_frequencies,h_fd.sample_frequencies*np.abs(h_fd.strain), label='h strain')\n",
    "plt.loglog(h_fd.sample_frequencies,np.sqrt(h_fd.sample_frequencies*np.abs(h_fd.psd_grid)), 'k',label='sensitivity')\n",
    "plt.ylabel('Characteristic strain')\n",
    "plt.legend()\n",
    "print('SNR of the signal: {:.1f}'.format(h_fd.snr))"
   ]
  },
  {
   "cell_type": "code",
   "execution_count": null,
   "metadata": {},
   "outputs": [],
   "source": [
    "# Produce and plot the time-domain waveform\n",
    "# We shift by the ringdown duration\n",
    "\n",
    "h_td = h_fd.to_timedomain(cyclic_time_shift=-Mtot/300)\n",
    "hp_td, hx_td= h_td.polarizations\n",
    "\n",
    "plt.plot(hp_td.sample_times, h_td.strain)\n",
    "plt.xlim(-Tobs/100,Mtot/300)"
   ]
  },
  {
   "cell_type": "markdown",
   "metadata": {},
   "source": [
    "## Lensed Waveforms"
   ]
  },
  {
   "cell_type": "markdown",
   "metadata": {},
   "source": [
    "Here we show how to compute lensed waveforms starting from the above unlensed waveform."
   ]
  },
  {
   "cell_type": "markdown",
   "metadata": {},
   "source": [
    "### Example 1: weak Lensing"
   ]
  },
  {
   "cell_type": "code",
   "execution_count": null,
   "metadata": {},
   "outputs": [],
   "source": [
    "# We first define the lens and units objects\n",
    "\n",
    "zl = 1.1\n",
    "zs = 3.\n",
    "\n",
    "p_lens = {'name':'CIS', 'Mvir_Msun':8e9, 'rc_pc':10}\n",
    "\n",
    "Psi_lens, units_lens = phys.Lens_Units(zl, zs, p_lens)\n",
    "\n",
    "Psi_lens.display_info()"
   ]
  },
  {
   "cell_type": "code",
   "execution_count": null,
   "metadata": {},
   "outputs": [],
   "source": [
    "# We compute the lensing amplification factor in time and frequency domain using GLOW\n",
    "\n",
    "y=2\n",
    "\n",
    "It = time_domain_c.It_SingleIntegral_C(Psi_lens, y)\n",
    "\n",
    "Fw= freq_domain_c.Fw_FFT_C(It, p_prec={'wmin':1})\n"
   ]
  },
  {
   "cell_type": "code",
   "execution_count": null,
   "metadata": {},
   "outputs": [],
   "source": [
    "# Now combined Fw and the units with the unlensed waveform to get the lensed one\n",
    "# When w_opt=True Fw is recomputed within the optimal frequency set by the waveform's sampling frequency range, if it's not already the case. A warning informs the user.\n",
    "\n",
    "h_fd_lens= waveform.get_lensed_fd_from_Fw(h_fd, Fw, units_lens, w_opt=True)\n"
   ]
  },
  {
   "cell_type": "code",
   "execution_count": null,
   "metadata": {},
   "outputs": [],
   "source": [
    "# We can check if a waveform object was lensed:\n",
    "\n",
    "if h_fd_lens.islensed:\n",
    "    print('This is a lensed waveform!')\n",
    "\n",
    "# The lensed waveform object holds the unlensed waveform:\n",
    "\n",
    "h_fd_lens.unlensed\n"
   ]
  },
  {
   "cell_type": "code",
   "execution_count": null,
   "metadata": {},
   "outputs": [],
   "source": [
    "freqs=h_fd.sample_frequencies\n",
    "plt.loglog(freqs, freqs*np.abs(h_fd.strain), '-', c='C0', label='unlensed')\n",
    "plt.loglog(freqs, freqs*np.abs(h_fd_lens.strain), c='C1', label='lensed')\n",
    "plt.loglog(freqs, np.sqrt(freqs*h_fd.psd_grid), '-', c='k', alpha=0.5, label='sensitivity')\n",
    "\n",
    "\n",
    "plt.xlabel('f [Hz]')\n",
    "plt.ylabel('Characteristic strain')\n",
    "\n",
    "plt.xlim(h_fd.low_frequency_cutoff,h_fd.high_frequency_cutoff)\n",
    "\n",
    "# plt.ylim(top=1e-15, bottom=5e-22)\n",
    "plt.legend()\n",
    "plt.grid()"
   ]
  },
  {
   "cell_type": "code",
   "execution_count": null,
   "metadata": {},
   "outputs": [],
   "source": [
    "# Time domain waveforms \n",
    "\n",
    "h_td_lens = h_fd_lens.to_timedomain(cyclic_time_shift=-Mtot/300, unlensed=True) # If unlensed=True also the unlensed waveform is transformed and included in the time domain waveform object  \n",
    "hp_td_lens, hx_td_lens= h_td_lens.polarizations\n",
    "\n",
    "h_td = h_td_lens.unlensed\n",
    "hp_td, hx_td = h_td.polarizations\n",
    "\n",
    "ts=h_td.sample_times.numpy()"
   ]
  },
  {
   "cell_type": "code",
   "execution_count": null,
   "metadata": {},
   "outputs": [],
   "source": [
    "fig, ax= plt.subplots(figsize=(10,5))\n",
    "\n",
    "ax.tick_params(axis='x',          # changes apply to the x-axis\n",
    "                which='both',      # both major and minor ticks are affected\n",
    "                bottom=False,      # ticks along the bottom edge are off\n",
    "                top=False,         # ticks along the top edge are off\n",
    "                labelbottom=False)\n",
    "\n",
    "ax.plot(ts, hp_td, '-', label='unlensed', c='C0', alpha=0.6)\n",
    "ax.plot(ts, hp_td_lens, label='lensed', c='C1', zorder=0)\n",
    "ax.set_ylabel('\\'+\\' polarization')\n",
    "\n",
    "xlim=(-Tobs/100,Mtot/300)\n",
    "ax.set_xlim(*xlim)\n",
    "ax.set_xlabel('t [s]')\n",
    "ax.grid(alpha=0.4)\n",
    "\n",
    "ax.set_title('$M_{{\\\\rm BBH}}= {:s}\\,M_\\odot,\\,M_{{\\\\rm lz}}={:s}\\,M_\\odot,\\,y={:.1f}$'.format(tools.latex_float(Mtot),tools.latex_float(units_lens.Mlz.value),y))\n",
    "\n",
    "ax.legend(ncols=4)\n",
    "\n"
   ]
  },
  {
   "cell_type": "code",
   "execution_count": null,
   "metadata": {},
   "outputs": [],
   "source": [
    "# Normalizing the strain by the SNR we single out the pure wave optics distortions, besides overall magnifications.\n",
    "\n",
    "fig, ax= plt.subplots(figsize=(10,5))\n",
    "\n",
    "ax.tick_params(axis='x',          # changes apply to the x-axis\n",
    "                which='both',      # both major and minor ticks are affected\n",
    "                bottom=False,      # ticks along the bottom edge are off\n",
    "                top=False,         # ticks along the top edge are off\n",
    "                labelbottom=False)\n",
    "\n",
    "ax.plot(ts, h_td.strain/h_fd.snr, '-', label='unlensed', c='C0', alpha=0.6)\n",
    "ax.plot(ts, h_td_lens.strain/h_fd_lens.snr, '-', label='lensed', c='C1', zorder=0)\n",
    "\n",
    "ax.set_ylabel('strain')\n",
    "\n",
    "xlim=(-Tobs/50,Mtot/300)\n",
    "ax.set_xlim(*xlim)\n",
    "ax.set_xlabel('t [s]')\n",
    "ax.grid(alpha=0.4)\n",
    "\n",
    "ax.set_title('$M_{{\\\\rm BBH}}= {:s}\\,M_\\odot,\\,M_{{\\\\rm lz}}={:s}\\,M_\\odot,\\,y={:.1f}$'.format(tools.latex_float(Mtot),tools.latex_float(units_lens.Mlz.value),y))\n",
    "\n",
    "ax.legend(ncols=4)"
   ]
  },
  {
   "attachments": {},
   "cell_type": "markdown",
   "metadata": {},
   "source": [
    "### Example 2: strong lensing"
   ]
  },
  {
   "cell_type": "code",
   "execution_count": null,
   "metadata": {},
   "outputs": [],
   "source": [
    "# Produce unlensed wavefrom\n",
    "\n",
    "detector='LIGO'\n",
    "z_src_waveform= 0.3 * cu.redshift\n",
    "dL_src= z_src_waveform.to(u.Mpc, cu.with_redshift(cosmo, distance=\"luminosity\")).value\n",
    "Mtot=100\n",
    "Mtot_detector= Mtot*(1+z_src_waveform)\n",
    "q=1\n",
    "spin=0\n",
    "inc=0\n",
    "Tobs=(50*u.s).value\n",
    "# Lower bound of the frequecy. Maximum between expected frequency at -Tobs and the detector observable bound.\n",
    "f_lower= np.amax([waveform.f0_obs(Mtot_detector, Tobs),waveform.f_bounds_detector(detector)[0]])\n",
    "f_final= 5*waveform.f_isco(Mtot_detector)*(1+z_src_waveform) # If too short, multiply by k>1\n",
    "\n",
    "# Same keys of get_fd_waveform in pycbc\n",
    "\n",
    "params_source= {'approximant': \"IMRPhenomXHM\",\n",
    "            'mass1'          : Mtot_detector * q/(1. + q),\n",
    "            'mass2'          : Mtot_detector * 1/(1. + q),\n",
    "            'spin1z'         : spin,\n",
    "            'spin2z'         : spin,\n",
    "            'distance'       : dL_src,\n",
    "            'inclination'    : inc,\n",
    "            'long_asc_nodes' : 0,\n",
    "            'f_lower'        : f_lower,\n",
    "            'delta_f'        : 1/Tobs,\n",
    "            'f_final':  f_final\n",
    "            }\n",
    "\n",
    "sky_dict = {'declination' : 0.05, 'right_ascension' : 3.67, 'polarization': 0.34}\n",
    "\n",
    "params_source.update(sky_dict)\n",
    "\n",
    "# Generate Frequency Domain (FD) Waveform object\n",
    "\n",
    "h_fd=waveform.WaveformFD(params_source)\n"
   ]
  },
  {
   "cell_type": "code",
   "execution_count": null,
   "metadata": {},
   "outputs": [],
   "source": [
    "# If needed, load a psd function either from file or pycbc (get_psd_from_file/_pycbc)\n",
    "# External psd can be used, check documentation\n",
    "\n",
    "psd=waveform.get_psd_from_file(detector)\n",
    "\n",
    "h_fd.load_psd(psd)"
   ]
  },
  {
   "cell_type": "code",
   "execution_count": null,
   "metadata": {},
   "outputs": [],
   "source": [
    "plt.loglog(h_fd.sample_frequencies,h_fd.sample_frequencies*np.abs(h_fd.strain), label='h strain')\n",
    "plt.loglog(h_fd.sample_frequencies,np.sqrt(h_fd.sample_frequencies*np.abs(h_fd.psd_grid)), 'k',label='sensitivity')\n",
    "plt.ylabel('Characteristic strain')\n",
    "plt.legend()\n",
    "print('SNR of the signal: {:.1f}'.format(h_fd.snr))"
   ]
  },
  {
   "cell_type": "code",
   "execution_count": null,
   "metadata": {},
   "outputs": [],
   "source": [
    "# Time-domain waveform\n",
    "h_td = h_fd.to_timedomain(alpha=0.04, cyclic_time_shift=-Mtot/300) # alpha tunes the windowing of the signal in the inverse fft\n",
    "hp_td, hx_td= h_td.polarizations\n",
    "\n",
    "plt.plot(hp_td.sample_times, hp_td)\n",
    "# plt.ylim(-1e-25,1e-25)\n",
    "# plt.xlim(-28,-20)\n",
    "\n",
    "plt.xlim(-Tobs/50, Mtot/300)"
   ]
  },
  {
   "cell_type": "code",
   "execution_count": null,
   "metadata": {},
   "outputs": [],
   "source": [
    "# We first define the lens and units objects\n",
    "\n",
    "zl = z_src_waveform/2\n",
    "zs = z_src_waveform\n",
    "\n",
    "p_lens = {'name':'point lens', 'M_Msun':1e4}\n",
    "\n",
    "Psi_lens, units_lens = phys.Lens_Units(zl, zs, p_lens)\n",
    "\n",
    "Psi_lens.display_info()"
   ]
  },
  {
   "cell_type": "code",
   "execution_count": null,
   "metadata": {},
   "outputs": [],
   "source": [
    "# Now combine Fw and the units with the unlensed waveform to get the lensed one\n",
    "# When w_opt=True Fw is recomputed within the optimal frequency set by the waveform's sampling frequency range, if it's not already the case. A warning informs the user.\n",
    "\n",
    "y=3 # This correspond to multiple, non-overlapping, images\n",
    "\n",
    "Fw= freq_domain_c.Fw_AnalyticPointLens_C(y)\n",
    "\n",
    "h_fd_lens= waveform.get_lensed_fd_from_Fw(h_fd, Fw, units_lens, w_opt=True)"
   ]
  },
  {
   "cell_type": "code",
   "execution_count": null,
   "metadata": {},
   "outputs": [],
   "source": [
    "# Compute the time delay between images \n",
    "\n",
    "if len(Fw.It.p_crits)>1:\n",
    "    print('Multiple images found')\n",
    "else:\n",
    "    print('Single image regime')\n",
    "\n",
    "Dtau=Fw.It.p_crits[1]['t']-Fw.It.p_crits[0]['t']\n",
    "time_delay=GMsun8pi/(2*np.pi)*units_lens.Mlz.to('Msun').value*Dtau\n",
    "\n",
    "print('Time delay: {:s} s'.format(tools.latex_float(time_delay)))"
   ]
  },
  {
   "cell_type": "code",
   "execution_count": null,
   "metadata": {},
   "outputs": [],
   "source": [
    "freqs=h_fd.sample_frequencies\n",
    "plt.loglog(freqs, freqs*np.abs(h_fd.strain), '-', c='C0', label='unlensed')\n",
    "plt.loglog(freqs, freqs*np.abs(h_fd_lens.strain), c='C1', label='lensed')\n",
    "plt.loglog(freqs, np.sqrt(freqs*h_fd.psd_grid), '-', c='k', label='sensitivity')\n",
    "\n",
    "\n",
    "plt.xlabel('f [Hz]')\n",
    "plt.ylabel('Characteristic strain')\n",
    "\n",
    "plt.xlim(h_fd.low_frequency_cutoff, h_fd.high_frequency_cutoff)\n",
    "\n",
    "plt.legend()\n",
    "plt.grid()"
   ]
  },
  {
   "cell_type": "code",
   "execution_count": null,
   "metadata": {},
   "outputs": [],
   "source": [
    "# Time domain waveforms \n",
    "# We shift by the approx time delay of the second image + the ringdown duration\n",
    "\n",
    "shift=-time_delay-Mtot/300\n",
    "\n",
    "h_td_lens = h_fd_lens.to_timedomain(alpha=0.04, cyclic_time_shift=shift, unlensed=True)\n",
    "hp_td_lens, hx_td_lens= h_td_lens.polarizations\n",
    "\n",
    "h_td = h_td_lens.unlensed\n",
    "hp_td, hx_td = h_td.polarizations\n",
    "\n",
    "ts=h_td.sample_times.numpy()"
   ]
  },
  {
   "cell_type": "code",
   "execution_count": null,
   "metadata": {},
   "outputs": [],
   "source": [
    "fig, ax= plt.subplots(figsize=(10,5))\n",
    "\n",
    "\n",
    "ax.plot(ts, h_td_lens.strain, label='lensed', c='C1')\n",
    "ax.set_ylabel('strain')\n",
    "xlim=(-Mtot/50, time_delay+Mtot/300)\n",
    "ax.set_xlim(*xlim)\n",
    "\n",
    "ax.set_xlabel('t [s]')\n",
    "ax.grid(alpha=0.4)\n",
    "\n",
    "ax.set_title('$M_{{\\\\rm BBH}}= {:s}\\,M_\\odot,\\,M_{{\\\\rm lz}}={:s}\\,M_\\odot,\\,y={:.1f}$'.format(tools.latex_float(Mtot),tools.latex_float(units_lens.Mlz.value),y))\n",
    "\n",
    "ax.legend(ncols=4)\n",
    "\n"
   ]
  },
  {
   "cell_type": "markdown",
   "metadata": {},
   "source": [
    "### Example 3: micro/milli-lensing"
   ]
  },
  {
   "cell_type": "code",
   "execution_count": null,
   "metadata": {},
   "outputs": [],
   "source": [
    "# We first define the lens and units objects\n",
    "\n",
    "zl = z_src_waveform/2\n",
    "zs = z_src_waveform\n",
    "\n",
    "p_lens = {'name':'point lens', 'M_Msun':4e2}\n",
    "\n",
    "Psi_lens, units_lens = phys.Lens_Units(zl, zs, p_lens)\n",
    "\n",
    "Psi_lens.display_info()"
   ]
  },
  {
   "cell_type": "code",
   "execution_count": null,
   "metadata": {},
   "outputs": [],
   "source": [
    "# Using the unlensed waveform introduced in the section above, we now show the case of images interference\n",
    "\n",
    "y=1 # Overlapping images\n",
    "\n",
    "Fw= freq_domain_c.Fw_AnalyticPointLens_C(y)\n",
    "\n",
    "h_fd_lens= waveform.get_lensed_fd_from_Fw(h_fd, Fw, units_lens, w_opt=True)"
   ]
  },
  {
   "cell_type": "code",
   "execution_count": null,
   "metadata": {},
   "outputs": [],
   "source": [
    "# Compute the time delay between images \n",
    "\n",
    "if len(Fw.It.p_crits)>1:\n",
    "    print('Multiple images found')\n",
    "else:\n",
    "    print('Single image regime')\n",
    "\n",
    "Dtau=Fw.It.p_crits[1]['t']-Fw.It.p_crits[0]['t']\n",
    "time_delay=GMsun8pi/(2*np.pi)*units_lens.Mlz.to('Msun').value*Dtau\n",
    "\n",
    "print('Time delay: {:s} s'.format(tools.latex_float(time_delay)))"
   ]
  },
  {
   "cell_type": "code",
   "execution_count": null,
   "metadata": {},
   "outputs": [],
   "source": [
    "freqs=h_fd.sample_frequencies\n",
    "plt.loglog(freqs, freqs*np.abs(h_fd.strain), '-', c='C0', label='unlensed')\n",
    "plt.loglog(freqs, freqs*np.abs(h_fd_lens.strain), c='C1', label='lensed')\n",
    "plt.loglog(freqs, np.sqrt(freqs*h_fd.psd_grid), '-', c='k', label='sensitivity')\n",
    "\n",
    "\n",
    "plt.xlabel('f [Hz]')\n",
    "plt.ylabel('Characteristic strain')\n",
    "\n",
    "plt.xlim(h_fd.low_frequency_cutoff, h_fd.high_frequency_cutoff)\n",
    "\n",
    "plt.legend()\n",
    "plt.grid()"
   ]
  },
  {
   "cell_type": "code",
   "execution_count": null,
   "metadata": {},
   "outputs": [],
   "source": [
    "# Time domain waveforms \n",
    "# We shift by the approx time delay of the second image + the ringdown duration\n",
    "\n",
    "shift=-time_delay-Mtot/300\n",
    "\n",
    "h_td_lens = h_fd_lens.to_timedomain(alpha=0.04, cyclic_time_shift=shift, unlensed=True)\n",
    "hp_td_lens, hx_td_lens= h_td_lens.polarizations\n",
    "\n",
    "h_td = h_td_lens.unlensed\n",
    "hp_td, hx_td = h_td.polarizations\n",
    "\n",
    "ts=h_td.sample_times.numpy()"
   ]
  },
  {
   "cell_type": "code",
   "execution_count": null,
   "metadata": {},
   "outputs": [],
   "source": [
    "fig, ax= plt.subplots(figsize=(10,5))\n",
    "\n",
    "ax.plot(ts, h_td.strain/h_fd.snr, label='unlensed', c='C0', alpha=0.6)\n",
    "\n",
    "ax.plot(ts, h_td_lens.strain/h_fd_lens.snr, label='lensed', c='C1', zorder=0)\n",
    "ax.set_ylabel('strain')\n",
    "xlim=(-Mtot/50, time_delay+Mtot/300)\n",
    "ax.set_xlim(*xlim)\n",
    "\n",
    "ax.set_xlabel('t [s]')\n",
    "ax.grid(alpha=0.4)\n",
    "\n",
    "ax.set_title('$M_{{\\\\rm BBH}}= {:s}\\,M_\\odot,\\,M_{{\\\\rm lz}}={:s}\\,M_\\odot,\\,y={:.1f}$'.format(tools.latex_float(Mtot),tools.latex_float(units_lens.Mlz.value),y))\n",
    "\n",
    "ax.legend(ncols=4)\n",
    "\n"
   ]
  },
  {
   "cell_type": "code",
   "execution_count": null,
   "metadata": {},
   "outputs": [],
   "source": []
  }
 ],
 "metadata": {
  "language_info": {
   "name": "python"
  }
 },
 "nbformat": 4,
 "nbformat_minor": 2
}
