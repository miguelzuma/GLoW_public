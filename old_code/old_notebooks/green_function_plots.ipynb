{
 "cells": [
  {
   "cell_type": "code",
   "execution_count": null,
   "metadata": {
    "execution": {
     "iopub.execute_input": "2023-07-13T16:07:51.184882Z",
     "iopub.status.busy": "2023-07-13T16:07:51.178975Z",
     "iopub.status.idle": "2023-07-13T16:07:52.162053Z",
     "shell.execute_reply": "2023-07-13T16:07:52.161437Z",
     "shell.execute_reply.started": "2023-07-13T16:07:51.184628Z"
    }
   },
   "outputs": [],
   "source": [
    "import numpy as np\n",
    "import matplotlib\n",
    "import matplotlib.pyplot as plt\n",
    "\n",
    "from glow import lenses\n",
    "from glow import time_domain\n",
    "from glow import time_domain_c\n",
    "from glow import freq_domain\n",
    "from glow import tools"
   ]
  },
  {
   "cell_type": "code",
   "execution_count": null,
   "metadata": {},
   "outputs": [],
   "source": [
    "#%matplotlib notebook\n",
    "%matplotlib inline"
   ]
  },
  {
   "cell_type": "markdown",
   "metadata": {},
   "source": [
    "## Pedagogical plot for the Green's function"
   ]
  },
  {
   "cell_type": "code",
   "execution_count": null,
   "metadata": {},
   "outputs": [],
   "source": [
    "Psi = lenses.Psi_SIS()\n",
    "p_phys = {'y':4}\n",
    "p_prec_time = {'tmin':1e-2, 'tmax':1e8, 'Nt':5000, 'sampling':'log', 'interp_kind':'linear'}\n",
    "It = time_domain.It_WL(Psi, p_phys, p_prec_time)\n",
    "\n",
    "p_prec_c = {'eval_mode' : 'exact'}\n",
    "Itc = time_domain_c.It_AnalyticSIS_C(p_phys, p_prec_c)"
   ]
  },
  {
   "cell_type": "code",
   "execution_count": null,
   "metadata": {},
   "outputs": [],
   "source": [
    "Itc.eval_It(10)"
   ]
  },
  {
   "cell_type": "code",
   "execution_count": null,
   "metadata": {},
   "outputs": [],
   "source": [
    "fmin = 1e-4\n",
    "fmax = 1e4\n",
    "\n",
    "p_prec_freq={'fmin':fmin, \\\n",
    "        'fmax':fmax, \\\n",
    "        'FFT method':'multigrid', \\\n",
    "        'parallel':False, \\\n",
    "        'N_below_discard':3,\\\n",
    "        'N_above_discard':1,\\\n",
    "        'N_keep':1}\n",
    "\n",
    "F  = freq_domain.Fw_WL(It, p_prec=p_prec_freq)"
   ]
  },
  {
   "cell_type": "code",
   "execution_count": null,
   "metadata": {},
   "outputs": [],
   "source": [
    "F_dict = {}\n",
    "I_dict = {}\n",
    "Ix_dict = {}\n",
    "\n",
    "for y in [2,4,8,16]:\n",
    "    p_phys['y'] = y\n",
    "    It = time_domain.It_WL(Psi, p_phys, p_prec_time) #time_domain.It_AnalyticSIS(p_phys)\n",
    "    I_dict[y] = It\n",
    "    #Itx = time_domain_c.It_AnalyticSIS_C(p_phys,p_prec_c)\n",
    "    #Ix_dict[y] = Itx.eval_It(It.t_grid)\n",
    "    #F  = freq_domain.Fw_WL(It, p_prec=p_prec_freq)\n",
    "    #F_dict[y] = F"
   ]
  },
  {
   "cell_type": "code",
   "execution_count": null,
   "metadata": {},
   "outputs": [],
   "source": [
    "for y in I_dict.keys():\n",
    "    I = I_dict[y]\n",
    "    tau, Ii = I.t_grid,I.It_grid#-I.It_grid[1]\n",
    "    plt.semilogx(tau,Ii/(2*np.pi))\n",
    "\n",
    "plt.xlim(1,1000)"
   ]
  },
  {
   "cell_type": "code",
   "execution_count": null,
   "metadata": {},
   "outputs": [],
   "source": [
    "for i, y in enumerate([2,4]):\n",
    "    I = I_dict[y]\n",
    "    tau, Ii = I.t_grid,I.It_grid #-I.It_grid[3]\n",
    "    dI = np.gradient(Ii/(2*np.pi),tau)\n",
    "    c = 'C%i'%i\n",
    "    plt.semilogx(tau,dI,label='%g'%y,color=c)\n",
    "    max_y = np.max(dI)\n",
    "    max_x = tau[np.argmax(dI)]\n",
    "    plt.annotate('', xy=(max_x, max_y), xytext=(0, max_y),\n",
    "             arrowprops=dict(arrowstyle= '<|-|>', edgecolor=c,linewidth=0.5))\n",
    "    #plt.annotate('', xy=(max_x+.0, max_y), xytext=(max_x+.0,0),\n",
    "    #         arrowprops=dict(arrowstyle= '<|-|>', edgecolor=c,linewidth=0.5))\n",
    "\n",
    "plt.xscale('linear')\n",
    "plt.legend(title='$y\\, [R_E]$')\n",
    "plt.grid(alpha=0.3)\n",
    "plt.xlim(0,20)\n",
    "plt.xlabel(r'$\\tau \\equiv t/4GM$')\n",
    "plt.ylabel(r'$G(\\tau)\\equiv \\frac{dI(\\tau)}{d\\tau}$')"
   ]
  },
  {
   "cell_type": "code",
   "execution_count": null,
   "metadata": {},
   "outputs": [],
   "source": [
    "for i, y in enumerate([2,4,8]):\n",
    "    I = I_dict[y]\n",
    "    tau, Ii = I.t_grid,I.It_grid #-I.It_grid[3]\n",
    "    dI = np.gradient(Ii,tau)\n",
    "    c = 'C%i'%i\n",
    "    plt.loglog(tau,dI,label='%g'%y,color=c)\n",
    "    plt.loglog(tau,-dI,'--',color=c)\n",
    "    max_y = np.max(dI)\n",
    "    print(max_y)\n",
    "    max_x = tau[np.argmax(dI)]\n",
    "    plt.annotate('', xy=(max_x, max_y), xytext=(1, max_y),\n",
    "             arrowprops=dict(arrowstyle= '-|>', edgecolor=c,linewidth=0.5))\n",
    "\n",
    "#plt.xscale('linear')\n",
    "plt.legend(title=r'$y\\, [\\theta_E]$')\n",
    "plt.grid(alpha=0.3)\n",
    "plt.xlim(1,100)\n",
    "plt.ylim(3e-4,2)\n",
    "plt.xlabel(r'$\\tau \\equiv t/4GM$')\n",
    "plt.ylabel(r'$G(\\tau)\\equiv \\frac{dI(\\tau)}{d\\tau}$')"
   ]
  },
  {
   "cell_type": "code",
   "execution_count": null,
   "metadata": {},
   "outputs": [],
   "source": [
    "size1=5.5\n",
    "\n",
    "fig,ax = plt.subplots(2,1,figsize=(size1,2*size1/1.61),gridspec_kw={'height_ratios': [1,1]})\n",
    "plt.subplots_adjust(hspace=0.25)\n",
    "\n",
    "for a in ax:\n",
    "    plt.setp(a.get_xticklabels(), fontsize=8)\n",
    "    plt.setp(a.get_yticklabels(), fontsize=8)\n",
    "    \n",
    "    \n",
    "plt.tight_layout()"
   ]
  },
  {
   "cell_type": "code",
   "execution_count": null,
   "metadata": {},
   "outputs": [],
   "source": []
  },
  {
   "cell_type": "code",
   "execution_count": null,
   "metadata": {},
   "outputs": [],
   "source": []
  }
 ],
 "metadata": {
  "kernelspec": {
   "display_name": "Python 3 (ipykernel)",
   "language": "python",
   "name": "python3"
  },
  "language_info": {
   "codemirror_mode": {
    "name": "ipython",
    "version": 3
   },
   "file_extension": ".py",
   "mimetype": "text/x-python",
   "name": "python",
   "nbconvert_exporter": "python",
   "pygments_lexer": "ipython3",
   "version": "3.10.6"
  }
 },
 "nbformat": 4,
 "nbformat_minor": 4
}
