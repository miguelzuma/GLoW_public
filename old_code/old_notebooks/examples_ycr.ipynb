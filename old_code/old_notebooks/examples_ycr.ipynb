{
 "cells": [
  {
   "cell_type": "code",
   "execution_count": null,
   "metadata": {},
   "outputs": [],
   "source": [
    "import numpy as np\n",
    "import matplotlib.pyplot as plt\n",
    "\n",
    "import glow.lenses as lenses\n",
    "import glow.mismatch  as mm\n",
    "import glow.waveform as wf\n",
    "import glow.tools as tools\n",
    "\n",
    "import glow.physical_units as pu\n",
    "pu.initialize_cosmology()\n",
    "\n",
    "from scipy.integrate import simps\n",
    "import astropy.units as u"
   ]
  },
  {
   "cell_type": "code",
   "execution_count": null,
   "metadata": {},
   "outputs": [],
   "source": [
    "# setting up the unlensed waveform\n",
    "\n",
    "# # # # LISA \n",
    "\n",
    "detector='LISA'\n",
    "z_src_waveform= 5\n",
    "Mtot=1e6\n",
    "Mtot_detector= Mtot*(1+z_src_waveform)\n",
    "q=1\n",
    "spin=0\n",
    "inc=0\n",
    "Tobs= 0.46*pu.yr_to_s\n",
    "Mchirp=(q/(1+q))**(3/5)*Mtot\n",
    "\n",
    "print('{:.1e}'.format(Mchirp))\n",
    "\n",
    "params_source= {'approximant': \"IMRPhenomXHM\",\n",
    "            'mass1'          : Mtot_detector * q/(1. + q),\n",
    "            'mass2'          : Mtot_detector * 1/(1. + q),\n",
    "            'spin1z'         : spin,\n",
    "            'spin2z'         : spin,\n",
    "            'redshift'       : z_src_waveform,\n",
    "            'inclination'    : inc,\n",
    "            'long_asc_nodes' : 0,\n",
    "            'f_lower'        : np.amax([wf.f0_obs(Mtot_detector, Tobs, units='s'),wf.f_bounds_detector(detector)[0]]),\n",
    "            'delta_f'        : 1/Tobs,\n",
    "            'f_final':  7*wf.f_isco(Mtot_detector),\n",
    "            }\n",
    "\n",
    "# A waveform is generated once a waveform object is initialized by the source parameters \n",
    "h_fd=wf.WaveformFD(params_source)\n",
    "psd=wf.get_psd_from_file(detector) \n",
    "h_fd.load_psd(psd)\n",
    "\n",
    "snr=h_fd.snr"
   ]
  },
  {
   "cell_type": "code",
   "execution_count": null,
   "metadata": {},
   "outputs": [],
   "source": [
    "# !! Check that the signal meets the psd on the lhs\n",
    "\n",
    "plt.loglog(h_fd.sample_frequencies,h_fd.sample_frequencies*np.abs(h_fd.p))\n",
    "plt.loglog(h_fd.sample_frequencies,np.sqrt(h_fd.sample_frequencies*np.abs(h_fd.psd_grid)))\n",
    "plt.xlabel('$f$ [Hz]')\n",
    "plt.ylabel('Characteristic strain')\n",
    "plt.grid()\n",
    "print('snr of the signal:', h_fd.snr)"
   ]
  },
  {
   "cell_type": "markdown",
   "metadata": {},
   "source": [
    "### NFW "
   ]
  },
  {
   "cell_type": "markdown",
   "metadata": {},
   "source": [
    "Lens potential"
   ]
  },
  {
   "cell_type": "code",
   "execution_count": null,
   "metadata": {},
   "outputs": [],
   "source": [
    "def get_Psis_NFW(Mvir_NFW_s, z_lens, z_src_waveform, norm_factor=1):\n",
    "\n",
    "    # Calculate lensing masses (MLzs) for NFW profile\n",
    "    MLz_NFW_s = [pu.to_MLz_NFW(Mvir, z_lens) for Mvir in Mvir_NFW_s]\n",
    "\n",
    "    # Calculate the effective distance ratio (deff)\n",
    "    deff = pu.get_deff(z_lens, z_src_waveform)\n",
    "\n",
    "    # Calculate the Einstein radius (xi_0) for NFW profile and normalize it\n",
    "    xi_0_NFW_s = [norm_factor * pu.get_R_E(MLz, deff) for MLz in MLz_NFW_s]\n",
    "\n",
    "    # Calculate the scale radius (rs) for NFW profile\n",
    "    rs_s = [pu.get_rs_NFW(Mvir, z_lens) for Mvir in Mvir_NFW_s]\n",
    "\n",
    "    # Calculate the dimensionless scale parameter xs = rs / xi_0 and extract the values\n",
    "    xs_s = [(rs / xi_0).decompose().value for (rs, xi_0) in zip(rs_s, xi_0_NFW_s)]\n",
    "\n",
    "    norm_factor = [1 / norm_factor] * len(xs_s)\n",
    "\n",
    "    # Compute potential\n",
    "\n",
    "    Psi_NFW_s=[lenses.Psi_NFW(p_phys={'psi0':(norm_factor[i])**2,'xs':xs},\n",
    "                            p_prec = {'eps_soft': 1e-15, 'eps_NFW': 0.01}) for i, xs in enumerate(xs_s)]\n",
    "\n",
    "    return Psi_NFW_s, MLz_NFW_s"
   ]
  },
  {
   "cell_type": "code",
   "execution_count": null,
   "metadata": {},
   "outputs": [],
   "source": [
    "low=1e2\n",
    "high=1e11\n",
    "\n",
    "# Generate an array of virial masses\n",
    "Mvir_NFW_s = np.geomspace(low, high, 15)  # Using LISA values, adjust if needed\n",
    "# Set the redshift of the lens as half of the source redshift\n",
    "z_lens = z_src_waveform / 2\n",
    "\n",
    "Psi_NFW_s, MLz_NFW_s = get_Psis_NFW(Mvir_NFW_s, z_lens, z_src_waveform, norm_factor=1)\n",
    "\n",
    "Psi_SIS=lenses.Psi_SIS()"
   ]
  },
  {
   "cell_type": "markdown",
   "metadata": {},
   "source": [
    "Lensing functions"
   ]
  },
  {
   "cell_type": "code",
   "execution_count": null,
   "metadata": {},
   "outputs": [],
   "source": [
    "from glow import time_domain_c\n",
    "y=1e-2\n",
    "\n",
    "Cprec = {'si_drivContour_taumin_over_y2' : 1e-3}\n",
    "\n",
    "p_prec_t = {'tmin' : 1e-7,\\\n",
    "          'tmax' : 1e8,\\\n",
    "          'Nt' : 50000,\n",
    "          'C_prec' : Cprec,\n",
    "          'parallel' : True}\n",
    "\n",
    "I_NFW_s=[time_domain_c.It_SingleIntegral_C(Psi_NFW, y=y, p_prec=p_prec_t) for Psi_NFW in Psi_NFW_s]\n",
    "\n",
    "taus=np.geomspace(p_prec_t['tmin'], p_prec_t['tmax'], num=1000)\n",
    "\n",
    "fig, ax= plt.subplots(figsize=(7,4))\n",
    "from matplotlib.cm import get_cmap\n",
    "cmap = get_cmap('viridis')\n",
    "\n",
    "l=0\n",
    "h=-1\n",
    "for i,(Mvir_NFW, I_NFW) in enumerate(zip(Mvir_NFW_s[l:h], I_NFW_s[l:h])):\n",
    "    c=cmap(i/len(Mvir_NFW_s[l:h]))\n",
    "    plt.semilogx(taus, I_NFW(taus), c=c, label='${:s}\\,M_\\odot$'.format(tools.latex_float(Mvir_NFW)))\n",
    "\n",
    "plt.grid()\n",
    "ax.set_ylabel('$I(\\\\tau)$')\n",
    "ax.set_xlabel('$\\\\tau$')\n",
    "# ax.set_xlim(1e-7,1e3)\n",
    "# ax.set_ylim(0.995,1.001)\n",
    "plt.legend(title='$M_{\\\\rm vir}$', edgecolor='white', loc='upper right')"
   ]
  },
  {
   "cell_type": "code",
   "execution_count": null,
   "metadata": {},
   "outputs": [],
   "source": [
    "\n",
    "from glow import freq_domain_c\n",
    "\n",
    "\n",
    "p_prec_f_opt_s=[]\n",
    "p_prec_f={'N_below_discard':8, 'N_above_discard':8}\n",
    "\n",
    "# Updates p_prec_f with waveform specific wmin, wmax\n",
    "for MLz in MLz_NFW_s:\n",
    "    p_prec_t_opt, p_prec_f_opt = wf.get_p_prec_optimal(h_fd.p, MLz) \n",
    "    for k,v in zip(p_prec_f.keys(), p_prec_f.values()):\n",
    "        p_prec_f_opt[k]=v\n",
    "    p_prec_f_opt_s.append(p_prec_f_opt)\n",
    "\n",
    "# FFT\n",
    "F_NFW_s=[freq_domain_c.Fw_FFT_C(I_NFW, p_prec_f_opt) for p_prec_f_opt, I_NFW in zip(p_prec_f_opt_s,I_NFW_s)]\n",
    "\n",
    "\n",
    "fig, ax= plt.subplots(figsize=(7,4))\n",
    "from matplotlib.cm import get_cmap\n",
    "cmap = get_cmap('viridis')\n",
    "\n",
    "l=0\n",
    "h=-1\n",
    "for i, (Mvir_NFW, p_prec_f_opt, F_NFW) in enumerate(zip(Mvir_NFW_s[l:h],p_prec_f_opt_s[l:h], F_NFW_s[l:h])):\n",
    "    c=cmap(i/len(Mvir_NFW_s[l:h]))\n",
    "    ws=np.geomspace(p_prec_f_opt['wmin'], p_prec_f_opt['wmax'], 100)\n",
    "    plt.plot(ws, np.abs(F_NFW(ws)), c=c, alpha=0.7,\n",
    "             label='${:s}\\,M_\\odot$'.format(tools.latex_float(Mvir_NFW)))\n",
    "\n",
    "plt.grid()\n",
    "ax.set_ylabel('$F(w)$')\n",
    "ax.set_xlabel('$w$')\n",
    "ax.set_xscale('log')\n",
    "ax.set_yscale('linear')\n",
    "plt.legend(title='$M_{\\\\rm vir}$', edgecolor='white', loc=2)"
   ]
  },
  {
   "cell_type": "markdown",
   "metadata": {},
   "source": [
    "Critical curves"
   ]
  },
  {
   "cell_type": "code",
   "execution_count": null,
   "metadata": {},
   "outputs": [],
   "source": [
    "ysl_s=[mm.find_ysl(Psi_NFW, xmin=1e-20, xmax=1e2, N=10000) for Psi_NFW in Psi_NFW_s]\n",
    "print(ysl_s)"
   ]
  },
  {
   "cell_type": "code",
   "execution_count": null,
   "metadata": {},
   "outputs": [],
   "source": [
    "y_crit_NFW_s=mm.get_y_crit_curve_opt(h_fd, Psi_NFW_s, MLz_NFW_s, 1e-3, 1, 1, \n",
    "                                    p_prec_t=p_prec_t, p_prec_f=p_prec_f, robust=False, SL=True)\n",
    "print(y_crit_NFW_s)"
   ]
  },
  {
   "cell_type": "code",
   "execution_count": null,
   "metadata": {},
   "outputs": [],
   "source": [
    "# Comparison with SIS\n",
    "Psi_SIS=lenses.Psi_SIS()\n",
    "MLz_SIS_s=pu.to_MLz_SIS(Mvir_NFW_s, z_src_waveform, z_lens)\n",
    "deff = pu.get_deff(z_lens, z_src_waveform)\n",
    "xi_0_SIS_s=[pu.get_R_E(MLz_SIS, deff) for MLz_SIS in MLz_SIS_s]\n",
    "y_crit_SIS_s=mm.get_y_crit_curve_opt(h_fd, Psi_SIS, MLz_SIS_s, 1, 100, 1, p_prec_t={'tmax':1e9})\n"
   ]
  },
  {
   "cell_type": "code",
   "execution_count": null,
   "metadata": {},
   "outputs": [],
   "source": [
    "y_crit_NFW_phys_s=[pu.to_phys_NFW(y_crit_NFW, Mvir_NFW, z_lens, z_src_waveform).value for (y_crit_NFW, Mvir_NFW) in zip(y_crit_NFW_s, Mvir_NFW_s)]\n",
    "y_crit_SIS_phys_s=[pu.to_phys_SIS(y_crit_SIS, Mvir_NFW, z_lens, z_src_waveform).value for (y_crit_SIS, Mvir_NFW) in zip(y_crit_SIS_s, Mvir_NFW_s)]\n"
   ]
  },
  {
   "cell_type": "code",
   "execution_count": null,
   "metadata": {},
   "outputs": [],
   "source": [
    "plt.semilogx(Mvir_NFW_s, y_crit_NFW_phys_s, label='NFW', marker='.')\n",
    "\n",
    "plt.semilogx(Mvir_NFW_s, y_crit_SIS_phys_s, label='SIS', marker='.')\n",
    "\n",
    "plt.yscale('log')\n",
    "\n",
    "plt.ylabel('$y_{\\\\rm crit}\\\\times \\\\xi_0 \\, [{\\\\rm Mpc}]$')\n",
    "plt.xlabel('$M_{\\\\rm vir}\\, [M_\\odot]$')\n",
    "plt.title(r\"$M_{{\\rm BBH}}= {:s}\\,M_\\odot\\,(z_s={:s})$\".format(tools.latex_float(Mtot), tools.latex_float(z_src_waveform)), fontsize=14)\n",
    "plt.grid()\n",
    "plt.legend()"
   ]
  },
  {
   "cell_type": "markdown",
   "metadata": {},
   "source": [
    "### NFW + SIS"
   ]
  },
  {
   "cell_type": "markdown",
   "metadata": {},
   "source": [
    "Lenses potential"
   ]
  },
  {
   "cell_type": "code",
   "execution_count": null,
   "metadata": {},
   "outputs": [],
   "source": [
    "def get_Psis_NFW(Mvir_NFW_s, z_lens, z_src_waveform, norm_factor=1):\n",
    "\n",
    "\n",
    "    # Set normalization factor\n",
    "    norm_factor = 1\n",
    "\n",
    "    low=1e3\n",
    "    high=1e11\n",
    "\n",
    "\n",
    "    # Generate an array of virial masses\n",
    "    Mvir_NFW_s = np.geomspace(low, high, 10)  # Using LISA values, adjust if needed\n",
    "    # Set the redshift of the lens as half of the source redshift\n",
    "    z_lens = z_src_waveform / 2\n",
    "\n",
    "    # Calculate lensing masses (MLzs) for NFW profile\n",
    "    MLzs_NFW = [pu.to_MLz_NFW(Mvir, z_lens) for Mvir in Mvir_NFW_s]\n",
    "\n",
    "    # Calculate the effective distance ratio (deff)\n",
    "    deff = pu.get_deff(z_lens, z_src_waveform)\n",
    "\n",
    "    # Calculate the Einstein radius (xi_0) for NFW profile and normalize it\n",
    "    xi_0_NFW_s = [norm_factor * pu.get_R_E(MLz, deff) for MLz in MLzs_NFW]\n",
    "\n",
    "    # Calculate the scale radius (rs) for NFW profile\n",
    "    rs_s = [pu.get_rs_NFW(Mvir, z_lens) for Mvir in Mvir_NFW_s]\n",
    "\n",
    "    # Calculate the dimensionless scale parameter xs = rs / xi_0 and extract the values\n",
    "    xs_s = [(rs / xi_0).decompose().value for (rs, xi_0) in zip(rs_s, xi_0_NFW_s)]\n",
    "\n",
    "    norm_factor = [1 / norm_factor] * len(xs_s)\n",
    "\n",
    "    # Compute potential\n",
    "\n",
    "    Psi_NFW_s=[lenses.Psi_NFW(p_phys={'psi0':(norm_factor[i])**2,'xs':xs},\n",
    "                            p_prec = {'eps_soft': 1e-15, 'eps_NFW': 0.01}) for i, xs in enumerate(xs_s)]\n",
    "\n",
    "    return Psi_NFW_s, MLzs_NFW\n",
    "\n",
    "def get_Psis_SIS(m, Mvir_NFW_s, MLzs_NFW, z_lens, z_src_waveform):\n",
    "\n",
    "    MLzs_SIS=[pu.to_MLz_SIS(m*Mvir_NFW, z_src_waveform, z_lens) for Mvir_NFW in Mvir_NFW_s]\n",
    "    Mvir_SIS_s=[pu.to_Mvir_SIS(MLz_SIS, z_src_waveform, z_lens) for MLz_SIS in MLzs_SIS]\n",
    "\n",
    "    # The normalization scale is NFW's\n",
    "    Psi_SIS_s=[lenses.Psi_SIS(p_phys={'psi0': np.sqrt(MLz_SIS/MLz_NFW)}) for MLz_NFW, MLz_SIS in zip(MLzs_NFW, MLzs_SIS)]\n",
    "\n",
    "    return Psi_SIS_s, MLzs_SIS"
   ]
  },
  {
   "cell_type": "code",
   "execution_count": null,
   "metadata": {},
   "outputs": [],
   "source": [
    "m=0.1\n",
    "\n",
    "low=1e2\n",
    "high=1e11\n",
    "\n",
    "Mvir_NFW_s = np.geomspace(low, high, 10)  # Using LISA values, adjust if needed\n",
    "# Set the redshift of the lens as half of the source redshift\n",
    "z_lens = z_src_waveform/2\n",
    "\n",
    "Psi_NFW_s, MLzs_NFW=get_Psis_NFW(Mvir_NFW_s, z_lens, z_src_waveform)\n",
    "Psi_SIS_s, MLzs_SIS=get_Psis_SIS(m, Mvir_NFW_s, MLzs_NFW, z_lens, z_src_waveform)\n",
    "\n",
    "Psi_comp_s = [lenses.CombinedLens({'lenses':[Psi_NFW, Psi_SIS]}) for Psi_NFW, Psi_SIS in zip(Psi_NFW_s, Psi_SIS_s)]\n",
    "for Psi_comp in Psi_comp_s: Psi_comp.isAxisym=True \n",
    "# Compute SL limit\n",
    "\n",
    "ysl_comp_s=mm.find_ysl(Psi_comp_s)"
   ]
  },
  {
   "cell_type": "markdown",
   "metadata": {},
   "source": [
    "Lensing functions"
   ]
  },
  {
   "cell_type": "code",
   "execution_count": null,
   "metadata": {},
   "outputs": [],
   "source": [
    "from glow import time_domain_c\n",
    "y=1e-2\n",
    "\n",
    "Cprec = {'si_drivContour_taumin_over_y2' : 1e-3}\n",
    "\n",
    "print('interpolation starts at tau=', (Cprec['si_drivContour_taumin_over_y2']*y**2))\n",
    "p_prec_t = {'tmin' : 1e-7,\\\n",
    "          'tmax' : 1e9,\\\n",
    "          'Nt' : 5000,\n",
    "          'C_prec' : Cprec,\n",
    "          'parallel' : True}\n",
    "\n",
    "I_comp_s=[time_domain_c.It_SingleIntegral_C(Psi_comp, y=y, p_prec=p_prec_t) for Psi_comp in Psi_comp_s]\n",
    "I_NFW_s=[time_domain_c.It_SingleIntegral_C(Psi_NFW, y=y, p_prec=p_prec_t) for Psi_NFW in Psi_NFW_s]\n",
    "I_SIS_s=[time_domain_c.It_SingleIntegral_C(Psi_SIS, y=y, p_prec=p_prec_t) for Psi_SIS in Psi_SIS_s]\n",
    "\n",
    "taus=np.geomspace(p_prec_t['tmin'], p_prec_t['tmax'], num=10000)\n",
    "\n",
    "fig, ax= plt.subplots(figsize=(7,4))\n",
    "from matplotlib.cm import get_cmap\n",
    "cmap = get_cmap('viridis')\n",
    "\n",
    "l=6\n",
    "h=8\n",
    "\n",
    "\n",
    "for i,(Mvir_NFW, I_comp, I_NFW, I_SIS) in enumerate(zip(Mvir_NFW_s[l:h], I_comp_s[l:h], I_NFW_s[l:h], I_SIS_s[l:h])):\n",
    "    c=cmap(i/len(Mvir_NFW_s[l:h]))\n",
    "    ax.semilogx(taus, I_comp(taus), c=c, label='${:s}\\,M_\\odot$'.format(tools.latex_float(Mvir_NFW)))\n",
    "    ax.semilogx(taus, I_NFW(taus), \":\", c=c)\n",
    "    ax.semilogx(taus, I_SIS(taus), \"--\", c=c)\n",
    "\n",
    "ax2=ax.twinx()\n",
    "ax2.plot([],[], \"k:\", label='NFW')\n",
    "ax2.plot([],[], \"k--\", label='SIS')\n",
    "ax2.legend( edgecolor='white',loc='center right')\n",
    "\n",
    "ax.grid()\n",
    "ax.set_ylabel('$I(\\\\tau)$')\n",
    "ax.set_xlabel('$\\\\tau$')\n",
    "# ax.set_xlim(1e-7,1e3)\n",
    "# ax.set_ylim(0.995,1.001)\n",
    "ax.legend(title='$M_{\\\\rm vir}$', edgecolor='white', loc='upper right')"
   ]
  },
  {
   "cell_type": "code",
   "execution_count": null,
   "metadata": {},
   "outputs": [],
   "source": [
    "from glow import freq_domain_c\n",
    "\n",
    "\n",
    "p_prec_f_opt_s=[]\n",
    "p_prec_f={'N_below_discard':8, 'N_above_discard':8 }\n",
    "# p_prec_f={}\n",
    "\n",
    "for MLz in MLzs_NFW:\n",
    "    p_prec_t_opt, p_prec_f_opt = wf.get_p_prec_optimal(h_fd.p, MLz) \n",
    "    for k,v in zip(p_prec_f.keys(), p_prec_f.values()):\n",
    "        p_prec_f_opt[k]=v\n",
    "    p_prec_f_opt_s.append(p_prec_f_opt)\n",
    "\n",
    "\n",
    "\n",
    "F_comp_s=[freq_domain_c.Fw_FFT_C(I_comp, p_prec_f_opt) for p_prec_f_opt, I_comp in zip(p_prec_f_opt_s,I_comp_s)]\n",
    "F_SIS_s=[freq_domain_c.Fw_FFT_C(I_SIS, p_prec_f_opt) for p_prec_f_opt, I_SIS in zip(p_prec_f_opt_s,I_SIS_s)]\n",
    "F_NFW_s=[freq_domain_c.Fw_FFT_C(I_NFW, p_prec_f_opt) for p_prec_f_opt, I_NFW in zip(p_prec_f_opt_s,I_NFW_s)]\n",
    "\n",
    "fig, ax= plt.subplots(figsize=(7,4))\n",
    "from matplotlib.cm import get_cmap\n",
    "cmap = get_cmap('viridis')\n",
    "\n",
    "l=4\n",
    "h=8\n",
    "for i, (Mvir_NFW, p_prec_f_opt, F_comp,F_SIS,F_NFW) in enumerate(zip(Mvir_NFW_s[l:h],p_prec_f_opt_s[l:h], F_comp_s[l:h],F_SIS_s[l:h],F_NFW_s[l:h])):\n",
    "    c=cmap(i/len(Mvir_NFW_s[l:h]))\n",
    "    ws=np.geomspace(p_prec_f_opt['wmin'], p_prec_f_opt['wmax'], 10000)\n",
    "    ax.plot(ws, F_comp(ws), c=c, label='${:s}\\,M_\\odot$'.format(tools.latex_float(Mvir_NFW)))\n",
    "    ax.plot(ws, F_SIS(ws), '--', c=c)\n",
    "    ax.plot(ws, F_NFW(ws), ':', c=c)\n",
    "\n",
    "\n",
    "ax2=ax.twinx()\n",
    "ax2.plot([],[], linestyle='dashdot', c='k', label='sum')\n",
    "ax2.plot([],[], \"k:\", label='NFW')\n",
    "ax2.plot([],[], \"k--\", label='SIS')\n",
    "ax2.legend( edgecolor='white',loc='upper left')\n",
    "\n",
    "ax.grid()\n",
    "ax.set_ylabel('$F(w)$')\n",
    "ax.set_xlabel('$w$')\n",
    "ax.set_xscale('log')\n",
    "ax.set_yscale('linear')\n",
    "ax.legend(title='$M_{\\\\rm vir}$', edgecolor='white', loc='lower left')"
   ]
  },
  {
   "cell_type": "markdown",
   "metadata": {},
   "source": [
    "Critical curves"
   ]
  },
  {
   "cell_type": "code",
   "execution_count": null,
   "metadata": {},
   "outputs": [],
   "source": [
    "ysl_comp_s=[mm.find_ysl(Psi_comp) for Psi_comp in Psi_comp_s]\n"
   ]
  },
  {
   "cell_type": "code",
   "execution_count": null,
   "metadata": {},
   "outputs": [],
   "source": [
    "ysl_comp_s=np.array([mm.find_ysl(Psi_comp) for Psi_comp in Psi_comp_s])\n",
    "y_crit_comp_s=mm.get_y_crit_curve_opt(h_fd, Psi_comp_s, MLzs_NFW, 1.1*ysl_comp_s, 100*ysl_comp_s, 1,\n",
    "                                      p_prec_t=p_prec_t, p_prec_f=p_prec_f, robust=False, SL=False)\n",
    "\n",
    "y_crit_NFW_s=mm.get_y_crit_curve_opt(h_fd, Psi_NFW_s, MLzs_NFW, 0.001, 10, 1, p_prec_t=p_prec_t, p_prec_f=p_prec_f, robust=False)\n",
    "\n",
    "ysl_SIS_s=np.array([mm.find_ysl(Psi_SIS) for Psi_SIS in Psi_SIS_s])\n",
    "y_crit_SIS_s=mm.get_y_crit_curve_opt(h_fd, Psi_SIS_s, MLzs_NFW, 1.1*ysl_SIS_s, 1e2*ysl_SIS_s, 1, \n",
    "                                    p_prec_t=p_prec_t, p_prec_f=p_prec_f, optimized= False,robust=False, SL=False)"
   ]
  },
  {
   "cell_type": "code",
   "execution_count": null,
   "metadata": {},
   "outputs": [],
   "source": [
    "y_crit_comp_phys_s=[pu.to_phys_NFW(y_crit_comp, Mvir_NFW, z_lens, z_src_waveform).value for (y_crit_comp, Mvir_NFW) in zip(y_crit_comp_s, Mvir_NFW_s)]\n",
    "y_crit_NFW_phys_s=[pu.to_phys_NFW(y_crit_NFW, Mvir_NFW, z_lens, z_src_waveform).value for (y_crit_NFW, Mvir_NFW) in zip(y_crit_NFW_s, Mvir_NFW_s)]\n",
    "y_crit_SIS_phys_s=[pu.to_phys_NFW(y_crit_SIS, Mvir_NFW, z_lens, z_src_waveform).value for (y_crit_SIS, Mvir_NFW) in zip(y_crit_SIS_s, Mvir_NFW_s)]\n"
   ]
  },
  {
   "cell_type": "code",
   "execution_count": null,
   "metadata": {},
   "outputs": [],
   "source": [
    "plt.semilogx(Mvir_NFW_s, y_crit_NFW_phys_s, label='NFW', linestyle='-', linewidth=2.4, alpha=0.7)\n",
    "plt.semilogx(Mvir_NFW_s, y_crit_SIS_phys_s, label='SIS (m={:.1e})'.format(m), alpha=0.7, linewidth=2.4)\n",
    "plt.semilogx(Mvir_NFW_s, y_crit_comp_phys_s, label='NFW+SIS', linestyle='-', linewidth=2.4, alpha=0.7)\n",
    "\n",
    "\n",
    "plt.yscale('log')\n",
    "\n",
    "plt.ylabel('$y_{\\\\rm crit}\\\\times \\\\xi_0 \\, [{\\\\rm Mpc}]$')\n",
    "plt.xlabel('$M_{\\\\rm vir}\\, [M_\\odot]$')\n",
    "plt.title(r\"$M_{{\\rm BBH}}= {:s}\\,M_\\odot\\,(z_s={:s})$\".format(tools.latex_float(Mtot), tools.latex_float(z_src_waveform)), fontsize=14)\n",
    "plt.grid()\n",
    "plt.legend()"
   ]
  }
 ],
 "metadata": {
  "kernelspec": {
   "display_name": "test_glow",
   "language": "python",
   "name": "python3"
  },
  "language_info": {
   "codemirror_mode": {
    "name": "ipython",
    "version": 3
   },
   "file_extension": ".py",
   "mimetype": "text/x-python",
   "name": "python",
   "nbconvert_exporter": "python",
   "pygments_lexer": "ipython3",
   "version": "3.10.9"
  }
 },
 "nbformat": 4,
 "nbformat_minor": 2
}
