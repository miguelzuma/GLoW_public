{
 "cells": [
  {
   "cell_type": "code",
   "execution_count": null,
   "id": "7dd156c7-ef01-4d71-9937-2a5d3e849209",
   "metadata": {},
   "outputs": [],
   "source": [
    "import numpy as np\n",
    "import matplotlib.pyplot as plt\n",
    "\n",
    "from glow import lenses, time_domain_c, freq_domain_c\n",
    "from glow import physical_units as phys"
   ]
  },
  {
   "cell_type": "markdown",
   "id": "a9f83415-745d-4e95-bedb-7b44fb1da927",
   "metadata": {
    "jp-MarkdownHeadingCollapsed": true
   },
   "source": [
    "## Automatic mode"
   ]
  },
  {
   "cell_type": "markdown",
   "id": "56c5e9be-7869-45f7-8538-fe619190d64c",
   "metadata": {
    "jp-MarkdownHeadingCollapsed": true
   },
   "source": [
    "### Basic"
   ]
  },
  {
   "cell_type": "markdown",
   "id": "e967174c-212c-4667-a826-e432c854d84c",
   "metadata": {},
   "source": [
    "We can initalize both the lens object and the units object (to convert back to physical units) at the same time."
   ]
  },
  {
   "cell_type": "code",
   "execution_count": null,
   "id": "a8795493-b4c8-4a3b-8410-6e6b8a39fd49",
   "metadata": {},
   "outputs": [],
   "source": [
    "# redshifts are mandatory for all lenses\n",
    "zl = 1.5\n",
    "zs = 3.\n",
    "\n",
    "# all input quantities are regular floats (no astropy units)\n",
    "p_lens = {'name':'CIS', 'Mvir_Msun':1e12, 'rc_pc':10}\n",
    "\n",
    "Psi, units = phys.Lens_Units(zl, zs, p_lens)\n",
    "\n",
    "print(Psi)"
   ]
  },
  {
   "cell_type": "markdown",
   "id": "3d232cce-309b-4ccc-915c-57d7f9f07d09",
   "metadata": {},
   "source": [
    "Every lens expects different parameters. At the moment there is way to check what are these parameters, other than looking at the code or the documentation. Some other quantites are also computed along the way, and stored with `astropy` units in the object. "
   ]
  },
  {
   "cell_type": "code",
   "execution_count": null,
   "id": "731a0d7b-bf51-4d57-8e17-2909c7dd02c5",
   "metadata": {},
   "outputs": [],
   "source": [
    "display(units.d_eff)\n",
    "display(units.Mlz)\n",
    "display(units.Sigma_crit)\n",
    "display(units.xi0)\n",
    "display(units.Rvir)"
   ]
  },
  {
   "cell_type": "markdown",
   "id": "07b4bcd0-26eb-42c3-93e9-fb81356f1563",
   "metadata": {},
   "source": [
    "If we have an array of dimensionless times we can convert them to physical units."
   ]
  },
  {
   "cell_type": "code",
   "execution_count": null,
   "id": "f2b10e0a-c2f7-450b-b348-e53d7ebce564",
   "metadata": {},
   "outputs": [],
   "source": [
    "taus = np.geomspace(1e-2, 1e1, 5)\n",
    "\n",
    "ts = units.tau_to_t(taus)\n",
    "\n",
    "display(taus)\n",
    "display(ts)"
   ]
  },
  {
   "cell_type": "markdown",
   "id": "ef636cc3-d939-4d41-849c-437e9a9ba732",
   "metadata": {},
   "source": [
    "If we specify some units, we will get back a regular `numpy` array with these units, which can be easier to work with without needing to import `astropy`."
   ]
  },
  {
   "cell_type": "code",
   "execution_count": null,
   "id": "303792fb-5032-4c92-9a01-abaf0c6990de",
   "metadata": {},
   "outputs": [],
   "source": [
    "ts = units.tau_to_t(taus, un='s')\n",
    "ts"
   ]
  },
  {
   "cell_type": "code",
   "execution_count": null,
   "id": "74404b01-9bc9-441f-8449-4cd47312608c",
   "metadata": {},
   "outputs": [],
   "source": [
    "ts = units.tau_to_t(taus, un='day')\n",
    "ts"
   ]
  },
  {
   "cell_type": "markdown",
   "id": "73e09f8b-f242-4c6a-830c-a0b692beebaa",
   "metadata": {},
   "source": [
    "Finally we can convert frequencies"
   ]
  },
  {
   "cell_type": "code",
   "execution_count": null,
   "id": "6e030848-dd52-40ba-b2c7-d65d0510e04a",
   "metadata": {},
   "outputs": [],
   "source": [
    "ws = np.geomspace(1e-2, 1e2, 4)\n",
    "\n",
    "fs = units.w_to_f(ws)\n",
    "fs"
   ]
  },
  {
   "cell_type": "markdown",
   "id": "7c302ba3-7aab-42b7-94d8-d97cc0bab46f",
   "metadata": {},
   "source": [
    "and distances"
   ]
  },
  {
   "cell_type": "code",
   "execution_count": null,
   "id": "a5166978-0265-4aaa-93ad-442f57c88d09",
   "metadata": {},
   "outputs": [],
   "source": [
    "xs = np.geomspace(1e-2, 1e2, 4)\n",
    "\n",
    "xis = units.x_to_xi(xs)\n",
    "xis"
   ]
  },
  {
   "cell_type": "markdown",
   "id": "ae4fb4e4-ac91-4004-b637-6abe1154bb66",
   "metadata": {},
   "source": [
    "The inverse operations are also implemented. Make sure that either 1) the input has astropy units or 2) you specify the units through the keyword. Example:"
   ]
  },
  {
   "cell_type": "code",
   "execution_count": null,
   "id": "0828a5ab-e443-427e-9391-b193685cb294",
   "metadata": {},
   "outputs": [],
   "source": [
    "taus = np.geomspace(1e-2, 1e1, 3)\n",
    "print('Starting:   tau =', taus)\n",
    "\n",
    "ts = units.tau_to_t(taus, un='hour')\n",
    "print('t in hours: t   =', ts)\n",
    "\n",
    "print('-'*30)\n",
    "print('Revert the transformation:')\n",
    "\n",
    "## ------------------------------------\n",
    "taus1 = units.t_to_tau(ts, un='hour')\n",
    "\n",
    "import astropy.units as u\n",
    "taus2 = units.t_to_tau(ts*u.hour)\n",
    "## ------------------------------------\n",
    "\n",
    "print('  *    ok:  tau =', taus1)\n",
    "print('  *    ok:  tau =', taus2)"
   ]
  },
  {
   "cell_type": "markdown",
   "id": "b734cb9a-fe45-4c68-b24f-36afbb40258a",
   "metadata": {
    "jp-MarkdownHeadingCollapsed": true
   },
   "source": [
    "### Different prescriptions"
   ]
  },
  {
   "cell_type": "markdown",
   "id": "b4b1ae64-9042-47a2-a4a4-f4483af1fad6",
   "metadata": {},
   "source": [
    "For some lenses we may want to use different unit conventions. We can add them as a new prescription in the `Units` object. For instance:"
   ]
  },
  {
   "cell_type": "code",
   "execution_count": null,
   "id": "909c2509-48db-4860-a509-32d901fdf35c",
   "metadata": {},
   "outputs": [],
   "source": [
    "zl = 1.3\n",
    "zs = 3\n",
    "p_lens = {'name':'NFW', 'Mvir_Msun':1e14}\n",
    "\n",
    "Psi1, units1 = phys.Lens_Units(zl, zs, p_lens)\n",
    "print(Psi1.p_phys)\n",
    "print('')\n",
    "\n",
    "Psi2, units2 = phys.Lens_Units(zl, zs, p_lens, prescription='radius')\n",
    "print(Psi2.p_phys)"
   ]
  },
  {
   "cell_type": "markdown",
   "id": "b961c168-a56f-4d2b-95a7-9f0b0c96aea2",
   "metadata": {},
   "source": [
    "In the first case, $\\psi_0$ has been set to one, while in the second one we are using the scale radius as $\\xi_0$. If we want to compare them directly, we must first use the same impact parameter"
   ]
  },
  {
   "cell_type": "code",
   "execution_count": null,
   "id": "0e464ecc-36f9-4215-bcd9-bcbaa76c07cd",
   "metadata": {},
   "outputs": [],
   "source": [
    "# in the units system 1\n",
    "y1 = 0.4\n",
    "\n",
    "y_phys = units1.x_to_xi(y1)\n",
    "y2 = units2.xi_to_x(y_phys)\n",
    "\n",
    "y2"
   ]
  },
  {
   "cell_type": "markdown",
   "id": "737720d0-d8bf-4383-ba17-54480bd347c8",
   "metadata": {},
   "source": [
    "and then switch to physical time."
   ]
  },
  {
   "cell_type": "code",
   "execution_count": null,
   "id": "48b7cee7-644b-4367-bf61-303a87c36b27",
   "metadata": {},
   "outputs": [],
   "source": [
    "It1 = time_domain_c.It_SingleIntegral_C(Psi1, y1)\n",
    "It2 = time_domain_c.It_SingleIntegral_C(Psi2, y2)\n",
    "## --------------------------------------------------\n",
    "\n",
    "un = 'day'\n",
    "\n",
    "t1 = units1.tau_to_t(It1.t_grid, un=un)\n",
    "t2 = units2.tau_to_t(It2.t_grid, un=un)\n",
    "\n",
    "fig, ax = plt.subplots()\n",
    "ax.plot(t1, It1.It_grid/2/np.pi, label='default')\n",
    "ax.plot(t2, It2.It_grid/2/np.pi, label='radius')\n",
    "\n",
    "ax.set_xscale('log')\n",
    "ax.set_xlabel('$t$ [%s]' % un)\n",
    "ax.set_ylabel('$I(t)$')\n",
    "ax.legend();"
   ]
  },
  {
   "cell_type": "markdown",
   "id": "9f17f8e2-988f-4a6a-b7b2-bd8fa092af2c",
   "metadata": {
    "jp-MarkdownHeadingCollapsed": true
   },
   "source": [
    "### Relating two lenses"
   ]
  },
  {
   "cell_type": "markdown",
   "id": "8130496a-1f86-49cb-b371-3025f148bbc1",
   "metadata": {},
   "source": [
    "We can also use an external unit convention. This is especially useful to relate different lenses."
   ]
  },
  {
   "cell_type": "code",
   "execution_count": null,
   "id": "52f1bf07-309d-42eb-b5a0-d6f3e3494dd9",
   "metadata": {},
   "outputs": [],
   "source": [
    "zl = 1.2\n",
    "zs = 3.\n",
    "\n",
    "p_lens1 = {'name':'CIS', 'Mvir_Msun':1e10, 'rc_pc':20}\n",
    "p_lens2 = {'name':'SIS', 'Mvir_Msun':1e12}"
   ]
  },
  {
   "cell_type": "markdown",
   "id": "a7af85ea-9935-445e-a600-64bbbc49ffdb",
   "metadata": {},
   "source": [
    "We can use the first lens as reference for the second one"
   ]
  },
  {
   "cell_type": "code",
   "execution_count": null,
   "id": "2fd81cd2-1257-4774-97ff-c8d76996731f",
   "metadata": {},
   "outputs": [],
   "source": [
    "Psi1, units = phys.Lens_Units(zl, zs, p_lens1)\n",
    "Psi2, units = phys.Lens_Units(zl, zs, p_lens2, prescription='external', units_ext=units)\n",
    "\n",
    "print(Psi1.p_phys)\n",
    "print(Psi2.p_phys)"
   ]
  },
  {
   "cell_type": "markdown",
   "id": "d50374ed-26d0-4c7b-a866-c0f0034b5b32",
   "metadata": {},
   "source": [
    "or the other way around"
   ]
  },
  {
   "cell_type": "code",
   "execution_count": null,
   "id": "16fe548f-ebdc-41d9-9339-270b6bcd110c",
   "metadata": {},
   "outputs": [],
   "source": [
    "Psi2, units = phys.Lens_Units(zl, zs, p_lens2)\n",
    "Psi1, units = phys.Lens_Units(zl, zs, p_lens1, prescription='external', units_ext=units)\n",
    "\n",
    "print(Psi2.p_phys)\n",
    "print(Psi1.p_phys)"
   ]
  },
  {
   "cell_type": "markdown",
   "id": "f4f69c6f-14a7-460c-9b5f-925b0d1cde6c",
   "metadata": {
    "jp-MarkdownHeadingCollapsed": true
   },
   "source": [
    "### Composite lenses"
   ]
  },
  {
   "cell_type": "markdown",
   "id": "0d7bf46c-4711-4c24-99da-34838b07d422",
   "metadata": {},
   "source": [
    "We can also easily build composite lenses starting with their physical parameters."
   ]
  },
  {
   "cell_type": "code",
   "execution_count": null,
   "id": "3927c400-4708-4c13-9115-57dc41d63a07",
   "metadata": {},
   "outputs": [],
   "source": [
    "zl = 0.2\n",
    "zs = 0.4\n",
    "\n",
    "p0 = {'name':'point lens', 'M_Msun':2e2}\n",
    "p1 = {'name':'off-center ball', 'M_Msun':34, 'R_Rsun':100, 'x1_pc':0.2,   'x2_pc':-0.45}\n",
    "p2 = {'name':'off-center ball',       'M_Msun':8,  'R_Rsun':20,  'x1_pc':-0.15, 'x2_pc':-0.1}\n",
    "\n",
    "p_lens = [p0, p1, p2]\n",
    "\n",
    "Psi, units = phys.Lens_Units(zl, zs, p_lens)\n",
    "\n",
    "for l in Psi.p_phys['lenses']:\n",
    "    print(l.p_phys)"
   ]
  },
  {
   "cell_type": "markdown",
   "id": "b4e161c3-c658-460c-9542-3a6e6937e64a",
   "metadata": {},
   "source": [
    "The first lens in the list will be used to set the units."
   ]
  },
  {
   "cell_type": "code",
   "execution_count": null,
   "id": "d7f6f00c-c10e-4d60-93ad-ef055b6ee920",
   "metadata": {},
   "outputs": [],
   "source": [
    "p_lens = [p1, p0, p2]\n",
    "\n",
    "Psi, units = phys.Lens_Units(zl, zs, p_lens)\n",
    "\n",
    "for l in Psi.p_phys['lenses']:\n",
    "    print(l.p_phys)"
   ]
  },
  {
   "cell_type": "markdown",
   "id": "7ca2e8af-c31d-443f-9dec-58cb38b01951",
   "metadata": {
    "jp-MarkdownHeadingCollapsed": true
   },
   "source": [
    "## Manual mode"
   ]
  },
  {
   "cell_type": "markdown",
   "id": "6fc1524f-2c4d-4797-a214-8dfa79f27ebe",
   "metadata": {
    "jp-MarkdownHeadingCollapsed": true
   },
   "source": [
    "### Units from $M_{lz}$"
   ]
  },
  {
   "cell_type": "markdown",
   "id": "9d1defd2-8594-4587-8658-8e57d1d7109f",
   "metadata": {},
   "source": [
    "It is possible to compute the conversion of units by directly specifying $M_{lz}$"
   ]
  },
  {
   "cell_type": "code",
   "execution_count": null,
   "id": "6b2d8e8c-ae72-4121-8b08-6f1f1129e24c",
   "metadata": {},
   "outputs": [],
   "source": [
    "Mlz_Msun = 1e8\n",
    "\n",
    "units = phys.Units_from_Mlz(Mlz_Msun)"
   ]
  },
  {
   "cell_type": "markdown",
   "id": "fbc9b290-c4c3-4869-a20b-ac52af3fd40a",
   "metadata": {},
   "source": [
    "Keep in mind that in this case we can convert times and frequencies, but nothing related to physical distances."
   ]
  },
  {
   "cell_type": "code",
   "execution_count": null,
   "id": "69558afb-fc50-42b2-bd1d-66ca2d4d352c",
   "metadata": {},
   "outputs": [],
   "source": [
    "taus = np.geomspace(1e-2, 1e2, 4)\n",
    "\n",
    "ts = units.tau_to_t(taus)\n",
    "ts"
   ]
  },
  {
   "cell_type": "markdown",
   "id": "279fcf0d-c4a1-4fb0-9ef2-45b2e78cc9de",
   "metadata": {
    "jp-MarkdownHeadingCollapsed": true
   },
   "source": [
    "### Units only"
   ]
  },
  {
   "cell_type": "markdown",
   "id": "2ebb343d-51ac-4829-9d0a-4e447f7ca91b",
   "metadata": {},
   "source": [
    "If we know what we are doing, we can bypass initializing the lens and get only the units"
   ]
  },
  {
   "cell_type": "code",
   "execution_count": null,
   "id": "8b8c494f-7ca4-40b9-8aba-4ca2942efca4",
   "metadata": {},
   "outputs": [],
   "source": [
    "zl = 1.3\n",
    "zs = 3\n",
    "\n",
    "p_lens = {'name':'SIS', 'Mvir_Msun':1e10}\n",
    "\n",
    "units = phys.Units(zl, zs, p_lens)"
   ]
  },
  {
   "cell_type": "markdown",
   "id": "27294ad4-9d6c-4b97-b142-41fa0259b70c",
   "metadata": {},
   "source": [
    "In many cases, this is enough since the actual computation in dimensionless can be reused for all the redshifts and masses."
   ]
  },
  {
   "cell_type": "code",
   "execution_count": null,
   "id": "954d7e53-25f8-45b0-aba3-9631e0a66f13",
   "metadata": {},
   "outputs": [],
   "source": []
  }
 ],
 "metadata": {
  "language_info": {
   "name": "python"
  }
 },
 "nbformat": 4,
 "nbformat_minor": 5
}
