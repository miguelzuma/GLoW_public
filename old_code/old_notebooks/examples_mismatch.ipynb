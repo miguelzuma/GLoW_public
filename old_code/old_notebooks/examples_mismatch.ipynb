{
 "cells": [
  {
   "cell_type": "code",
   "execution_count": null,
   "metadata": {},
   "outputs": [],
   "source": [
    "import numpy as np\n",
    "\n",
    "import matplotlib.pyplot as plt\n",
    "\n",
    "from glow import lenses\n",
    "from glow import waveform\n",
    "from glow import tools\n",
    "\n",
    "import glow.mismatch as mm\n",
    "import glow.physical_units as pu\n",
    "\n",
    "cosmology={} # (dict) cosmological parameters, default is Planck18\n",
    "mm.initialize_cosmology(**cosmology)\n",
    "\n"
   ]
  },
  {
   "cell_type": "code",
   "execution_count": null,
   "metadata": {},
   "outputs": [],
   "source": [
    "# # LISA \n",
    "\n",
    "detector='LISA'\n",
    "z_src_waveform= 5\n",
    "Mtot=1e6\n",
    "Mtot_detector= Mtot*(1+z_src_waveform)\n",
    "# Mtot_detector=1e6\n",
    "q=1\n",
    "spin=0\n",
    "inc=0\n",
    "Tobs= 0.13*pu.yr_to_s\n",
    "\n",
    "\n",
    "# # ET\n",
    "\n",
    "# detector='ET'\n",
    "# z_src_waveform= 1\n",
    "# Mtot=1000\n",
    "# Mtot_detector= Mtot*(1+z_src_waveform)\n",
    "# q=1\n",
    "# spin=0\n",
    "# inc=0\n",
    "# Tobs=210\n",
    "\n",
    "\n",
    "# Same keys of Pycbc get_fd_waveform\n",
    "params_source= {'approximant': \"IMRPhenomXHM\",\n",
    "            'mass1'          : Mtot_detector * q/(1. + q),\n",
    "            'mass2'          : Mtot_detector * 1/(1. + q),\n",
    "            'spin1z'         : spin,\n",
    "            'spin2z'         : spin,\n",
    "            'redshift'       : z_src_waveform,\n",
    "            'inclination'    : inc,\n",
    "            'long_asc_nodes' : 0,\n",
    "            'f_lower'        : np.amax([waveform.f0_obs(Mtot_detector, Tobs, units='s'),waveform.f_bounds_detector(detector)[0]]),\n",
    "            'delta_f'        : 1/Tobs,\n",
    "            'f_final':  5*waveform.f_isco(Mtot_detector),\n",
    "            }\n",
    "\n",
    "# Waveform generated once a waveform object is initialized thorugh parameters \n",
    "h_fd=waveform.WaveformFD(params_source)\n"
   ]
  },
  {
   "cell_type": "code",
   "execution_count": null,
   "metadata": {},
   "outputs": [],
   "source": [
    "psd=waveform.get_psd_from_file(detector) \n",
    "h_fd.load_psd(psd)\n",
    "snr=h_fd.snr\n",
    "print('snr of the signal:', snr)"
   ]
  },
  {
   "cell_type": "code",
   "execution_count": null,
   "metadata": {},
   "outputs": [],
   "source": [
    "# !! Check that the signal meets the psd on the lhs\n",
    "\n",
    "plt.loglog(h_fd.sample_frequencies,h_fd.sample_frequencies*np.abs(h_fd.p))\n",
    "plt.loglog(h_fd.sample_frequencies,np.sqrt(h_fd.sample_frequencies*np.abs(h_fd.psd_grid)))\n",
    "plt.xlabel('$f$ [Hz]')\n",
    "plt.ylabel('Characteristic strain')\n",
    "plt.grid()\n",
    "print('snr of the signal:', h_fd.snr)"
   ]
  },
  {
   "cell_type": "markdown",
   "metadata": {},
   "source": [
    "Critical curve"
   ]
  },
  {
   "cell_type": "code",
   "execution_count": null,
   "metadata": {},
   "outputs": [],
   "source": [
    "Psi_SIS = lenses.Psi_SIS()"
   ]
  },
  {
   "cell_type": "markdown",
   "metadata": {},
   "source": [
    "Single point evaluation"
   ]
  },
  {
   "cell_type": "code",
   "execution_count": null,
   "metadata": {},
   "outputs": [],
   "source": [
    "y=60\n",
    "MLz=1e4\n",
    "\n",
    "h_fd_lensed=waveform.get_lensed_fd_from_Psi(h_fd, Psi_SIS, y, MLz, p_prec_t={'tmax':1e7, 'Nt' : 5000})\n",
    "mismatch=mm.mismatch(h_fd_lensed, h_fd, only_plus=True, optimized=False)\n",
    "\n",
    "print('The mismatch is: ', mismatch)"
   ]
  },
  {
   "cell_type": "markdown",
   "metadata": {},
   "source": [
    "Method 1: critical curve from root finder with Psi"
   ]
  },
  {
   "cell_type": "code",
   "execution_count": null,
   "metadata": {},
   "outputs": [],
   "source": [
    "\n",
    "MLzs=np.geomspace(1e2,1e11, 20) # LISA\n",
    "kwargs_mm={'optimized':False}\n",
    "p_prec_t={'tmax':1e9}\n",
    "kwargs_lensing={'SL':False, 'p_prec_t':p_prec_t}\n",
    "\n",
    "y_crits, mmSNR2_s=mm.get_y_crit_curve_opt(h_fd, Psi_SIS, MLzs, 1, 100, s=1, \n",
    "                                robust= False, \n",
    "                                n_iter=3, return_mm=True, rtol=1e-3,\n",
    "                                kwargs_mm=kwargs_mm, kwargs_lensing=kwargs_lensing\n",
    "                                )\n",
    "\n"
   ]
  },
  {
   "cell_type": "code",
   "execution_count": null,
   "metadata": {},
   "outputs": [],
   "source": [
    "print('Values of mm x SNR2 at the critical curve: ', mmSNR2_s)"
   ]
  },
  {
   "cell_type": "code",
   "execution_count": null,
   "metadata": {},
   "outputs": [],
   "source": [
    "fig, ax = plt.subplots(1, figsize=(7, 4.5))\n",
    "ax.plot(MLzs, y_crits)\n",
    "ax.set_ylabel('$y_{cr}$', fontsize=14)\n",
    "ax.set_xlabel('$M_{Lz}\\,[M_\\odot]$', fontsize=14)\n",
    "ax.set_yscale('linear')\n",
    "ax.set_xscale('log')\n",
    "ax.grid()"
   ]
  },
  {
   "cell_type": "markdown",
   "metadata": {},
   "source": [
    "Method 2: critical curve from root finder with Fw analytic"
   ]
  },
  {
   "cell_type": "code",
   "execution_count": null,
   "metadata": {},
   "outputs": [],
   "source": [
    "from glow import freq_domain_c\n",
    "\n",
    "Fw_analytic_SIS=freq_domain_c.Fw_AnalyticPointLens_C\n",
    "MLzs=np.geomspace(1e2,1e11, 20) # LISA\n",
    "kwargs_mm={'optimized':False}\n",
    "\n",
    "y_crits, mmSNR2_s=mm.get_y_crit_curve_Fw_opt(h_fd, Fw_analytic_SIS, MLzs, 1, 200, s=1, \n",
    "                                robust= False, \n",
    "                                n_iter=3, return_mm=True, rtol=1e-3,\n",
    "                                kwargs_mm=kwargs_mm\n",
    "                                )"
   ]
  },
  {
   "cell_type": "code",
   "execution_count": null,
   "metadata": {},
   "outputs": [],
   "source": [
    "print('Values of mm x SNR2 at the critical curve: ', mmSNR2_s)"
   ]
  },
  {
   "cell_type": "code",
   "execution_count": null,
   "metadata": {},
   "outputs": [],
   "source": [
    "fig, ax = plt.subplots(1, figsize=(7, 4.5))\n",
    "ax.plot(MLzs, y_crits)\n",
    "ax.set_ylabel('$y_{cr}$', fontsize=14)\n",
    "ax.set_xlabel('$M_{Lz}\\,[M_\\odot]$', fontsize=14)\n",
    "ax.set_yscale('linear')\n",
    "ax.set_xscale('log')\n",
    "ax.grid()"
   ]
  },
  {
   "cell_type": "markdown",
   "metadata": {},
   "source": [
    "Methos 3: critical curve from grid evaluation"
   ]
  },
  {
   "cell_type": "code",
   "execution_count": null,
   "metadata": {},
   "outputs": [],
   "source": [
    "# Mismatch grid to be interpolated\n",
    "MLzs_grid=np.geomspace(1e2,1e10, 20) # LISA\n",
    "ys=np.geomspace(2,200, 10) # LISA"
   ]
  },
  {
   "cell_type": "code",
   "execution_count": null,
   "metadata": {},
   "outputs": [],
   "source": [
    "interp_scale=['log','log']\n",
    "grid_basis= [MLzs_grid, ys]\n",
    "XX, YY= np.meshgrid(*grid_basis)"
   ]
  },
  {
   "cell_type": "code",
   "execution_count": null,
   "metadata": {},
   "outputs": [],
   "source": [
    "h_lensed_grid=waveform.get_lensed_fd_from_Psi_vec(h_fd, Psi_SIS, YY, XX) "
   ]
  },
  {
   "cell_type": "code",
   "execution_count": null,
   "metadata": {},
   "outputs": [],
   "source": [
    "mismatch_fun_SIS, mismatch_grid_SIS= mm.get_mismatch_fun(grid_basis, \n",
    "                                                            h_lensed_grid, \n",
    "                                                            h_fd, \n",
    "                                                            scale=interp_scale, \n",
    "                                                            scale_grid='log')"
   ]
  },
  {
   "cell_type": "code",
   "execution_count": null,
   "metadata": {},
   "outputs": [],
   "source": [
    "fun_2d=np.vectorize(lambda x,y: mismatch_fun_SIS((x,y)))\n"
   ]
  },
  {
   "cell_type": "code",
   "execution_count": null,
   "metadata": {},
   "outputs": [],
   "source": [
    "# Check the interpolation works well\n",
    "\n",
    "xx =np.geomspace(MLzs_grid[0],MLzs_grid[-1], num=100)\n",
    "\n",
    "yy= np.geomspace(ys[0],ys[-1], num=10)\n",
    "\n",
    "X, Y = np.meshgrid(xx, yy, indexing='ij')\n",
    "\n",
    "fig = plt.figure()\n",
    "\n",
    "ax = fig.add_subplot(projection='3d')\n",
    "\n",
    "ax.scatter(np.log10(XX), np.log10(YY), np.log10(mismatch_grid_SIS), s=10, c='k')\n",
    "\n",
    "ax.plot_wireframe(np.log10(X), np.log10(Y), np.log10(fun_2d(X, Y)), rstride=3, cstride=3,\n",
    "\n",
    "                  alpha=0.4, color='m', label='linear interp')\n",
    "\n",
    "\n",
    "ax.set_xlabel(r\"$\\log{M_{\\rm lz}}$\", fontsize=14)\n",
    "ax.set_ylabel(r'y', fontsize=14)\n",
    "ax.set_zlabel(r\"$\\mathcal{M}$\", fontsize=14)\n",
    "\n",
    "plt.legend()\n",
    "ax.view_init(10, 60)\n",
    "plt.show()"
   ]
  },
  {
   "cell_type": "code",
   "execution_count": null,
   "metadata": {},
   "outputs": [],
   "source": [
    "# Mismatch contour plot\n",
    "\n",
    "xx =np.geomspace(MLzs_grid[0],MLzs_grid[-1], num=100)\n",
    "yy= np.linspace(ys[0],ys[-1], 100)\n",
    "\n",
    "X, Y = np.meshgrid(xx, yy, indexing='ij')\n",
    "\n",
    "fig, ax = plt.subplots(figsize=(7,5))\n",
    "\n",
    "CS = ax.contourf(X,Y, np.log10(fun_2d(X,Y)))\n",
    "CS2= ax.contour(CS, levels=[np.log10(1/snr**2)], colors='red', linestyles=['dotted'])\n",
    "ax.scatter(XX, YY,  s=1, c='k')\n",
    "ax.plot(MLzs, y_crits)\n",
    "ax.set_xscale('log')\n",
    "ax.set_yscale('log')\n",
    "\n",
    "\n",
    "ax.set_title('')\n",
    "ax.set_xlabel(r\"$M_{\\rm lz}$\", fontsize=14)\n",
    "ax.set_ylabel(r'y', fontsize=14)\n",
    "ax.grid(True, which=\"both\", alpha=0.3)\n",
    "plt.title(r\"$M_{{\\rm BBH}}^D= {:s}\\,M_\\odot\\,(z_s={:s})$\".format(tools.latex_float(Mtot_detector), tools.latex_float(z_src_waveform)), fontsize=14)\n",
    "ax.set_xlim(MLzs[0], MLzs[-1])\n",
    "ax.set_ylim(np.amin(ys), np.amax(ys))\n",
    "\n",
    "ax.clabel(CS2, fmt='1/SNR$^2$', inline=True, fontsize=14)\n",
    "cbar=fig.colorbar(CS)\n",
    "cbar.add_lines(CS2)\n"
   ]
  },
  {
   "cell_type": "code",
   "execution_count": null,
   "metadata": {},
   "outputs": [],
   "source": [
    "# Store mismatch grid\n",
    "\n",
    "import pandas as pd \n",
    "\n",
    "dict_save={'SNR': snr, 'MLz': [MLzs],'y':[ys], 'mm_grid':[mismatch_grid_SIS], 'scale':[interp_scale]}\n",
    "to_save=pd.DataFrame.from_dict(data=dict_save)\n",
    "tags=['mismatch_', '{:s}_'.format(detector), \"Mbbh{:.0e}_\".format(Mtot), \"zsrc{:.0f}\".format(int(z_src_waveform))]\n",
    "filename_wrt=''.join(tags)\n",
    "to_save.to_pickle('mm_bank/'+filename_wrt+'.dat')"
   ]
  },
  {
   "cell_type": "code",
   "execution_count": null,
   "metadata": {},
   "outputs": [],
   "source": []
  }
 ],
 "metadata": {
  "kernelspec": {
   "display_name": "WeakLensing",
   "language": "python",
   "name": "python3"
  },
  "language_info": {
   "codemirror_mode": {
    "name": "ipython",
    "version": 3
   },
   "file_extension": ".py",
   "mimetype": "text/x-python",
   "name": "python",
   "nbconvert_exporter": "python",
   "pygments_lexer": "ipython3",
   "version": "3.10.9"
  }
 },
 "nbformat": 4,
 "nbformat_minor": 2
}
