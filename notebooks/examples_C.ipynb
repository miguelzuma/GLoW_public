{
 "cells": [
  {
   "cell_type": "code",
   "execution_count": null,
   "metadata": {},
   "outputs": [],
   "source": [
    "import numpy as np\n",
    "import matplotlib\n",
    "import matplotlib.pyplot as plt\n",
    "\n",
    "from glow import lenses, time_domain_c, freq_domain_c, tools"
   ]
  },
  {
   "cell_type": "markdown",
   "metadata": {
    "heading_collapsed": true,
    "jp-MarkdownHeadingCollapsed": true
   },
   "source": [
    "# Overview"
   ]
  },
  {
   "cell_type": "markdown",
   "metadata": {
    "hidden": true
   },
   "source": [
    "The core of this module is written in C, it can be used in three ways:\n",
    "  - Directly from C: the syntax, types of 'objects' etc. are similar to the Python version. There are examples in wrapper/glow_lib/tests (not proper examples, since this are just auxiliary test files) \n",
    "  - Directly from Python: the wrapper can be used independently from any other of our python modules (see Testing performance section below). However it is not fully functional since even though most of the algorithms are C based, they are still interfaced through Python.\n",
    "  - **(Preferred)** Through `time_domain_c.py` and `freq_domain_c.py`: the new objects included here can be used in the same way as the ones in `time_domain.py` and `freq_domain.py`, i.e. they can be interfaced with `lenses.py`. **However** keep in mind that a change in the lenses will either not have any effect or (hopefully) the code will break down. The implementation of the lenses in C and python are independent and the wrapper only translates the physical parameters from Python to C.\n",
    " \n",
    "Finally, the two sets (`time_domain.py`, `freq_domain.py`) and (`time_domain_c.py`, `freq_domain_c.py`) are totally independent of each other. The first one is written in full Python, while the second one relies on compiled code (C and Cython). Fron now on I will be maintaining only the latter, occasionally updating the first but without taking any effort (and time) in optimizing it further. However, I will try to keep it functional and avoid breaking compatibility with `lenses.py`."
   ]
  },
  {
   "cell_type": "markdown",
   "metadata": {
    "heading_collapsed": true,
    "jp-MarkdownHeadingCollapsed": true
   },
   "source": [
    "# Time domain"
   ]
  },
  {
   "cell_type": "markdown",
   "metadata": {
    "heading_collapsed": true,
    "hidden": true,
    "jp-MarkdownHeadingCollapsed": true
   },
   "source": [
    "## Single contour"
   ]
  },
  {
   "cell_type": "markdown",
   "metadata": {
    "hidden": true
   },
   "source": [
    "This object performs the exact computation of $I(\\tau)$ for an arbitrary lens assuming that there is only one critical point in the Fermat potential (i.e. the minimum). The algorithm tries to find the first two critical points starting from the origin and infinity, and will not proceed if they do not coincide."
   ]
  },
  {
   "cell_type": "markdown",
   "metadata": {
    "hidden": true
   },
   "source": [
    "We can use it as `It_WL` or any other `ItGeneral` object. We first choose a lens and then define the physical and precision parameters"
   ]
  },
  {
   "cell_type": "code",
   "execution_count": null,
   "metadata": {},
   "outputs": [],
   "source": [
    "Psi = lenses.Psi_CIS()\n",
    "\n",
    "y = 1.4\n",
    "p_prec = {'tmin' : 1e-3,\\\n",
    "          'tmax' : 100,\\\n",
    "          'Nt' : 5000}\n",
    "\n",
    "It = time_domain_c.It_SingleContour_C(Psi, y, p_prec)"
   ]
  },
  {
   "cell_type": "markdown",
   "metadata": {
    "hidden": true
   },
   "source": [
    "We can then work with it as before, either accessing its grid points (`It.t_grid`, `It.It_grid`) or use its interpolation function"
   ]
  },
  {
   "cell_type": "code",
   "execution_count": null,
   "metadata": {},
   "outputs": [],
   "source": [
    "taus = np.geomspace(1e-1, 10, 10000)\n",
    "\n",
    "fig, ax = plt.subplots()\n",
    "\n",
    "ax.plot(taus, It.eval_It(taus)/2/np.pi, label=It.lens.p_phys['name'])\n",
    "\n",
    "ax.set_xlabel(r'$\\tau$')\n",
    "ax.set_ylabel(r'$I(\\tau)/2\\pi$')\n",
    "ax.set_xscale('log')\n",
    "ax.legend(loc='best');"
   ]
  },
  {
   "cell_type": "markdown",
   "metadata": {
    "hidden": true
   },
   "source": [
    "There are two new options for this object. First one is the computation in parallel over `numpy` arrays. It is switch on by default (`parallel = True`), but it can be changed if needed."
   ]
  },
  {
   "cell_type": "code",
   "execution_count": null,
   "metadata": {},
   "outputs": [],
   "source": [
    "It.display_info()"
   ]
  },
  {
   "cell_type": "markdown",
   "metadata": {
    "hidden": true
   },
   "source": [
    "The second new option is the `eval_mode = exact` (by default `eval_mode = interpolate`, which is the behaviour of the python module). In this case the grid is not computed and `eval_It` computes the integral at any point requested without using interpolation"
   ]
  },
  {
   "cell_type": "code",
   "execution_count": null,
   "metadata": {},
   "outputs": [],
   "source": [
    "Psi = lenses.Psi_CIS()\n",
    "\n",
    "y = 1.4\n",
    "p_prec = {'eval_mode' : 'exact'}\n",
    "\n",
    "It = time_domain_c.It_SingleContour_C(Psi, y, p_prec)\n",
    "\n",
    "## ---------------------------------------------------\n",
    "\n",
    "taus = np.geomspace(1e-1, 10, 10000)\n",
    "Its = It.eval_It(taus)/2/np.pi\n",
    "\n",
    "fig, ax = plt.subplots()\n",
    "\n",
    "ax.plot(taus, Its, label=It.lens.p_phys['name'])\n",
    "\n",
    "ax.set_xlabel(r'$\\tau$')\n",
    "ax.set_ylabel(r'$I(\\tau)/2\\pi$')\n",
    "ax.set_xscale('log')\n",
    "ax.legend(loc='best');"
   ]
  },
  {
   "cell_type": "markdown",
   "metadata": {},
   "source": [
    "We can also compute the Green function $G(\\tau)$"
   ]
  },
  {
   "cell_type": "code",
   "execution_count": null,
   "metadata": {},
   "outputs": [],
   "source": [
    "Psi = lenses.Psi_CIS()\n",
    "\n",
    "y = 1.4\n",
    "p_prec = {'eval_mode' : 'exact'}\n",
    "\n",
    "It = time_domain_c.It_SingleContour_C(Psi, y, p_prec)\n",
    "\n",
    "## ---------------------------------------------------\n",
    "\n",
    "taus = np.geomspace(1e-1, 10, 1000)\n",
    "Gts = It.eval_Gt(taus, dt=1e-3)  # default value dt=1e-4\n",
    "\n",
    "fig, ax = plt.subplots()\n",
    "\n",
    "ax.plot(taus, Gts, label=It.lens.p_phys['name'])\n",
    "\n",
    "ax.set_xlabel(r'$\\tau$')\n",
    "ax.set_ylabel(r'$G(\\tau)=dI(\\tau)/d\\tau/2\\pi$')\n",
    "ax.set_xscale('log')\n",
    "ax.legend(loc='best');"
   ]
  },
  {
   "cell_type": "markdown",
   "metadata": {
    "heading_collapsed": true,
    "hidden": true,
    "jp-MarkdownHeadingCollapsed": true
   },
   "source": [
    "## Analytic SIS"
   ]
  },
  {
   "cell_type": "markdown",
   "metadata": {
    "hidden": true
   },
   "source": [
    "New implementation of the analytic formula for the SIS. This time I am using a proper implementation of the elliptic integrals (from GSL). The computation now is extremely fast."
   ]
  },
  {
   "cell_type": "code",
   "execution_count": null,
   "metadata": {},
   "outputs": [],
   "source": [
    "y = 0.3\n",
    "p_prec = {'eval_mode' : 'exact'}\n",
    "\n",
    "It_SIS = time_domain_c.It_AnalyticSIS_C(y, p_prec)\n",
    "\n",
    "## -----------------------------------------------\n",
    "\n",
    "taus = np.geomspace(1e-1, 10, 10000)\n",
    "Its = It_SIS.eval_It(taus)/2/np.pi\n",
    "\n",
    "fig, ax = plt.subplots()\n",
    "\n",
    "ax.plot(taus, Its, label='SIS')\n",
    "\n",
    "ax.set_xlabel(r'$\\tau$')\n",
    "ax.set_ylabel(r'$I(\\tau)/2\\pi$')\n",
    "ax.set_xscale('log')\n",
    "ax.legend(loc='best');"
   ]
  },
  {
   "cell_type": "markdown",
   "metadata": {},
   "source": [
    "And the Green function is"
   ]
  },
  {
   "cell_type": "code",
   "execution_count": null,
   "metadata": {},
   "outputs": [],
   "source": [
    "y = 0.3\n",
    "p_prec = {'eval_mode' : 'exact'}\n",
    "\n",
    "It_SIS = time_domain_c.It_AnalyticSIS_C(y, p_prec)\n",
    "\n",
    "## -----------------------------------------------\n",
    "\n",
    "taus = np.geomspace(1e-1, 10, 10000)\n",
    "Gts = It_SIS.eval_Gt(taus)\n",
    "\n",
    "fig, ax = plt.subplots()\n",
    "\n",
    "ax.plot(taus, Gts, label='SIS')\n",
    "\n",
    "ax.set_xlabel(r'$\\tau$')\n",
    "ax.set_ylabel(r'$G(\\tau)=dI(\\tau)/d\\tau/2\\pi$')\n",
    "ax.set_xscale('log')\n",
    "ax.set_ylim([-15, 15])\n",
    "ax.axhline(y=0, c='grey', alpha=0.5)\n",
    "ax.legend(loc='best');"
   ]
  },
  {
   "cell_type": "markdown",
   "metadata": {
    "heading_collapsed": true,
    "hidden": true,
    "jp-MarkdownHeadingCollapsed": true
   },
   "source": [
    "## Single integral"
   ]
  },
  {
   "cell_type": "markdown",
   "metadata": {
    "hidden": true
   },
   "source": [
    "Strong lensing examples for the CIS and NFW:"
   ]
  },
  {
   "cell_type": "code",
   "execution_count": null,
   "metadata": {},
   "outputs": [],
   "source": [
    "Psi = lenses.Psi_CIS()\n",
    "\n",
    "y = 0.3\n",
    "p_prec = {'eval_mode':'exact'}\n",
    "\n",
    "It = time_domain_c.It_SingleIntegral_C(Psi, y, p_prec)\n",
    "\n",
    "## ---------------------------------------------------------\n",
    "\n",
    "taus = np.geomspace(1e-1, 10, 1000)\n",
    "\n",
    "fig, ax = plt.subplots()\n",
    "\n",
    "ax.plot(taus, It.eval_It(taus)/2/np.pi, label=It.lens.p_phys['name'])\n",
    "\n",
    "ax.set_xlabel(r'$\\tau$')\n",
    "ax.set_ylabel(r'$I(\\tau)/2\\pi$')\n",
    "ax.set_xscale('log')\n",
    "ax.legend(loc='best');"
   ]
  },
  {
   "cell_type": "markdown",
   "metadata": {
    "hidden": true
   },
   "source": [
    "The step function is built-in in the exact mode:"
   ]
  },
  {
   "cell_type": "code",
   "execution_count": null,
   "metadata": {},
   "outputs": [],
   "source": [
    "Psi = lenses.Psi_NFW({'xs':0.1})\n",
    "\n",
    "y = 0.3\n",
    "p_prec = {'eval_mode':'exact'}\n",
    "\n",
    "It = time_domain_c.It_SingleIntegral_C(Psi, y, p_prec)\n",
    "\n",
    "## ---------------------------------------------------------\n",
    "\n",
    "taus = np.linspace(-0.1, 2, 1000)\n",
    "\n",
    "fig, ax = plt.subplots()\n",
    "\n",
    "ax.plot(taus, It.eval_It(taus)/2/np.pi, label=It.lens.p_phys['name'])\n",
    "\n",
    "ax.set_xlabel(r'$\\tau$')\n",
    "ax.set_ylabel(r'$I(\\tau)/2\\pi$')\n",
    "ax.legend(loc='best');"
   ]
  },
  {
   "cell_type": "markdown",
   "metadata": {
    "heading_collapsed": true,
    "hidden": true,
    "jp-MarkdownHeadingCollapsed": true
   },
   "source": [
    "## Area integral"
   ]
  },
  {
   "cell_type": "markdown",
   "metadata": {
    "hidden": true
   },
   "source": [
    "This method is slow and noisy compared with the others, and its current implementation is very simple. However, it has been included to cross-check the results of the other methods, since it works equally bad for all lenses. "
   ]
  },
  {
   "cell_type": "code",
   "execution_count": null,
   "metadata": {},
   "outputs": [],
   "source": [
    "Psi = lenses.Psi_CIS({'rc':0.1})\n",
    "\n",
    "y = 0.2\n",
    "p_prec = {'n_rho' : 20000,\\\n",
    "          'tmax' : 3,\\\n",
    "          'Nt' : 500}\n",
    "\n",
    "It = time_domain_c.It_AreaIntegral_C(Psi, y, p_prec)"
   ]
  },
  {
   "cell_type": "code",
   "execution_count": null,
   "metadata": {},
   "outputs": [],
   "source": [
    "It.display_info()"
   ]
  },
  {
   "cell_type": "code",
   "execution_count": null,
   "metadata": {},
   "outputs": [],
   "source": [
    "fig, ax = plt.subplots()\n",
    "\n",
    "ax.plot(It.t_grid, It.It_grid/2/np.pi, label=It.lens.p_phys['name'])\n",
    "\n",
    "ax.set_xlabel(r'$\\tau$')\n",
    "ax.set_ylabel(r'$I(\\tau)/2\\pi$')\n",
    "ax.legend(loc='best');"
   ]
  },
  {
   "cell_type": "markdown",
   "metadata": {
    "heading_collapsed": true,
    "hidden": true,
    "jp-MarkdownHeadingCollapsed": true
   },
   "source": [
    "## Numerical lenses"
   ]
  },
  {
   "cell_type": "markdown",
   "metadata": {
    "hidden": true
   },
   "source": [
    "When the lens is not implemented in C, the code will try to precompute it in a grid, using the Python version, and then read it in C. There is a performance overhead, that can be mitigated reducing the size of the grid, but this feature will (hopefully) increase the flexibility of the code."
   ]
  },
  {
   "cell_type": "code",
   "execution_count": null,
   "metadata": {},
   "outputs": [],
   "source": [
    "Psi = lenses.Psi_SIS()\n",
    "Psi.p_phys['name'] = 'new SIS'\n",
    "\n",
    "y = 1.4\n",
    "p_prec = {'eval_mode' : 'interpolate'}\n",
    "It = time_domain_c.It_SingleContour_C(Psi, y, p_prec)"
   ]
  },
  {
   "cell_type": "markdown",
   "metadata": {
    "hidden": true
   },
   "source": [
    "For now, only axisymmetric lenses are allowed."
   ]
  },
  {
   "cell_type": "markdown",
   "metadata": {
    "jp-MarkdownHeadingCollapsed": true
   },
   "source": [
    "## Getting contours"
   ]
  },
  {
   "cell_type": "markdown",
   "metadata": {},
   "source": [
    "The `SingleContour`, `SingleIntegral` and `MultiContour` classes contain a method to output the contours of constant time delay."
   ]
  },
  {
   "cell_type": "code",
   "execution_count": null,
   "metadata": {},
   "outputs": [],
   "source": [
    "# auxiliary function to map times to colors\n",
    "def color_scheme(ts, cmap='rainbow', log_norm=False):\n",
    "        if log_norm is True:\n",
    "            log_tmin = np.log10(ts[0])\n",
    "            log_tmax = np.log10(ts[-1])\n",
    "            normalization = (np.log10(ts) - log_tmin)/(log_tmax - log_tmin)\n",
    "        else:\n",
    "            normalization = (ts - ts[0])/(ts[-1] - ts[0])\n",
    "\n",
    "        cm = plt.colormaps.get_cmap(cmap)\n",
    "        colors = cm(normalization)\n",
    "    \n",
    "        return colors"
   ]
  },
  {
   "cell_type": "markdown",
   "metadata": {},
   "source": [
    "### Single contour"
   ]
  },
  {
   "cell_type": "markdown",
   "metadata": {},
   "source": [
    "We can obtain an array of contours for a given array of $\\tau$ values. We must also specify the number of points in the contour. Each point is obtained integrating the differential equation (not interpolating)."
   ]
  },
  {
   "cell_type": "code",
   "execution_count": null,
   "metadata": {},
   "outputs": [],
   "source": [
    "y = 1.05\n",
    "Psi = lenses.Psi_SIS()\n",
    "It_std = time_domain_c.It_SingleContour_C(Psi, y, {'method':'standard', 'eval_mode':'exact'})\n",
    "        \n",
    "n_points = 100\n",
    "n_contours = 30\n",
    "ts = np.geomspace(1e-3, 10, n_contours)\n",
    "cnts_std = It_std.get_contour(ts, n_points=n_points)\n",
    "\n",
    "## ------------------------------------------------------------\n",
    "\n",
    "fig, ax = plt.subplots()\n",
    "for cnt, color in zip(cnts_std, color_scheme(ts)):\n",
    "    ax.plot(cnt['x1'], cnt['x2'], c=color)\n",
    "\n",
    "ax.set_aspect('equal')\n",
    "ax.set_title('%s $(y=%g)$' % (Psi.p_phys['name'], It_std.y))\n",
    "ax.set_xlabel('$x_1$')\n",
    "ax.set_ylabel('$x_2$');"
   ]
  },
  {
   "cell_type": "markdown",
   "metadata": {},
   "source": [
    "If the number of points is not specified (or set to be smaller than 1), then the contour contains the accepted points in the computation of $I(\\tau)$. This information is useful for debugging. In this method, we can also obtain the contours in terms of $(R, \\alpha)$, i.e. the polar coordinates actually used in the integration. Below we also compare with the 'robust' method, where the contours are computed as a parametric representation $R(\\sigma)$ and $\\alpha(\\sigma)$ (the variable $\\sigma$ is also stored in the contour dictionary)."
   ]
  },
  {
   "cell_type": "code",
   "execution_count": null,
   "metadata": {},
   "outputs": [],
   "source": [
    "y = 1.05\n",
    "Psi = lenses.Psi_SIS()\n",
    "It_std = time_domain_c.It_SingleContour_C(Psi, y, {'method':'standard', 'eval_mode':'exact'})\n",
    "It_rob = time_domain_c.It_SingleContour_C(Psi, y, {'method':'robust', 'eval_mode':'exact'})\n",
    "\n",
    "n_contours = 30\n",
    "ts = np.geomspace(1e-3, 10, n_contours)\n",
    "cnts_std = It_std.get_contour(ts)\n",
    "cnts_rob = It_rob.get_contour(ts)\n",
    "\n",
    "## -----------------------------------------------------\n",
    "\n",
    "fig, (ax, ax2) = plt.subplots(ncols=2, figsize=(8, 4), gridspec_kw={'wspace':0.3})\n",
    "for cnt1, cnt2, color in zip(cnts_std, cnts_rob, color_scheme(ts)):\n",
    "    ax.plot(cnt1['x1'], cnt1['x2'], c=color)\n",
    "    ax.plot(cnt2['x1'], cnt2['x2'], c=color, ls='--')\n",
    "\n",
    "    ax2.plot(cnt1['alpha']/np.pi/2., cnt1['R'], c=color)\n",
    "    ax2.plot(cnt2['alpha']/np.pi/2., cnt2['R'], c=color, ls='--')\n",
    "    \n",
    "ax.set_aspect('equal')\n",
    "ax.set_title('%s $(y=%g)$' % (Psi.p_phys['name'], It_std.y))\n",
    "ax.set_xlabel('$x_1$')\n",
    "ax.set_ylabel('$x_2$')\n",
    "\n",
    "ax2.set_box_aspect(1)\n",
    "ax2.set_title('%s $(y=%g)$' % (Psi.p_phys['name'], It_std.y))\n",
    "ax2.set_xlabel('$\\\\alpha/2\\\\pi$')\n",
    "ax2.set_ylabel('$R$');"
   ]
  },
  {
   "cell_type": "markdown",
   "metadata": {},
   "source": [
    "### Single integral"
   ]
  },
  {
   "cell_type": "markdown",
   "metadata": {},
   "source": [
    "Even though in this algorithm the contours are irrelevant, they can also be computed. For debugging purposes, the relevant quantities in this method are the minimum an maximum values of $x_1$ at $x_2=0$ for a given contour. These set the upper and lower limits for the radial integral."
   ]
  },
  {
   "cell_type": "code",
   "execution_count": null,
   "metadata": {},
   "outputs": [],
   "source": [
    "y = 0.1\n",
    "Psi = lenses.Psi_PointLens()\n",
    "It_int = time_domain_c.It_SingleIntegral_C(Psi, y, {'eval_mode':'exact'})\n",
    "\n",
    "n_points = 1000\n",
    "n_contours = 30\n",
    "ts = np.geomspace(1e-3, 1, n_contours)\n",
    "cnts_int = It_int.get_contour(ts, n_points=n_points)\n",
    "\n",
    "## ------------------------------------------------------------\n",
    "\n",
    "fig, ax = plt.subplots()\n",
    "for cnt, color in zip(cnts_int, color_scheme(ts)):\n",
    "    for x1, x2 in zip(cnt['x1'], cnt['x2']):\n",
    "        ax.plot(x1, x2, c=color)\n",
    "\n",
    "ax.set_aspect('equal')\n",
    "ax.set_title('%s $(y=%g)$' % (Psi.p_phys['name'], It_int.y))\n",
    "ax.set_xlabel('$x_1$')\n",
    "ax.set_ylabel('$x_2$');"
   ]
  },
  {
   "cell_type": "code",
   "execution_count": null,
   "metadata": {},
   "outputs": [],
   "source": [
    "y = 0.1\n",
    "Psi = lenses.Psi_SIS()\n",
    "It_int = time_domain_c.It_SingleIntegral_C(Psi, y, {'eval_mode':'exact'})\n",
    "\n",
    "n_points = 1000\n",
    "n_contours = 30\n",
    "ts = np.geomspace(1e-3, 1, n_contours)\n",
    "cnts_int = It_int.get_contour(ts, n_points=n_points)\n",
    "\n",
    "## ------------------------------------------------------------\n",
    "\n",
    "fig, ax = plt.subplots()\n",
    "for cnt, color in zip(cnts_int, color_scheme(ts)):\n",
    "    for x1, x2 in zip(cnt['x1'], cnt['x2']):\n",
    "        ax.plot(x1, x2, c=color)\n",
    "\n",
    "ax.set_aspect('equal')\n",
    "ax.set_title('%s $(y=%g)$' % (Psi.p_phys['name'], It_int.y))\n",
    "ax.set_xlabel('$x_1$')\n",
    "ax.set_ylabel('$x_2$');"
   ]
  },
  {
   "cell_type": "markdown",
   "metadata": {},
   "source": [
    "### Multicontour"
   ]
  },
  {
   "cell_type": "code",
   "execution_count": null,
   "metadata": {},
   "outputs": [],
   "source": [
    "def benchmark_lens():\n",
    "    # benchmark lens for 2d SL    \n",
    "    xs = [[0.3, 0], [-0.6, 0.3], [0.3, -0.3], [0, 0]]\n",
    "    psi0 = 1./len(xs)\n",
    "    rc = 0.05\n",
    "    Psis = [lenses.Psi_offcenterCIS({'psi0':psi0, 'rc':rc, 'xc1':x[0], 'xc2':x[1]}) for x in xs]\n",
    "    Psi = lenses.CombinedLens({'lenses':Psis})\n",
    "    return Psi\n",
    "\n",
    "## ------------------------------------------------------------\n",
    "\n",
    "y = 0.05\n",
    "Psi = benchmark_lens()\n",
    "It = time_domain_c.It_MultiContour_C(Psi, y, {'eval_mode':'exact'})\n",
    "\n",
    "n_points = 2000\n",
    "n_contours = 60\n",
    "ts = np.linspace(1e-2, 0.15, n_contours)\n",
    "cnts = It.get_contour(ts, n_points=n_points)\n",
    "\n",
    "## ------------------------------------------------------------\n",
    "\n",
    "fig, ax = plt.subplots()\n",
    "for cnt, color in zip(cnts, color_scheme(ts)):\n",
    "    for x1, x2 in zip(cnt['x1'], cnt['x2']):\n",
    "        ax.plot(x1, x2, c=color)\n",
    "\n",
    "ax.set_aspect('equal')\n",
    "ax.set_title('%s $(y=%g)$' % (Psi.p_phys['name'], It.y))\n",
    "ax.set_xlabel('$x_1$')\n",
    "ax.set_ylabel('$x_2$');"
   ]
  },
  {
   "cell_type": "markdown",
   "metadata": {
    "heading_collapsed": true,
    "jp-MarkdownHeadingCollapsed": true
   },
   "source": [
    "# Frequency domain"
   ]
  },
  {
   "cell_type": "markdown",
   "metadata": {
    "heading_collapsed": true,
    "hidden": true,
    "jp-MarkdownHeadingCollapsed": true
   },
   "source": [
    "## General purpose F(w)"
   ]
  },
  {
   "cell_type": "markdown",
   "metadata": {
    "hidden": true
   },
   "source": [
    "The new object for the computation of the amplification factor `Fw_FFT_C` is a general purpose algorithm. It uses the new regularization scheme, trying to improve the precision (and speed) of the computation when information about the asymptotic behaviour of the lens is available. At the moment it can handle power-law tails, but not yet logarithmic tails (even though it is not coded, one can still improve the behaviour with log tails introducing a power-law tail that is \"close\")"
   ]
  },
  {
   "cell_type": "markdown",
   "metadata": {
    "hidden": true
   },
   "source": [
    "The algorithm first computes the Fourier transform of the regularized $I(\\tau)$ and then add to it the analytic FT of the singular contribution. It is always a good idea to plot `Fw_reg` separately from `Fw`, since this is the one that is actually computed numerically."
   ]
  },
  {
   "cell_type": "code",
   "execution_count": null,
   "metadata": {},
   "outputs": [],
   "source": [
    "y = 1.3\n",
    "It = time_domain_c.It_AnalyticSIS_C(y)\n",
    "Fw = freq_domain_c.Fw_FFT_C(It)\n",
    "\n",
    "## ----------------------------------------\n",
    "\n",
    "ws = Fw.w_grid\n",
    "\n",
    "fig, ax = plt.subplots()\n",
    "ax.plot(ws, np.abs(Fw.eval_Fw(ws)), label='full = sing + reg', alpha=0.5)\n",
    "ax.plot(ws, np.abs(Fw.eval_Fw_sing(ws)), label='sing')\n",
    "ax.plot(ws, np.abs(Fw.eval_Fw_reg(ws)), label='reg')\n",
    "ax.set_xscale('log')\n",
    "ax.set_xlabel('$w$')\n",
    "ax.set_ylabel('$|F(w)|$')\n",
    "ax.legend()\n",
    "ax.set_title(\"y=%g\" % y)\n",
    "ax.grid()"
   ]
  },
  {
   "cell_type": "code",
   "execution_count": null,
   "metadata": {},
   "outputs": [],
   "source": [
    "y = 0.3\n",
    "It = time_domain_c.It_AnalyticSIS_C(y)\n",
    "Fw = freq_domain_c.Fw_FFT_C(It)\n",
    "\n",
    "## ----------------------------------------\n",
    "\n",
    "ws = Fw.w_grid\n",
    "\n",
    "fig, ax = plt.subplots()\n",
    "ax.plot(ws, np.abs(Fw.eval_Fw(ws)), label='full = sing + reg', alpha=0.5)\n",
    "ax.plot(ws, np.abs(Fw.eval_Fw_sing(ws)), label='sing')\n",
    "ax.plot(ws, np.abs(Fw.eval_Fw_reg(ws)), label='reg')\n",
    "ax.set_xscale('log')\n",
    "ax.set_xlabel('$w$')\n",
    "ax.set_ylabel('$|F(w)|$')\n",
    "ax.set_title(\"y=%g\" % y)\n",
    "ax.legend()\n",
    "ax.grid()"
   ]
  },
  {
   "cell_type": "markdown",
   "metadata": {
    "hidden": true
   },
   "source": [
    "It is also advisable to plot the regularized version of $I(\\tau)$, in order to see what is the object actually dealing with. "
   ]
  },
  {
   "cell_type": "code",
   "execution_count": null,
   "metadata": {},
   "outputs": [],
   "source": [
    "y = 0.3\n",
    "It = time_domain_c.It_AnalyticSIS_C(y)\n",
    "Fw = freq_domain_c.Fw_FFT_C(It)\n",
    "\n",
    "## ----------------------------------------\n",
    "\n",
    "ts = np.geomspace(1e-1, 1e2, 1000)\n",
    "\n",
    "fig, ax = plt.subplots()\n",
    "ax.plot(ts, Fw.It.eval_It(ts), label='full = sing + reg', alpha=0.5)\n",
    "ax.plot(ts, Fw.eval_It_sing(ts), label='sing')\n",
    "ax.plot(ts, Fw.eval_It_reg(ts), label='reg')\n",
    "ax.set_xscale('log')\n",
    "ax.set_xlabel(r'$\\tau$')\n",
    "ax.set_ylabel(r'$I(\\tau)$')\n",
    "ax.set_title(\"y=%g\" % y)\n",
    "ax.legend()\n",
    "ax.grid()"
   ]
  },
  {
   "cell_type": "markdown",
   "metadata": {
    "heading_collapsed": true,
    "hidden": true,
    "jp-MarkdownHeadingCollapsed": true
   },
   "source": [
    "## Pseudo-analytic SIS"
   ]
  },
  {
   "cell_type": "markdown",
   "metadata": {
    "hidden": true
   },
   "source": [
    "This is the pseudo-analytic computation of the amplification factor for the SIS. The implementation is very fast in the SL regime but struggles a bit more in the WL regime. It should not be a problem since it is in this regime where the numerical computation shines."
   ]
  },
  {
   "cell_type": "code",
   "execution_count": null,
   "metadata": {},
   "outputs": [],
   "source": [
    "y = 1.3\n",
    "Fw = freq_domain_c.Fw_SemiAnalyticSIS_C(y)\n",
    "\n",
    "## ----------------------------------------\n",
    "\n",
    "ws = np.geomspace(1e-2, 1e2, 1000)\n",
    "\n",
    "fig, ax = plt.subplots()\n",
    "ax.plot(ws, np.abs(Fw.eval_Fw(ws)), label='full = sing + reg', alpha=0.5)\n",
    "ax.plot(ws, np.abs(Fw.eval_Fw_sing(ws)), label='sing')\n",
    "ax.plot(ws, np.abs(Fw.eval_Fw_reg(ws)), label='reg')\n",
    "ax.set_xscale('log')\n",
    "ax.set_xlabel('$w$')\n",
    "ax.set_ylabel('$|F(w)|$')\n",
    "ax.legend()\n",
    "ax.set_title(\"y=%g\" % y)\n",
    "ax.grid()"
   ]
  },
  {
   "cell_type": "code",
   "execution_count": null,
   "metadata": {},
   "outputs": [],
   "source": [
    "y = 0.3\n",
    "Fw = freq_domain_c.Fw_SemiAnalyticSIS_C(y)\n",
    "\n",
    "## ----------------------------------------\n",
    "\n",
    "ws = np.geomspace(1e-2, 1e2, 1000)\n",
    "\n",
    "fig, ax = plt.subplots()\n",
    "ax.plot(ws, np.abs(Fw.eval_Fw(ws)), label='full = sing + reg', alpha=0.5)\n",
    "ax.plot(ws, np.abs(Fw.eval_Fw_sing(ws)), label='sing')\n",
    "ax.plot(ws, np.abs(Fw.eval_Fw_reg(ws)), label='reg')\n",
    "ax.set_xscale('log')\n",
    "ax.set_xlabel('$w$')\n",
    "ax.set_ylabel('$|F(w)|$')\n",
    "ax.set_title(\"y=%g\" % y)\n",
    "ax.legend()\n",
    "ax.grid()"
   ]
  },
  {
   "cell_type": "code",
   "execution_count": null,
   "metadata": {},
   "outputs": [],
   "source": [
    "y = 0.3\n",
    "Fw = freq_domain_c.Fw_SemiAnalyticSIS_C(y)\n",
    "\n",
    "## ----------------------------------------\n",
    "\n",
    "ts = np.geomspace(1e-1, 1e2, 1000)\n",
    "\n",
    "fig, ax = plt.subplots()\n",
    "ax.plot(ts, Fw.It.eval_It(ts), label='full = sing + reg', alpha=0.5)\n",
    "ax.plot(ts, Fw.eval_It_sing(ts), label='sing')\n",
    "ax.plot(ts, Fw.eval_It_reg(ts), label='reg')\n",
    "ax.set_xscale('log')\n",
    "ax.set_xlabel(r'$\\tau$')\n",
    "ax.set_ylabel(r'$I(\\tau)$')\n",
    "ax.set_title(\"y=%g\" % y)\n",
    "ax.legend()\n",
    "ax.grid()"
   ]
  },
  {
   "cell_type": "markdown",
   "metadata": {
    "heading_collapsed": true,
    "jp-MarkdownHeadingCollapsed": true
   },
   "source": [
    "# Miscellanea"
   ]
  },
  {
   "cell_type": "markdown",
   "metadata": {
    "heading_collapsed": true,
    "hidden": true,
    "jp-MarkdownHeadingCollapsed": true
   },
   "source": [
    "## Internal information and debugging"
   ]
  },
  {
   "cell_type": "markdown",
   "metadata": {
    "hidden": true
   },
   "source": [
    "All the objects defined in the Python modules share a common structure. They only take as parameters either another object, a `p_phys` or a `p_prec` dictionary. This make it easy to display the internal information of each object. All of them ship with a `display_info()` method, that is also a good remainder of the allowed input parameters."
   ]
  },
  {
   "cell_type": "code",
   "execution_count": null,
   "metadata": {},
   "outputs": [],
   "source": [
    "Psi = lenses.Psi_SIS()\n",
    "Psi.display_info()"
   ]
  },
  {
   "cell_type": "code",
   "execution_count": null,
   "metadata": {},
   "outputs": [],
   "source": [
    "It = time_domain_c.It_SingleContour_C(Psi, y=1.2)\n",
    "It.display_info()"
   ]
  },
  {
   "cell_type": "code",
   "execution_count": null,
   "metadata": {},
   "outputs": [],
   "source": [
    "Fw = freq_domain_c.Fw_FFT_C(It)\n",
    "Fw.display_info()"
   ]
  },
  {
   "cell_type": "markdown",
   "metadata": {
    "hidden": true
   },
   "source": [
    "The time-domain integral can also show the information about the images found"
   ]
  },
  {
   "cell_type": "code",
   "execution_count": null,
   "metadata": {},
   "outputs": [],
   "source": [
    "It = time_domain_c.It_SingleContour_C(Psi, y=1.2)\n",
    "It.display_images()"
   ]
  },
  {
   "cell_type": "code",
   "execution_count": null,
   "metadata": {},
   "outputs": [],
   "source": [
    "It = time_domain_c.It_SingleIntegral_C(Psi, y=0.2)\n",
    "It.display_images()"
   ]
  },
  {
   "cell_type": "markdown",
   "metadata": {
    "hidden": true
   },
   "source": [
    "Another feature, especially useful for debugging, is the ability to print the tree of calls needed to replicate a given object:"
   ]
  },
  {
   "cell_type": "code",
   "execution_count": null,
   "metadata": {},
   "outputs": [],
   "source": [
    "print(Psi)"
   ]
  },
  {
   "cell_type": "code",
   "execution_count": null,
   "metadata": {},
   "outputs": [],
   "source": [
    "print(It)"
   ]
  },
  {
   "cell_type": "code",
   "execution_count": null,
   "metadata": {},
   "outputs": [],
   "source": [
    "print(Fw)"
   ]
  },
  {
   "cell_type": "markdown",
   "metadata": {
    "hidden": true
   },
   "source": [
    "In this simple example it is pretty straightforward, but this feature is useful for debugging the code when the amplification factor has been generated in the middle of a more complicated script, e.g. when we use a random distribution of lenses or a lens generated by a different piece of code."
   ]
  },
  {
   "cell_type": "markdown",
   "metadata": {
    "jp-MarkdownHeadingCollapsed": true
   },
   "source": [
    "### C precision parameters"
   ]
  },
  {
   "attachments": {},
   "cell_type": "markdown",
   "metadata": {},
   "source": [
    "Most of the precision parameters in the C code can be accessed from Python. After defining the main object, the current precision parameters can be visualized with the `display_Cprec` method (including options for non-numerical parameters)"
   ]
  },
  {
   "cell_type": "code",
   "execution_count": null,
   "metadata": {},
   "outputs": [],
   "source": [
    "It = time_domain_c.It_AnalyticSIS_C(y=1.2)\n",
    "#It.display_Cprec()   # long output"
   ]
  },
  {
   "cell_type": "markdown",
   "metadata": {},
   "source": [
    "These parameters can be modified through an entry in `p_prec`"
   ]
  },
  {
   "cell_type": "code",
   "execution_count": null,
   "metadata": {},
   "outputs": [],
   "source": [
    "C_prec = {'ro_issameCP_dist' : 2e-5, \\\n",
    "          'sc_intContourStd' : {'type' : 'rkf45', 'epsabs' : 1e-6}}\n",
    "Psi = lenses.Psi_SIS()\n",
    "It = time_domain_c.It_SingleContour_C(Psi, y=1.2, p_prec={'C_prec' : C_prec})"
   ]
  },
  {
   "cell_type": "markdown",
   "metadata": {
    "execution": {
     "iopub.execute_input": "2023-07-25T20:20:20.161782Z",
     "iopub.status.busy": "2023-07-25T20:20:20.160845Z",
     "iopub.status.idle": "2023-07-25T20:20:20.172451Z",
     "shell.execute_reply": "2023-07-25T20:20:20.170635Z",
     "shell.execute_reply.started": "2023-07-25T20:20:20.161711Z"
    }
   },
   "source": [
    "If needed, the precision parameters of the current session can also be retrieved in dictionary form"
   ]
  },
  {
   "cell_type": "code",
   "execution_count": null,
   "metadata": {},
   "outputs": [],
   "source": [
    "full_C_prec = It.get_Cprec()"
   ]
  },
  {
   "cell_type": "markdown",
   "metadata": {
    "heading_collapsed": true,
    "hidden": true,
    "jp-MarkdownHeadingCollapsed": true
   },
   "source": [
    "## A more complex example: $n$ SISs"
   ]
  },
  {
   "cell_type": "markdown",
   "metadata": {
    "hidden": true
   },
   "source": [
    "First, we define a couple of functions that will prove handy"
   ]
  },
  {
   "cell_type": "code",
   "execution_count": null,
   "metadata": {},
   "outputs": [],
   "source": [
    "def distribute_centers(n, R=1, seed=None):\n",
    "    \n",
    "    if(seed is None):\n",
    "        seed = np.random.randint(0, 1e7)\n",
    "        print(\"Seed:\", seed)    \n",
    "    np.random.seed(seed)\n",
    "    \n",
    "    Rs = R*np.sqrt(np.random.random_sample(n))\n",
    "    ths = 2*np.pi*np.random.random_sample(n)\n",
    "    \n",
    "    x1 = Rs*np.cos(ths)\n",
    "    x2 = Rs*np.sin(ths)\n",
    "    \n",
    "    x1CM = np.sum(x1)/n\n",
    "    x2CM = np.sum(x2)/n\n",
    "    \n",
    "    x1 -= x1CM\n",
    "    x2 -= x2CM\n",
    "    \n",
    "    return x1, x2\n",
    "\n",
    "def create_lens(n, R, seed=None):\n",
    "    psi0 = 1./n\n",
    "    xc1s, xc2s = distribute_centers(n, R, seed=seed)\n",
    "    \n",
    "    p_phys = {'lenses' : []}\n",
    "    for xc1, xc2 in zip(xc1s, xc2s):\n",
    "        sub_p_phys = {'psi0' : psi0, 'xc1' : xc1, 'xc2' : xc2}\n",
    "        Psi = lenses.Psi_offcenterSIS(sub_p_phys)\n",
    "        p_phys['lenses'].append(Psi)\n",
    "\n",
    "    return lenses.CombinedLens(p_phys)\n",
    "\n",
    "def plot_It(Psi, y, SIS=False, CIS=False, rc=0.1):\n",
    "    p_prec = {'eval_mode' : 'exact'}\n",
    "    It = time_domain_c.It_SingleContour_C(Psi, y, p_prec)\n",
    "\n",
    "    taus = np.geomspace(1e-1, 50, 1000)\n",
    "\n",
    "    fig, ax = plt.subplots()\n",
    "    ax.plot(taus, It.eval_It(taus)/2/np.pi, label='%d SIS' % len(Psi.p_phys['lenses']))\n",
    "    ax.set_xscale('log')\n",
    "    \n",
    "    It_SIS = None\n",
    "    if SIS is True:\n",
    "        It_SIS = time_domain_c.It_AnalyticSIS_C(y, p_prec)\n",
    "        ax.plot(taus, It_SIS.eval_It(taus)/2/np.pi, label='SIS')\n",
    "    \n",
    "    It_CIS = None\n",
    "    if CIS is True:\n",
    "        Psi_CIS = lenses.Psi_CIS({'psi0':1, 'rc':rc})\n",
    "        It_CIS = time_domain_c.It_SingleContour_C(Psi_CIS, y, p_prec)\n",
    "        ax.plot(taus, It_CIS.eval_It(taus)/2/np.pi, label='CIS')\n",
    "    \n",
    "    ax.set_xlabel(r'$\\tau$')\n",
    "    ax.set_ylabel(r'$I(\\tau)/2\\pi$')\n",
    "    ax.set_xlim([taus[0], taus[-1]])\n",
    "    ax.legend(loc='best')\n",
    "    \n",
    "def plot_Gt(Psi, y, SIS=False, CIS=False, rc=0.1):\n",
    "    p_prec = {'eval_mode' : 'exact'}\n",
    "    It = time_domain_c.It_SingleContour_C(Psi, y, p_prec)\n",
    "\n",
    "    dt = 1e-3\n",
    "    taus = np.geomspace(1e-1, 50, 1000)\n",
    "    \n",
    "    fig, ax = plt.subplots()\n",
    "    ax.plot(taus, It.eval_Gt(taus, dt=dt), label='%d SIS' % len(Psi.p_phys['lenses']), c='C0')\n",
    "    ax.set_xscale('log')\n",
    "    \n",
    "    It_SIS = None\n",
    "    if SIS is True:\n",
    "        It_SIS = time_domain_c.It_AnalyticSIS_C(y, p_prec)\n",
    "        ax.plot(taus, It_SIS.eval_Gt(taus, dt=dt), label='SIS', c='C1')\n",
    "    \n",
    "    It_CIS = None\n",
    "    if CIS is True:\n",
    "        Psi_CIS = lenses.Psi_CIS({'psi0':1, 'rc':rc})\n",
    "        It_CIS = time_domain_c.It_SingleContour_C(Psi_CIS, y, p_prec)\n",
    "        ax.plot(taus, It_CIS.eval_Gt(taus, dt=dt), label='CIS', c='C2')\n",
    "    \n",
    "    ax.set_xlabel(r'$\\tau$')\n",
    "    ax.set_ylabel(r'$G(\\tau)$')\n",
    "    ax.set_xlim([taus[0], taus[-1]])\n",
    "    ax.legend(loc='best')"
   ]
  },
  {
   "cell_type": "markdown",
   "metadata": {
    "hidden": true
   },
   "source": [
    "Now, we will create a set of (`n_sublenses`) SIS randomly distributed inside a sphere of radius (`R`). The center of mass position and the total lens mass are fixed."
   ]
  },
  {
   "cell_type": "code",
   "execution_count": null,
   "metadata": {},
   "outputs": [],
   "source": [
    "n_sublenses = 3\n",
    "R = 1\n",
    "\n",
    "Psi = create_lens(n=n_sublenses, R=R, seed=None)"
   ]
  },
  {
   "cell_type": "markdown",
   "metadata": {
    "hidden": true
   },
   "source": [
    "We can compare this composed lens with a SIS or a CIS of the same mass (situated at the center of mass of the lens distribution)"
   ]
  },
  {
   "cell_type": "code",
   "execution_count": null,
   "metadata": {},
   "outputs": [],
   "source": [
    "plot_It(Psi, y=1.2, SIS=True, CIS=True)"
   ]
  },
  {
   "cell_type": "code",
   "execution_count": null,
   "metadata": {},
   "outputs": [],
   "source": [
    "plot_Gt(Psi, y=1.2, SIS=False, CIS=True)"
   ]
  },
  {
   "cell_type": "markdown",
   "metadata": {
    "hidden": true
   },
   "source": [
    "We can also compare the effects in the amplification factor. First we must compute the time-domain integral in a wide temporal range, as usual. (Note: the plot above was computed using the `p_prec['eval_method']='exact'` option to compute it at any tau requested, now we need a grid so we must use `'interpolate'`, which is the default)"
   ]
  },
  {
   "cell_type": "code",
   "execution_count": null,
   "metadata": {},
   "outputs": [],
   "source": [
    "y = 1.2\n",
    "p_prec = {'tmin':1e-2, 'tmax':1e8, 'Nt':5000, 'sampling':'log'}\n",
    "\n",
    "It_MultiSIS = time_domain_c.It_SingleContour_C(Psi, y, p_prec)\n",
    "\n",
    "It_SIS = time_domain_c.It_AnalyticSIS_C(y, p_prec)\n",
    "\n",
    "Psi_CIS = lenses.Psi_CIS({'psi0':1, 'rc':0.1})\n",
    "It_CIS = time_domain_c.It_SingleContour_C(Psi_CIS, y, p_prec)"
   ]
  },
  {
   "cell_type": "markdown",
   "metadata": {
    "hidden": true
   },
   "source": [
    "Next, we compute the amplification factors"
   ]
  },
  {
   "cell_type": "code",
   "execution_count": null,
   "metadata": {},
   "outputs": [],
   "source": [
    "Fw_MultiSIS = freq_domain_c.Fw_FFT_C(It_MultiSIS)\n",
    "Fw_SIS = freq_domain_c.Fw_FFT_C(It_SIS)\n",
    "Fw_CIS = freq_domain_c.Fw_FFT_C(It_CIS)"
   ]
  },
  {
   "cell_type": "markdown",
   "metadata": {
    "hidden": true
   },
   "source": [
    "and plot them"
   ]
  },
  {
   "cell_type": "code",
   "execution_count": null,
   "metadata": {},
   "outputs": [],
   "source": [
    "fig, ax = plt.subplots()\n",
    "\n",
    "ws = Fw_SIS.w_grid\n",
    "\n",
    "ws = np.geomspace(1e-2, 1e2, 5000)\n",
    "\n",
    "ax.plot(ws, np.abs(Fw_MultiSIS(ws)), zorder=10, label='%d SIS' % len(Psi.p_phys['lenses']))\n",
    "ax.plot(ws, np.abs(Fw_SIS(ws)), alpha=0.5, label='SIS')\n",
    "ax.plot(ws, np.abs(Fw_CIS(ws)), alpha=0.5, label='CIS')\n",
    "\n",
    "ax.set_xlim([ws[0], ws[-1]])\n",
    "ax.set_xscale('log')\n",
    "ax.set_ylabel('$|F(w)|$')\n",
    "ax.set_xlabel('$w$')\n",
    "ax.legend(loc='best');"
   ]
  },
  {
   "cell_type": "markdown",
   "metadata": {
    "jp-MarkdownHeadingCollapsed": true
   },
   "source": [
    "## Multicontour plots"
   ]
  },
  {
   "cell_type": "markdown",
   "metadata": {
    "jp-MarkdownHeadingCollapsed": true
   },
   "source": [
    "### Debugging "
   ]
  },
  {
   "cell_type": "markdown",
   "metadata": {},
   "source": [
    "#### Definitions"
   ]
  },
  {
   "cell_type": "code",
   "execution_count": null,
   "metadata": {},
   "outputs": [],
   "source": [
    "def benchmark_lens():\n",
    "    # benchmark lens for 2d SL    \n",
    "    xs = [[0.3, 0], [-0.6, 0.3], [0.3, -0.3], [0, 0]]\n",
    "    psi0 = 1./len(xs)\n",
    "    rc = 0.05\n",
    "    Psis = [lenses.Psi_offcenterCIS({'psi0':psi0, 'rc':rc, 'xc1':x[0], 'xc2':x[1]}) for x in xs]\n",
    "    Psi = lenses.CombinedLens({'lenses':Psis})\n",
    "    return Psi\n",
    "\n",
    "def plot_saddle_cnt(It, ax, dx=1e-3):\n",
    "    saddles = [p_crit for p_crit in It.p_crits if p_crit['type'] == 'saddle']\n",
    "    \n",
    "    xmax = 0\n",
    "    for s in saddles:        \n",
    "        x1 = s['x1']\n",
    "        x2 = s['x2']\n",
    "        d11 = Psi.ddpsi_ddx1(x1, x2)\n",
    "        d22 = Psi.ddpsi_ddx2(x1, x2)\n",
    "        d12 = Psi.ddpsi_dx1dx2(x1, x2)\n",
    "        \n",
    "        kappa  = 0.5*(d11 + d22)\n",
    "        gamma1 = 0.5*(d11 - d22)\n",
    "        gamma2 = d12\n",
    "        gamma = np.sqrt(gamma1**2 + gamma2**2)\n",
    "        \n",
    "        C = (gamma1 + gamma)/(gamma2 + 1e-12)\n",
    "        \n",
    "        l1 = 1 + kappa + gamma\n",
    "        l2 = 1 + kappa - gamma\n",
    "        \n",
    "        v1 = np.array([C, 1])\n",
    "        v2 = np.array([1, -C])\n",
    "        \n",
    "        x0 = np.array([x1, x2])\n",
    "        x_a = x0 + v1*dx\n",
    "        x_b = x0 - v1*dx\n",
    "        x_c = x0 + v2*dx\n",
    "        x_d = x0 - v2*dx\n",
    "        \n",
    "        for xs in [x_a, x_b, x_c, x_d]:\n",
    "            x1, x2 = xs\n",
    "            cnt = It.get_contour_x1x2(x1, x2, sigmaf=300, n_points=1000)\n",
    "            ax.plot(cnt['x1'], cnt['x2'], lw=0.6, c='black')\n",
    "            ax.plot(cnt['x1'][0], cnt['x2'][0], marker='o', ms=3, ls='', c='black')\n",
    "            \n",
    "            xmax = max(np.max(np.abs(cnt['x1'])), np.max(np.abs(cnt['x2'])), xmax)\n",
    "            \n",
    "    return xmax, ax\n",
    "    \n",
    "def plot_centers(It, ax):\n",
    "    for c in It.p_centers:\n",
    "        x1, x2 = c['x10'], c['x20']\n",
    "        if c['is_init_birthdeath'] == 1:\n",
    "            color = 'green'\n",
    "            R, a = c['R_max'], c['alpha_out']\n",
    "        else:\n",
    "            color = 'red'\n",
    "            R, a = 0.1, c['alpha_out']\n",
    "            \n",
    "        ax.plot(x1, x2, marker='o', ms=4, ls='', c=color)\n",
    "        \n",
    "        dx1, dx2 = R*np.cos(a), R*np.sin(a)\n",
    "        ax.arrow(x1, x2, dx1, dx2,\n",
    "                 ec = color,\n",
    "                 fc = color,\n",
    "                 length_includes_head = True)\n",
    "                 \n",
    "    return ax\n",
    "\n",
    "def plot_debugMulti(Psi, y, N=200, source=False, images=False, lenses=False, saddles=False, centers=False, fig=None, ax=None):\n",
    "    # compute the images and centers only\n",
    "    It = time_domain_c.It_MultiContour_C(Psi, y, {'eval_mode' : 'exact'})\n",
    "    \n",
    "    # init figure\n",
    "    if (fig is None) and (ax is None):\n",
    "        fig, ax = plt.subplots()\n",
    "    \n",
    "    # find the plot limits\n",
    "    xmax_images = 1.3*np.abs(np.array([[p['x1'], p['x2']] for p in It.p_crits]).flatten()).max()\n",
    "    xmax = xmax_images\n",
    "    \n",
    "    # plot the critical contours\n",
    "    if saddles is True:\n",
    "        xmax_saddle, ax = plot_saddle_cnt(It, ax, dx=1e-3)\n",
    "        xmax = max(xmax, xmax_saddle)\n",
    "    \n",
    "    # plot the lens eq\n",
    "    fig, ax = tools.plot_lensEq_2d(Psi, y, x1min=-xmax, x1max=xmax, Nx=N, fig=fig, ax=ax)\n",
    "    \n",
    "    # plot the location of the images\n",
    "    if images is True:\n",
    "        for i, p in enumerate(It.p_crits):\n",
    "            ax.text(p['x1'], p['x2'], \"%d\" % i, fontsize='small')\n",
    "    \n",
    "    # plot the location of the source\n",
    "    if source is True:\n",
    "        ax.plot(y, 0, marker='*', ms=5, ls='', c='black')\n",
    "    \n",
    "    # plot the location of the sublenses\n",
    "    if lenses is True:\n",
    "        try:\n",
    "            for lens in Psi.p_phys['lenses']:\n",
    "                x1 = lens.p_phys['xc1']\n",
    "                x2 = lens.p_phys['xc2']\n",
    "                ax.plot(x1, x2, marker='x', ms=4, ls='', c='black', alpha=0.5)\n",
    "        except KeyError:\n",
    "            ax.plot(0, 0, marker='x', ms=4, ls='', c='black', alpha=0.5)\n",
    "        \n",
    "    # plot the centers\n",
    "    if centers is True:\n",
    "        ax = plot_centers(It, ax)\n",
    "        \n",
    "    return fig, ax, It"
   ]
  },
  {
   "cell_type": "markdown",
   "metadata": {},
   "source": [
    "#### Plots"
   ]
  },
  {
   "cell_type": "code",
   "execution_count": null,
   "metadata": {},
   "outputs": [],
   "source": [
    "y = 0.015\n",
    "Psi = benchmark_lens()\n",
    "\n",
    "# default behaviour : plot the lens equation\n",
    "fig, ax, It = plot_debugMulti(Psi, y)"
   ]
  },
  {
   "cell_type": "code",
   "execution_count": null,
   "metadata": {},
   "outputs": [],
   "source": [
    "#interesting values\n",
    "y = 0.015\n",
    "#y = 0.05\n",
    "#y = 0.08\n",
    "#y = 0.2\n",
    "#y = 0.3\n",
    "\n",
    "Psi = benchmark_lens()\n",
    "\n",
    "kwargs = {}\n",
    "kwargs['N']       = 200   # number of points in the grid for imshow\n",
    "kwargs['source']  = True  # source (with a star)\n",
    "kwargs['images']  = True  # images with numbers (sorted with tau min -> max)\n",
    "kwargs['lenses']  = True  # position of the sublenses (with crosses)\n",
    "kwargs['saddles'] = True  # critical curves for the saddle points\n",
    "kwargs['centers'] = True  # centers with the min and max radius (in the direction out)\n",
    "                          # outer center in red\n",
    "\n",
    "fig, ax, It = plot_debugMulti(Psi, y, **kwargs)"
   ]
  },
  {
   "cell_type": "markdown",
   "metadata": {
    "jp-MarkdownHeadingCollapsed": true
   },
   "source": [
    "### Advanced contour plots"
   ]
  },
  {
   "cell_type": "markdown",
   "metadata": {},
   "source": [
    "#### Definitions"
   ]
  },
  {
   "cell_type": "code",
   "execution_count": null,
   "metadata": {},
   "outputs": [],
   "source": [
    "# benchmark lens for 2d SL\n",
    "def benchmark_lens():    \n",
    "    xs = [[0.3, 0], [-0.6, 0.3], [0.3, -0.3], [0, 0]]\n",
    "    psi0 = 1./len(xs)\n",
    "    rc = 0.05\n",
    "    Psis = [lenses.Psi_offcenterCIS({'psi0':psi0, 'rc':rc, 'xc1':x[0], 'xc2':x[1]}) for x in xs]\n",
    "    Psi = lenses.CombinedLens({'lenses':Psis})\n",
    "    return Psi\n",
    "\n",
    "# auxiliary function to map times to colors\n",
    "def color_scheme(ts, cmap='rainbow', log_norm=False):\n",
    "        if log_norm is True:\n",
    "            log_tmin = np.log10(ts[0])\n",
    "            log_tmax = np.log10(ts[-1])\n",
    "            normalization = (np.log10(ts) - log_tmin)/(log_tmax - log_tmin)\n",
    "        else:\n",
    "            normalization = (ts - ts[0])/(ts[-1] - ts[0])\n",
    "\n",
    "        cm = plt.colormaps.get_cmap(cmap)\n",
    "        colors = cm(normalization)\n",
    "    \n",
    "        return colors\n",
    "\n",
    "# convert array into colorized segments\n",
    "def plot_segments(ax, x, y, color_of_x):\n",
    "    colors = color_of_x(x)\n",
    "    points = np.array([x, y]).T.reshape(-1, 1, 2)\n",
    "    segments = np.concatenate([points[:-1], points[1:]], axis=1)\n",
    "    line_segments = matplotlib.collections.LineCollection(segments, colors=colors[:-1])\n",
    "\n",
    "    ax.add_collection(line_segments)\n",
    "    ax.autoscale()\n",
    "    return ax\n",
    "\n",
    "def plot_contours(Psi, y, tmin=3e-3, tmax=0.3, Nt=60, n_points=1000, \\\n",
    "                  log=False, cmap='rainbow', fcolor='white', plot_all=False):\n",
    "    It = time_domain_c.It_MultiContour_C(Psi, y, {'eval_mode':'exact'})\n",
    "\n",
    "    if log is False:\n",
    "        ts = np.linspace(tmin, tmax, Nt)\n",
    "    else:\n",
    "        ts = np.geomspace(tmin, tmax, Nt)\n",
    "        \n",
    "    cnts = It.get_contour(ts, n_points=n_points)\n",
    "\n",
    "    ## ------------------------------------------------------------\n",
    "\n",
    "    if plot_all is True:\n",
    "        #fig = plt.figure(layout=\"constrained\")\n",
    "        fig = plt.figure()\n",
    "        gs = matplotlib.gridspec.GridSpec(2, 2, figure=fig, wspace=0.05, hspace=0.05)\n",
    "        ax = fig.add_subplot(gs[:, 0])\n",
    "        \n",
    "        ax_It = fig.add_subplot(gs[0, 1])\n",
    "        ax_Gt = fig.add_subplot(gs[1, 1])\n",
    "        axs = (ax_It, ax_Gt)\n",
    "\n",
    "        # populate more densely and plot as colored segments\n",
    "        if log is False:\n",
    "            x = np.linspace(tmin, tmax, 20*Nt)\n",
    "        else:\n",
    "            x = np.geomspace(tmin, tmax, 20*Nt)\n",
    "\n",
    "        y = It.eval_It(x)/2/np.pi\n",
    "        plot_segments(ax_It, x, y, lambda x: color_scheme(x, cmap=cmap))\n",
    "\n",
    "        y = It.eval_Gt(x)\n",
    "        plot_segments(ax_Gt, x, y, lambda x: color_scheme(x, cmap=cmap))\n",
    "\n",
    "        # customize plot\n",
    "        ax_It.get_xaxis().set_visible(False)\n",
    "        ax_It.set_ylabel('$I(\\\\tau)/2\\\\pi$')\n",
    "        ax_Gt.set_ylabel('$G(\\\\tau)$')\n",
    "        ax_Gt.set_xlabel('$\\\\tau$')\n",
    "        \n",
    "        for a in axs:\n",
    "            a.yaxis.tick_right()\n",
    "            a.yaxis.set_label_position(\"right\")\n",
    "            a.set_facecolor(fcolor)\n",
    "    else:\n",
    "        fig, ax = plt.subplots()\n",
    "        \n",
    "    for cnt, color in zip(cnts, color_scheme(ts, cmap=cmap)):\n",
    "        for x1, x2 in zip(cnt['x1'], cnt['x2']):\n",
    "            ax.plot(x1, x2, c=color)\n",
    "\n",
    "    ax.set_aspect('equal')\n",
    "    ax.set_title('%s $(y=%g)$' % (Psi.p_phys['name'], It.y))\n",
    "    ax.set_xlabel('$x_1$')\n",
    "    ax.set_ylabel('$x_2$');\n",
    "    ax.set_facecolor(fcolor)\n",
    "\n",
    "    return fig"
   ]
  },
  {
   "cell_type": "markdown",
   "metadata": {},
   "source": [
    "#### Plots"
   ]
  },
  {
   "cell_type": "code",
   "execution_count": null,
   "metadata": {},
   "outputs": [],
   "source": [
    "y = 0.01\n",
    "Psi = benchmark_lens()\n",
    "\n",
    "# default behaviour : plot only some contours\n",
    "fig = plot_contours(Psi, y)"
   ]
  },
  {
   "cell_type": "code",
   "execution_count": null,
   "metadata": {},
   "outputs": [],
   "source": [
    "y = 0.015\n",
    "Psi = benchmark_lens()\n",
    "\n",
    "kwargs = {}\n",
    "kwargs['tmin'] = 1e-3       # min tau\n",
    "kwargs['tmax'] = 0.19       # max tau\n",
    "kwargs['Nt']   = 40         # number of contours (for It -> N=20*Nt)\n",
    "kwargs['n_points'] = 1000   # number of points in each contour\n",
    "kwargs['log'] = True        # if True -> log spacing in tau\n",
    "kwargs['cmap'] = 'rainbow'  # colormap\n",
    "kwargs['fcolor'] = 'black'  # background color\n",
    "kwargs['plot_all'] = True   # if True plot It and Gt as well\n",
    "\n",
    "fig = plot_contours(Psi, y, **kwargs)"
   ]
  },
  {
   "cell_type": "markdown",
   "metadata": {
    "heading_collapsed": true,
    "hidden": true,
    "jp-MarkdownHeadingCollapsed": true
   },
   "source": [
    "## Testing precision"
   ]
  },
  {
   "cell_type": "code",
   "execution_count": null,
   "metadata": {},
   "outputs": [],
   "source": [
    "from glow import wrapper"
   ]
  },
  {
   "cell_type": "markdown",
   "metadata": {
    "heading_collapsed": true,
    "hidden": true,
    "jp-MarkdownHeadingCollapsed": true
   },
   "source": [
    "### Single contour"
   ]
  },
  {
   "cell_type": "markdown",
   "metadata": {
    "hidden": true
   },
   "source": [
    "Benchmark values (RK(8,9) integrator with tol=1e-5, compilation with `-Ofast`)"
   ]
  },
  {
   "cell_type": "code",
   "execution_count": null,
   "metadata": {},
   "outputs": [],
   "source": [
    "y = 1.1\n",
    "psi0 = 1\n",
    "x1_min = psi0 + y\n",
    "x2_min = 0\n",
    "\n",
    "Psi = lenses.Psi_SIS({'psi0':psi0})\n",
    "\n",
    "tau_ini = 0.8\n",
    "taus = np.geomspace(0.1, 100, 1000)"
   ]
  },
  {
   "cell_type": "markdown",
   "metadata": {
    "hidden": true
   },
   "source": [
    "We can compare it with the exact result"
   ]
  },
  {
   "cell_type": "code",
   "execution_count": null,
   "metadata": {},
   "outputs": [],
   "source": [
    "Is = wrapper.pyContour(taus, x1_min, x2_min, y, Psi)\n",
    "Is2 = wrapper.pyContour(taus, x1_min, x2_min, y, Psi, method='robust')\n",
    "It_exact = wrapper.pyIt_SIS(taus, y, psi0)\n",
    "\n",
    "fig, ax = plt.subplots()\n",
    "ax.plot(taus, np.abs(Is-It_exact)/It_exact, label='std method')\n",
    "ax.plot(taus, np.abs(Is2-It_exact)/It_exact, label='robust method')\n",
    "ax.set_xlabel('$\\\\tau$')\n",
    "ax.set_ylabel('$|I-I_{exact}|/|I_{exact}|$')\n",
    "ax.legend()\n",
    "ax.grid()\n",
    "ax.set_xscale('log')\n",
    "ax.set_yscale('log')"
   ]
  },
  {
   "cell_type": "markdown",
   "metadata": {
    "heading_collapsed": true,
    "hidden": true,
    "jp-MarkdownHeadingCollapsed": true
   },
   "source": [
    "### Single integral"
   ]
  },
  {
   "cell_type": "markdown",
   "metadata": {
    "hidden": true
   },
   "source": [
    "Benchmark values: `qags` integrator with rtol=1e-4, atol=0, sub_int_limit=1000, compilation with `-Ofast`)"
   ]
  },
  {
   "cell_type": "code",
   "execution_count": null,
   "metadata": {},
   "outputs": [],
   "source": [
    "y = 1.3\n",
    "\n",
    "tau_ini = 0.8\n",
    "taus = np.geomspace(1e-2, 10, 1000)\n",
    "\n",
    "Psi = lenses.Psi_SIS()\n",
    "\n",
    "# extract p_crits first\n",
    "It = time_domain_c.It_SingleIntegral_C(Psi, y, {'eval_mode':'exact'})\n",
    "p_crits = It.p_crits"
   ]
  },
  {
   "cell_type": "markdown",
   "metadata": {
    "hidden": true
   },
   "source": [
    "We can compare it with the exact result"
   ]
  },
  {
   "cell_type": "code",
   "execution_count": null,
   "metadata": {},
   "outputs": [],
   "source": [
    "Is = wrapper.pySingleIntegral(taus, y, Psi, p_crits, method='direct')\n",
    "It_exact = wrapper.pyIt_SIS(taus, y, 1)\n",
    "\n",
    "fig, ax = plt.subplots()\n",
    "ax.plot(taus, np.abs(Is-It_exact)/It_exact)\n",
    "ax.grid()\n",
    "ax.set_xlabel('$\\\\tau$')\n",
    "ax.set_ylabel('$|I-I_{exact}|/|I_{exact}|$')\n",
    "ax.set_xscale('log')\n",
    "ax.set_yscale('log')"
   ]
  },
  {
   "cell_type": "markdown",
   "metadata": {
    "heading_collapsed": true,
    "hidden": true,
    "jp-MarkdownHeadingCollapsed": true
   },
   "source": [
    "### General F(w)"
   ]
  },
  {
   "cell_type": "markdown",
   "metadata": {
    "hidden": true
   },
   "source": [
    "Weak-lensing precision"
   ]
  },
  {
   "cell_type": "code",
   "execution_count": null,
   "metadata": {},
   "outputs": [],
   "source": [
    "y = 1.3\n",
    "\n",
    "It_std = time_domain_c.It_AnalyticSIS_C(y)\n",
    "Fw_std = freq_domain_c.Fw_FFT_C(It_std)\n",
    "\n",
    "It_high = time_domain_c.It_AnalyticSIS_C(y, {'sampling':'oversampling'})\n",
    "Fw_high = freq_domain_c.Fw_FFT_C(It_high, p_prec={'N_above_discard':8})\n",
    "\n",
    "Fw_exact = freq_domain_c.Fw_SemiAnalyticSIS_C(y)\n",
    "\n",
    "Fws_std  = Fw_std.Fw_grid\n",
    "Fws_high = Fw_high.Fw_grid\n",
    "Fws_std_exact  = Fw_exact.eval_Fw(Fw_std.w_grid)\n",
    "Fws_high_exact = Fw_exact.eval_Fw(Fw_high.w_grid)\n",
    "\n",
    "fig, ax = plt.subplots()\n",
    "ax.plot(Fw_std.w_grid, np.abs(Fws_std-Fws_std_exact)/np.abs(Fws_std_exact), label='std prec')\n",
    "ax.plot(Fw_high.w_grid, np.abs(Fws_high-Fws_high_exact)/np.abs(Fws_high_exact), label='high prec')\n",
    "ax.legend()\n",
    "ax.set_xscale('log')\n",
    "ax.set_yscale('log')\n",
    "ax.set_title('y=%g' % y)\n",
    "ax.set_xlabel('$w$')\n",
    "ax.set_ylabel('$|F-F_{exact}|/|F_{exact}|$')\n",
    "ax.grid()"
   ]
  },
  {
   "cell_type": "markdown",
   "metadata": {
    "ExecuteTime": {
     "end_time": "2023-04-08T20:54:46.525322Z",
     "start_time": "2023-04-08T20:54:46.499076Z"
    },
    "hidden": true
   },
   "source": [
    "Strong-lensing precision"
   ]
  },
  {
   "cell_type": "code",
   "execution_count": null,
   "metadata": {},
   "outputs": [],
   "source": [
    "y = 0.3\n",
    "\n",
    "It_std = time_domain_c.It_AnalyticSIS_C(y)\n",
    "Fw_std = freq_domain_c.Fw_FFT_C(It_std)\n",
    "\n",
    "It_high = time_domain_c.It_AnalyticSIS_C(y, {'sampling':'oversampling'})\n",
    "Fw_high = freq_domain_c.Fw_FFT_C(It_high, p_prec={'N_above_discard':8})\n",
    "\n",
    "Fw_exact = freq_domain_c.Fw_SemiAnalyticSIS_C(y)\n",
    "\n",
    "Fws_std  = Fw_std.Fw_grid\n",
    "Fws_high = Fw_high.Fw_grid\n",
    "Fws_std_exact  = Fw_exact.eval_Fw(Fw_std.w_grid)\n",
    "Fws_high_exact = Fw_exact.eval_Fw(Fw_high.w_grid)\n",
    "\n",
    "fig, ax = plt.subplots()\n",
    "ax.plot(Fw_std.w_grid, np.abs(Fws_std-Fws_std_exact)/np.abs(Fws_std_exact), label='std prec')\n",
    "ax.plot(Fw_high.w_grid, np.abs(Fws_high-Fws_high_exact)/np.abs(Fws_high_exact), label='high prec')\n",
    "ax.legend()\n",
    "ax.set_xscale('log')\n",
    "ax.set_yscale('log')\n",
    "ax.set_title('y=%g' % y)\n",
    "ax.set_xlabel('$w$')\n",
    "ax.set_ylabel('$|F-F_{exact}|/|F_{exact}|$')\n",
    "ax.grid()"
   ]
  },
  {
   "cell_type": "code",
   "execution_count": null,
   "metadata": {},
   "outputs": [],
   "source": []
  }
 ],
 "metadata": {
  "language_info": {
   "name": "python"
  }
 },
 "nbformat": 4,
 "nbformat_minor": 4
}
