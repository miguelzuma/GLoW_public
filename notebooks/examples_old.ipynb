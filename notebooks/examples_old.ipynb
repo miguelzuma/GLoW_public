{
 "cells": [
  {
   "cell_type": "code",
   "execution_count": null,
   "metadata": {},
   "outputs": [],
   "source": [
    "import numpy as np\n",
    "import matplotlib\n",
    "import matplotlib.pyplot as plt\n",
    "\n",
    "from glow import lenses, time_domain_c, freq_domain_c"
   ]
  },
  {
   "cell_type": "markdown",
   "metadata": {
    "heading_collapsed": true,
    "jp-MarkdownHeadingCollapsed": true
   },
   "source": [
    "# Overview"
   ]
  },
  {
   "cell_type": "markdown",
   "metadata": {
    "hidden": true
   },
   "source": [
    "The core of this module is written in C, it can be used in three ways:\n",
    "  - Directly from C: the syntax, types of 'objects' etc. are similar to the Python version. There are examples in wrapper/glow_lib/tests (not proper examples, since these are just auxiliary test files) \n",
    "  - Directly from Python: the wrapper can be used independently from any other of our Python modules. However it is not fully functional since even though most of the algorithms are C based, they are still interfaced through Python.\n",
    "  - **(Preferred)** Through `time_domain_c.py` and `freq_domain_c.py`: the new objects included here can be used in the same way as the ones in `time_domain.py` and `freq_domain.py`, i.e. they can be interfaced with `lenses.py`. **However** keep in mind that a change in the lenses will either not have any effect or (hopefully) the code will break down. The implementation of the lenses in C and Python are independent and the wrapper only translates the physical parameters from Python to C.\n",
    " \n",
    "Finally, the two sets (`time_domain.py`, `freq_domain.py`) and (`time_domain_c.py`, `freq_domain_c.py`) are totally independent of each other. The first one is written in full Python, while the second one relies on compiled code (C and Cython). The latter should always be preferred. "
   ]
  },
  {
   "cell_type": "markdown",
   "metadata": {
    "heading_collapsed": true,
    "jp-MarkdownHeadingCollapsed": true
   },
   "source": [
    "# Time domain"
   ]
  },
  {
   "cell_type": "markdown",
   "metadata": {
    "heading_collapsed": true,
    "hidden": true,
    "jp-MarkdownHeadingCollapsed": true
   },
   "source": [
    "## Single contour"
   ]
  },
  {
   "cell_type": "markdown",
   "metadata": {
    "hidden": true
   },
   "source": [
    "This object performs the exact computation of $I(\\tau)$ for an arbitrary lens assuming that there is only one critical point in the Fermat potential (i.e. the minimum). The algorithm tries to find the first two critical points starting from the origin and infinity, and will not proceed if they do not coincide."
   ]
  },
  {
   "cell_type": "markdown",
   "metadata": {
    "hidden": true
   },
   "source": [
    "We first choose a lens and then define the physical and precision parameters"
   ]
  },
  {
   "cell_type": "code",
   "execution_count": null,
   "metadata": {},
   "outputs": [],
   "source": [
    "Psi = lenses.Psi_CIS()\n",
    "\n",
    "y = 1.4\n",
    "p_prec = {'tmin' : 1e-3,\n",
    "          'tmax' : 100,\n",
    "          'Nt' : 5000}\n",
    "\n",
    "It = time_domain_c.It_SingleContour_C(Psi, y, p_prec)"
   ]
  },
  {
   "cell_type": "markdown",
   "metadata": {
    "hidden": true
   },
   "source": [
    "We can either access its grid points (`It.t_grid`, `It.It_grid`) or use its interpolation function"
   ]
  },
  {
   "cell_type": "code",
   "execution_count": null,
   "metadata": {},
   "outputs": [],
   "source": [
    "taus = np.geomspace(1e-1, 10, 10000)\n",
    "\n",
    "fig, ax = plt.subplots()\n",
    "\n",
    "ax.plot(taus, It(taus)/2/np.pi, label=It.lens.p_phys['name'])\n",
    "\n",
    "ax.set_xlabel(r'$\\tau$')\n",
    "ax.set_ylabel(r'$I(\\tau)/2\\pi$')\n",
    "ax.set_xscale('log')\n",
    "ax.legend(loc='best');"
   ]
  },
  {
   "cell_type": "markdown",
   "metadata": {
    "hidden": true
   },
   "source": [
    "There are two important additional options for this object. The first one is the computation in parallel over `numpy` arrays. It is switch on by default (`parallel = True`), but it can be changed if needed."
   ]
  },
  {
   "cell_type": "code",
   "execution_count": null,
   "metadata": {},
   "outputs": [],
   "source": [
    "It.display_info()"
   ]
  },
  {
   "cell_type": "markdown",
   "metadata": {
    "hidden": true
   },
   "source": [
    "The second option is the `eval_mode = exact` (by default `eval_mode = interpolate`, which is the behaviour of the python module). In this case the grid is not computed and `eval_It` computes the integral at any point requested without using interpolation"
   ]
  },
  {
   "cell_type": "code",
   "execution_count": null,
   "metadata": {},
   "outputs": [],
   "source": [
    "Psi = lenses.Psi_CIS()\n",
    "\n",
    "y = 1.4\n",
    "p_prec = {'eval_mode' : 'exact'}\n",
    "\n",
    "It = time_domain_c.It_SingleContour_C(Psi, y, p_prec)\n",
    "\n",
    "## ---------------------------------------------------\n",
    "\n",
    "taus = np.geomspace(1e-1, 10, 10000)\n",
    "Its = It(taus)/2/np.pi\n",
    "\n",
    "fig, ax = plt.subplots()\n",
    "\n",
    "ax.plot(taus, Its, label=It.lens.p_phys['name'])\n",
    "\n",
    "ax.set_xlabel(r'$\\tau$')\n",
    "ax.set_ylabel(r'$I(\\tau)/2\\pi$')\n",
    "ax.set_xscale('log')\n",
    "ax.legend(loc='best');"
   ]
  },
  {
   "cell_type": "markdown",
   "metadata": {},
   "source": [
    "We can also compute the Green function $G(\\tau)$"
   ]
  },
  {
   "cell_type": "code",
   "execution_count": null,
   "metadata": {},
   "outputs": [],
   "source": [
    "Psi = lenses.Psi_CIS()\n",
    "\n",
    "y = 1.4\n",
    "p_prec = {'eval_mode' : 'exact'}\n",
    "\n",
    "It = time_domain_c.It_SingleContour_C(Psi, y, p_prec)\n",
    "\n",
    "## ---------------------------------------------------\n",
    "\n",
    "taus = np.geomspace(1e-1, 10, 1000)\n",
    "Gts = It.eval_Gt(taus, dt=1e-3)  # default value dt=1e-4\n",
    "\n",
    "fig, ax = plt.subplots()\n",
    "\n",
    "ax.plot(taus, Gts, label=It.lens.p_phys['name'])\n",
    "\n",
    "ax.set_xlabel(r'$\\tau$')\n",
    "ax.set_ylabel(r'$G(\\tau)=dI(\\tau)/d\\tau/2\\pi$')\n",
    "ax.set_xscale('log')\n",
    "ax.legend(loc='best');"
   ]
  },
  {
   "cell_type": "markdown",
   "metadata": {
    "heading_collapsed": true,
    "hidden": true,
    "jp-MarkdownHeadingCollapsed": true
   },
   "source": [
    "## Analytic SIS"
   ]
  },
  {
   "cell_type": "markdown",
   "metadata": {
    "hidden": true
   },
   "source": [
    "Implementation of the analytic formula for the SIS."
   ]
  },
  {
   "cell_type": "code",
   "execution_count": null,
   "metadata": {},
   "outputs": [],
   "source": [
    "y = 0.3\n",
    "p_prec = {'eval_mode' : 'exact'}\n",
    "\n",
    "It_SIS = time_domain_c.It_AnalyticSIS_C(y, p_prec)\n",
    "\n",
    "## -----------------------------------------------\n",
    "\n",
    "taus = np.geomspace(1e-1, 10, 10000)\n",
    "Its = It_SIS.eval_It(taus)/2/np.pi\n",
    "\n",
    "fig, ax = plt.subplots()\n",
    "\n",
    "ax.plot(taus, Its, label='SIS')\n",
    "\n",
    "ax.set_xlabel(r'$\\tau$')\n",
    "ax.set_ylabel(r'$I(\\tau)/2\\pi$')\n",
    "ax.set_xscale('log')\n",
    "ax.legend(loc='best');"
   ]
  },
  {
   "cell_type": "markdown",
   "metadata": {},
   "source": [
    "And the Green function is"
   ]
  },
  {
   "cell_type": "code",
   "execution_count": null,
   "metadata": {},
   "outputs": [],
   "source": [
    "y = 0.3\n",
    "p_prec = {'eval_mode' : 'exact'}\n",
    "\n",
    "It_SIS = time_domain_c.It_AnalyticSIS_C(y, p_prec)\n",
    "\n",
    "## -----------------------------------------------\n",
    "\n",
    "taus = np.geomspace(1e-1, 10, 10000)\n",
    "Gts = It_SIS.eval_Gt(taus)\n",
    "\n",
    "fig, ax = plt.subplots()\n",
    "\n",
    "ax.plot(taus, Gts, label='SIS')\n",
    "\n",
    "ax.set_xlabel(r'$\\tau$')\n",
    "ax.set_ylabel(r'$G(\\tau)=dI(\\tau)/d\\tau/2\\pi$')\n",
    "ax.set_xscale('log')\n",
    "ax.set_ylim([-15, 15])\n",
    "ax.axhline(y=0, c='grey', alpha=0.5)\n",
    "ax.legend(loc='best');"
   ]
  },
  {
   "cell_type": "markdown",
   "metadata": {
    "heading_collapsed": true,
    "hidden": true,
    "jp-MarkdownHeadingCollapsed": true
   },
   "source": [
    "## Single integral"
   ]
  },
  {
   "cell_type": "markdown",
   "metadata": {
    "hidden": true
   },
   "source": [
    "Strong lensing examples for the CIS and NFW:"
   ]
  },
  {
   "cell_type": "code",
   "execution_count": null,
   "metadata": {},
   "outputs": [],
   "source": [
    "Psi = lenses.Psi_CIS()\n",
    "\n",
    "y = 0.3\n",
    "p_prec = {'eval_mode':'exact'}\n",
    "\n",
    "It = time_domain_c.It_SingleIntegral_C(Psi, y, p_prec)\n",
    "\n",
    "## ---------------------------------------------------------\n",
    "\n",
    "taus = np.geomspace(1e-1, 10, 1000)\n",
    "\n",
    "fig, ax = plt.subplots()\n",
    "\n",
    "ax.plot(taus, It.eval_It(taus)/2/np.pi, label=It.lens.p_phys['name'])\n",
    "\n",
    "ax.set_xlabel(r'$\\tau$')\n",
    "ax.set_ylabel(r'$I(\\tau)/2\\pi$')\n",
    "ax.set_xscale('log')\n",
    "ax.legend(loc='best');"
   ]
  },
  {
   "cell_type": "markdown",
   "metadata": {
    "hidden": true
   },
   "source": [
    "The step function is built-in in the exact mode:"
   ]
  },
  {
   "cell_type": "code",
   "execution_count": null,
   "metadata": {},
   "outputs": [],
   "source": [
    "Psi = lenses.Psi_NFW({'xs':0.1})\n",
    "\n",
    "y = 0.3\n",
    "p_prec = {'eval_mode':'exact'}\n",
    "\n",
    "It = time_domain_c.It_SingleIntegral_C(Psi, y, p_prec)\n",
    "\n",
    "## ---------------------------------------------------------\n",
    "\n",
    "taus = np.linspace(-0.1, 2, 1000)\n",
    "\n",
    "fig, ax = plt.subplots()\n",
    "\n",
    "ax.plot(taus, It.eval_It(taus)/2/np.pi, label=It.lens.p_phys['name'])\n",
    "\n",
    "ax.set_xlabel(r'$\\tau$')\n",
    "ax.set_ylabel(r'$I(\\tau)/2\\pi$')\n",
    "ax.legend(loc='best');"
   ]
  },
  {
   "cell_type": "markdown",
   "metadata": {
    "heading_collapsed": true,
    "hidden": true,
    "jp-MarkdownHeadingCollapsed": true
   },
   "source": [
    "## Area integral"
   ]
  },
  {
   "cell_type": "markdown",
   "metadata": {
    "hidden": true
   },
   "source": [
    "This method is slow and noisy compared with the others, and its current implementation is very simple. However, it has been included to cross-check the results of the other methods, since it works equally bad for all lenses. "
   ]
  },
  {
   "cell_type": "code",
   "execution_count": null,
   "metadata": {},
   "outputs": [],
   "source": [
    "Psi = lenses.Psi_CIS({'rc':0.1})\n",
    "\n",
    "y = 0.2\n",
    "p_prec = {'n_rho' : 20000,\\\n",
    "          'tmax' : 3,\\\n",
    "          'Nt' : 500}\n",
    "\n",
    "It = time_domain_c.It_AreaIntegral_C(Psi, y, p_prec)"
   ]
  },
  {
   "cell_type": "code",
   "execution_count": null,
   "metadata": {},
   "outputs": [],
   "source": [
    "It.display_info()"
   ]
  },
  {
   "cell_type": "code",
   "execution_count": null,
   "metadata": {},
   "outputs": [],
   "source": [
    "fig, ax = plt.subplots()\n",
    "\n",
    "ax.plot(It.t_grid, It.It_grid/2/np.pi, label=It.lens.p_phys['name'])\n",
    "\n",
    "ax.set_xlabel(r'$\\tau$')\n",
    "ax.set_ylabel(r'$I(\\tau)/2\\pi$')\n",
    "ax.legend(loc='best');"
   ]
  },
  {
   "cell_type": "markdown",
   "metadata": {
    "heading_collapsed": true,
    "hidden": true,
    "jp-MarkdownHeadingCollapsed": true
   },
   "source": [
    "## Numerical lenses"
   ]
  },
  {
   "cell_type": "markdown",
   "metadata": {
    "hidden": true
   },
   "source": [
    "When the lens is not implemented in C, the code will try to precompute it in a grid, using the Python version, and then read it in C. There is a performance overhead, that can be mitigated reducing the size of the grid, but this feature will (hopefully) increase the flexibility of the code."
   ]
  },
  {
   "cell_type": "code",
   "execution_count": null,
   "metadata": {},
   "outputs": [],
   "source": [
    "Psi = lenses.Psi_SIS()\n",
    "Psi.p_phys['name'] = 'new SIS'\n",
    "\n",
    "y = 1.4\n",
    "p_prec = {'eval_mode' : 'interpolate'}\n",
    "It = time_domain_c.It_SingleContour_C(Psi, y, p_prec)"
   ]
  },
  {
   "cell_type": "markdown",
   "metadata": {
    "hidden": true
   },
   "source": [
    "For now, only axisymmetric lenses are allowed."
   ]
  },
  {
   "cell_type": "markdown",
   "metadata": {
    "jp-MarkdownHeadingCollapsed": true
   },
   "source": [
    "## Getting contours"
   ]
  },
  {
   "cell_type": "markdown",
   "metadata": {},
   "source": [
    "The `SingleContour`, `SingleIntegral` and `MultiContour` classes contain a method to output the contours of constant time delay."
   ]
  },
  {
   "cell_type": "code",
   "execution_count": null,
   "metadata": {},
   "outputs": [],
   "source": [
    "# auxiliary function to map times to colors\n",
    "def color_scheme(ts, cmap='rainbow', log_norm=False):\n",
    "        if log_norm is True:\n",
    "            log_tmin = np.log10(ts[0])\n",
    "            log_tmax = np.log10(ts[-1])\n",
    "            normalization = (np.log10(ts) - log_tmin)/(log_tmax - log_tmin)\n",
    "        else:\n",
    "            normalization = (ts - ts[0])/(ts[-1] - ts[0])\n",
    "\n",
    "        cm = plt.colormaps.get_cmap(cmap)\n",
    "        colors = cm(normalization)\n",
    "    \n",
    "        return colors"
   ]
  },
  {
   "cell_type": "markdown",
   "metadata": {
    "jp-MarkdownHeadingCollapsed": true
   },
   "source": [
    "### Single contour"
   ]
  },
  {
   "cell_type": "markdown",
   "metadata": {},
   "source": [
    "We can obtain an array of contours for a given array of $\\tau$ values. We must also specify the number of points in the contour. Each point is obtained integrating the differential equation (not interpolating)."
   ]
  },
  {
   "cell_type": "code",
   "execution_count": null,
   "metadata": {},
   "outputs": [],
   "source": [
    "y = 1.05\n",
    "Psi = lenses.Psi_SIS()\n",
    "It_std = time_domain_c.It_SingleContour_C(Psi, y, {'method':'standard', 'eval_mode':'exact'})\n",
    "        \n",
    "n_points = 100\n",
    "n_contours = 30\n",
    "ts = np.geomspace(1e-3, 10, n_contours)\n",
    "cnts_std = It_std.get_contour(ts, n_points=n_points)\n",
    "\n",
    "## ------------------------------------------------------------\n",
    "\n",
    "fig, ax = plt.subplots()\n",
    "for cnt, color in zip(cnts_std, color_scheme(ts)):\n",
    "    ax.plot(cnt['x1'], cnt['x2'], c=color)\n",
    "\n",
    "ax.set_aspect('equal')\n",
    "ax.set_title('%s $(y=%g)$' % (Psi.p_phys['name'], It_std.y))\n",
    "ax.set_xlabel('$x_1$')\n",
    "ax.set_ylabel('$x_2$');"
   ]
  },
  {
   "cell_type": "markdown",
   "metadata": {},
   "source": [
    "If the number of points is not specified (or set to be smaller than 1), then the contour contains the accepted points in the computation of $I(\\tau)$. This information is useful for debugging. In this method, we can also obtain the contours in terms of $(R, \\alpha)$, i.e. the polar coordinates actually used in the integration. Below we also compare with the 'robust' method, where the contours are computed as a parametric representation $R(\\sigma)$ and $\\alpha(\\sigma)$ (the variable $\\sigma$ is also stored in the contour dictionary)."
   ]
  },
  {
   "cell_type": "code",
   "execution_count": null,
   "metadata": {},
   "outputs": [],
   "source": [
    "y = 1.05\n",
    "Psi = lenses.Psi_SIS()\n",
    "It_std = time_domain_c.It_SingleContour_C(Psi, y, {'method':'standard', 'eval_mode':'exact'})\n",
    "It_rob = time_domain_c.It_SingleContour_C(Psi, y, {'method':'robust', 'eval_mode':'exact'})\n",
    "\n",
    "n_contours = 30\n",
    "ts = np.geomspace(1e-3, 10, n_contours)\n",
    "cnts_std = It_std.get_contour(ts)\n",
    "cnts_rob = It_rob.get_contour(ts)\n",
    "\n",
    "## -----------------------------------------------------\n",
    "\n",
    "fig, (ax, ax2) = plt.subplots(ncols=2, figsize=(8, 4), gridspec_kw={'wspace':0.3})\n",
    "for cnt1, cnt2, color in zip(cnts_std, cnts_rob, color_scheme(ts)):\n",
    "    ax.plot(cnt1['x1'], cnt1['x2'], c=color)\n",
    "    ax.plot(cnt2['x1'], cnt2['x2'], c=color, ls='--')\n",
    "\n",
    "    ax2.plot(cnt1['alpha']/np.pi/2., cnt1['R'], c=color)\n",
    "    ax2.plot(cnt2['alpha']/np.pi/2., cnt2['R'], c=color, ls='--')\n",
    "    \n",
    "ax.set_aspect('equal')\n",
    "ax.set_title('%s $(y=%g)$' % (Psi.p_phys['name'], It_std.y))\n",
    "ax.set_xlabel('$x_1$')\n",
    "ax.set_ylabel('$x_2$')\n",
    "\n",
    "ax2.set_box_aspect(1)\n",
    "ax2.set_title('%s $(y=%g)$' % (Psi.p_phys['name'], It_std.y))\n",
    "ax2.set_xlabel('$\\\\alpha/2\\\\pi$')\n",
    "ax2.set_ylabel('$R$');"
   ]
  },
  {
   "cell_type": "markdown",
   "metadata": {
    "jp-MarkdownHeadingCollapsed": true
   },
   "source": [
    "### Single integral"
   ]
  },
  {
   "cell_type": "markdown",
   "metadata": {},
   "source": [
    "Even though in this algorithm the contours are irrelevant, they can also be computed. For debugging purposes, the relevant quantities in this method are the minimum an maximum values of $x_1$ at $x_2=0$ for a given contour. These set the upper and lower limits for the radial integral."
   ]
  },
  {
   "cell_type": "code",
   "execution_count": null,
   "metadata": {},
   "outputs": [],
   "source": [
    "y = 0.1\n",
    "Psi = lenses.Psi_PointLens()\n",
    "It_int = time_domain_c.It_SingleIntegral_C(Psi, y, {'eval_mode':'exact'})\n",
    "\n",
    "n_points = 1000\n",
    "n_contours = 30\n",
    "ts = np.geomspace(1e-3, 1, n_contours)\n",
    "cnts_int = It_int.get_contour(ts, n_points=n_points)\n",
    "\n",
    "## ------------------------------------------------------------\n",
    "\n",
    "fig, ax = plt.subplots()\n",
    "for cnt, color in zip(cnts_int, color_scheme(ts)):\n",
    "    for x1, x2 in zip(cnt['x1'], cnt['x2']):\n",
    "        ax.plot(x1, x2, c=color)\n",
    "\n",
    "ax.set_aspect('equal')\n",
    "ax.set_title('%s $(y=%g)$' % (Psi.p_phys['name'], It_int.y))\n",
    "ax.set_xlabel('$x_1$')\n",
    "ax.set_ylabel('$x_2$');"
   ]
  },
  {
   "cell_type": "code",
   "execution_count": null,
   "metadata": {},
   "outputs": [],
   "source": [
    "y = 0.1\n",
    "Psi = lenses.Psi_SIS()\n",
    "It_int = time_domain_c.It_SingleIntegral_C(Psi, y, {'eval_mode':'exact'})\n",
    "\n",
    "n_points = 1000\n",
    "n_contours = 30\n",
    "ts = np.geomspace(1e-3, 1, n_contours)\n",
    "cnts_int = It_int.get_contour(ts, n_points=n_points)\n",
    "\n",
    "## ------------------------------------------------------------\n",
    "\n",
    "fig, ax = plt.subplots()\n",
    "for cnt, color in zip(cnts_int, color_scheme(ts)):\n",
    "    for x1, x2 in zip(cnt['x1'], cnt['x2']):\n",
    "        ax.plot(x1, x2, c=color)\n",
    "\n",
    "ax.set_aspect('equal')\n",
    "ax.set_title('%s $(y=%g)$' % (Psi.p_phys['name'], It_int.y))\n",
    "ax.set_xlabel('$x_1$')\n",
    "ax.set_ylabel('$x_2$');"
   ]
  },
  {
   "cell_type": "markdown",
   "metadata": {
    "jp-MarkdownHeadingCollapsed": true
   },
   "source": [
    "### Multicontour"
   ]
  },
  {
   "cell_type": "code",
   "execution_count": null,
   "metadata": {},
   "outputs": [],
   "source": [
    "def benchmark_lens():\n",
    "    # benchmark lens for 2d SL    \n",
    "    xs = [[0.3, 0], [-0.6, 0.3], [0.3, -0.3], [0, 0]]\n",
    "    psi0 = 1./len(xs)\n",
    "    rc = 0.05\n",
    "    Psis = [lenses.Psi_offcenterCIS({'psi0':psi0, 'rc':rc, 'xc1':x[0], 'xc2':x[1]}) for x in xs]\n",
    "    Psi = lenses.CombinedLens({'lenses':Psis})\n",
    "    return Psi\n",
    "\n",
    "## ------------------------------------------------------------\n",
    "\n",
    "y = 0.05\n",
    "Psi = benchmark_lens()\n",
    "It = time_domain_c.It_MultiContour_C(Psi, y, {'eval_mode':'exact'})\n",
    "\n",
    "n_points = 2000\n",
    "n_contours = 60\n",
    "ts = np.linspace(1e-2, 0.15, n_contours)\n",
    "cnts = It.get_contour(ts, n_points=n_points)\n",
    "\n",
    "## ------------------------------------------------------------\n",
    "\n",
    "fig, ax = plt.subplots()\n",
    "for cnt, color in zip(cnts, color_scheme(ts)):\n",
    "    for x1, x2 in zip(cnt['x1'], cnt['x2']):\n",
    "        ax.plot(x1, x2, c=color)\n",
    "\n",
    "ax.set_aspect('equal')\n",
    "ax.set_title('%s $(y=%g)$' % (Psi.p_phys['name'], It.y))\n",
    "ax.set_xlabel('$x_1$')\n",
    "ax.set_ylabel('$x_2$');"
   ]
  },
  {
   "cell_type": "markdown",
   "metadata": {
    "heading_collapsed": true,
    "jp-MarkdownHeadingCollapsed": true
   },
   "source": [
    "# Frequency domain"
   ]
  },
  {
   "cell_type": "markdown",
   "metadata": {
    "heading_collapsed": true,
    "hidden": true,
    "jp-MarkdownHeadingCollapsed": true
   },
   "source": [
    "## General purpose F(w)"
   ]
  },
  {
   "cell_type": "markdown",
   "metadata": {
    "hidden": true
   },
   "source": [
    "The new object for the computation of the amplification factor `Fw_FFT_C` is a general purpose algorithm. It uses the new regularization scheme, trying to improve the precision (and speed) of the computation when information about the asymptotic behaviour of the lens is available. At the moment it can handle power-law tails, but not yet logarithmic tails (even though it is not coded, one can still improve the behaviour with log tails introducing a power-law tail that is \"close\")"
   ]
  },
  {
   "cell_type": "markdown",
   "metadata": {
    "hidden": true
   },
   "source": [
    "The algorithm first computes the Fourier transform of the regularized $I(\\tau)$ and then add to it the analytic FT of the singular contribution. It is always a good idea to plot `Fw_reg` separately from `Fw`, since this is the one that is actually computed numerically."
   ]
  },
  {
   "cell_type": "code",
   "execution_count": null,
   "metadata": {},
   "outputs": [],
   "source": [
    "y = 1.3\n",
    "It = time_domain_c.It_AnalyticSIS_C(y)\n",
    "Fw = freq_domain_c.Fw_FFT_C(It)\n",
    "\n",
    "## ----------------------------------------\n",
    "\n",
    "ws = Fw.w_grid\n",
    "\n",
    "fig, ax = plt.subplots()\n",
    "ax.plot(ws, np.abs(Fw.eval_Fw(ws)), label='full = sing + reg', alpha=0.5)\n",
    "ax.plot(ws, np.abs(Fw.eval_Fw_sing(ws)), label='sing')\n",
    "ax.plot(ws, np.abs(Fw.eval_Fw_reg(ws)), label='reg')\n",
    "ax.set_xscale('log')\n",
    "ax.set_xlabel('$w$')\n",
    "ax.set_ylabel('$|F(w)|$')\n",
    "ax.legend()\n",
    "ax.set_title(\"y=%g\" % y)\n",
    "ax.grid()"
   ]
  },
  {
   "cell_type": "code",
   "execution_count": null,
   "metadata": {},
   "outputs": [],
   "source": [
    "y = 0.3\n",
    "It = time_domain_c.It_AnalyticSIS_C(y)\n",
    "Fw = freq_domain_c.Fw_FFT_C(It)\n",
    "\n",
    "## ----------------------------------------\n",
    "\n",
    "ws = Fw.w_grid\n",
    "\n",
    "fig, ax = plt.subplots()\n",
    "ax.plot(ws, np.abs(Fw.eval_Fw(ws)), label='full = sing + reg', alpha=0.5)\n",
    "ax.plot(ws, np.abs(Fw.eval_Fw_sing(ws)), label='sing')\n",
    "ax.plot(ws, np.abs(Fw.eval_Fw_reg(ws)), label='reg')\n",
    "ax.set_xscale('log')\n",
    "ax.set_xlabel('$w$')\n",
    "ax.set_ylabel('$|F(w)|$')\n",
    "ax.set_title(\"y=%g\" % y)\n",
    "ax.legend()\n",
    "ax.grid()"
   ]
  },
  {
   "cell_type": "markdown",
   "metadata": {
    "hidden": true
   },
   "source": [
    "It is also advisable to plot the regularized version of $I(\\tau)$, in order to see what is the object actually dealing with. "
   ]
  },
  {
   "cell_type": "code",
   "execution_count": null,
   "metadata": {},
   "outputs": [],
   "source": [
    "y = 0.3\n",
    "It = time_domain_c.It_AnalyticSIS_C(y)\n",
    "Fw = freq_domain_c.Fw_FFT_C(It)\n",
    "\n",
    "## ----------------------------------------\n",
    "\n",
    "ts = np.geomspace(1e-1, 1e2, 1000)\n",
    "\n",
    "fig, ax = plt.subplots()\n",
    "ax.plot(ts, Fw.It.eval_It(ts), label='full = sing + reg', alpha=0.5)\n",
    "ax.plot(ts, Fw.eval_It_sing(ts), label='sing')\n",
    "ax.plot(ts, Fw.eval_It_reg(ts), label='reg')\n",
    "ax.set_xscale('log')\n",
    "ax.set_xlabel(r'$\\tau$')\n",
    "ax.set_ylabel(r'$I(\\tau)$')\n",
    "ax.set_title(\"y=%g\" % y)\n",
    "ax.legend()\n",
    "ax.grid()"
   ]
  },
  {
   "cell_type": "markdown",
   "metadata": {
    "heading_collapsed": true,
    "hidden": true,
    "jp-MarkdownHeadingCollapsed": true
   },
   "source": [
    "## Semi-analytic SIS"
   ]
  },
  {
   "cell_type": "markdown",
   "metadata": {
    "hidden": true
   },
   "source": [
    "This is the semi-analytic computation of the amplification factor for the SIS. The implementation is very fast in the SL regime and a bit slower in the WL regime."
   ]
  },
  {
   "cell_type": "code",
   "execution_count": null,
   "metadata": {},
   "outputs": [],
   "source": [
    "y = 1.3\n",
    "Fw = freq_domain_c.Fw_SemiAnalyticSIS_C(y)\n",
    "\n",
    "## ----------------------------------------\n",
    "\n",
    "ws = np.geomspace(1e-2, 1e2, 1000)\n",
    "\n",
    "fig, ax = plt.subplots()\n",
    "ax.plot(ws, np.abs(Fw.eval_Fw(ws)), label='full = sing + reg', alpha=0.5)\n",
    "ax.plot(ws, np.abs(Fw.eval_Fw_sing(ws)), label='sing')\n",
    "ax.plot(ws, np.abs(Fw.eval_Fw_reg(ws)), label='reg')\n",
    "ax.set_xscale('log')\n",
    "ax.set_xlabel('$w$')\n",
    "ax.set_ylabel('$|F(w)|$')\n",
    "ax.legend()\n",
    "ax.set_title(\"y=%g\" % y)\n",
    "ax.grid()"
   ]
  },
  {
   "cell_type": "code",
   "execution_count": null,
   "metadata": {},
   "outputs": [],
   "source": [
    "y = 0.3\n",
    "Fw = freq_domain_c.Fw_SemiAnalyticSIS_C(y)\n",
    "\n",
    "## ----------------------------------------\n",
    "\n",
    "ws = np.geomspace(1e-2, 1e2, 1000)\n",
    "\n",
    "fig, ax = plt.subplots()\n",
    "ax.plot(ws, np.abs(Fw.eval_Fw(ws)), label='full = sing + reg', alpha=0.5)\n",
    "ax.plot(ws, np.abs(Fw.eval_Fw_sing(ws)), label='sing')\n",
    "ax.plot(ws, np.abs(Fw.eval_Fw_reg(ws)), label='reg')\n",
    "ax.set_xscale('log')\n",
    "ax.set_xlabel('$w$')\n",
    "ax.set_ylabel('$|F(w)|$')\n",
    "ax.set_title(\"y=%g\" % y)\n",
    "ax.legend()\n",
    "ax.grid()"
   ]
  },
  {
   "cell_type": "code",
   "execution_count": null,
   "metadata": {},
   "outputs": [],
   "source": [
    "y = 0.3\n",
    "Fw = freq_domain_c.Fw_SemiAnalyticSIS_C(y)\n",
    "\n",
    "## ----------------------------------------\n",
    "\n",
    "ts = np.geomspace(1e-1, 1e2, 1000)\n",
    "\n",
    "fig, ax = plt.subplots()\n",
    "ax.plot(ts, Fw.It.eval_It(ts), label='full = sing + reg', alpha=0.5)\n",
    "ax.plot(ts, Fw.eval_It_sing(ts), label='sing')\n",
    "ax.plot(ts, Fw.eval_It_reg(ts), label='reg')\n",
    "ax.set_xscale('log')\n",
    "ax.set_xlabel(r'$\\tau$')\n",
    "ax.set_ylabel(r'$I(\\tau)$')\n",
    "ax.set_title(\"y=%g\" % y)\n",
    "ax.legend()\n",
    "ax.grid()"
   ]
  },
  {
   "cell_type": "markdown",
   "metadata": {
    "heading_collapsed": true,
    "jp-MarkdownHeadingCollapsed": true
   },
   "source": [
    "# Miscellanea"
   ]
  },
  {
   "cell_type": "markdown",
   "metadata": {
    "heading_collapsed": true,
    "hidden": true,
    "jp-MarkdownHeadingCollapsed": true
   },
   "source": [
    "## Internal information and debugging"
   ]
  },
  {
   "cell_type": "markdown",
   "metadata": {
    "hidden": true
   },
   "source": [
    "All the objects defined in the Python modules share a common structure. They only take as parameters either another object, a `p_phys` or a `p_prec` dictionary. This make it easy to display the internal information of each object. All of them ship with a `display_info()` method, that is also a good remainder of the allowed input parameters."
   ]
  },
  {
   "cell_type": "code",
   "execution_count": null,
   "metadata": {},
   "outputs": [],
   "source": [
    "Psi = lenses.Psi_SIS()\n",
    "Psi.display_info()"
   ]
  },
  {
   "cell_type": "code",
   "execution_count": null,
   "metadata": {},
   "outputs": [],
   "source": [
    "It = time_domain_c.It_SingleContour_C(Psi, y=1.2)\n",
    "It.display_info()"
   ]
  },
  {
   "cell_type": "code",
   "execution_count": null,
   "metadata": {},
   "outputs": [],
   "source": [
    "Fw = freq_domain_c.Fw_FFT_C(It)\n",
    "Fw.display_info()"
   ]
  },
  {
   "cell_type": "markdown",
   "metadata": {
    "hidden": true
   },
   "source": [
    "The time-domain integral can also show the information about the images found"
   ]
  },
  {
   "cell_type": "code",
   "execution_count": null,
   "metadata": {},
   "outputs": [],
   "source": [
    "It = time_domain_c.It_SingleContour_C(Psi, y=1.2)\n",
    "It.display_images()"
   ]
  },
  {
   "cell_type": "code",
   "execution_count": null,
   "metadata": {},
   "outputs": [],
   "source": [
    "It = time_domain_c.It_SingleIntegral_C(Psi, y=0.2)\n",
    "It.display_images()"
   ]
  },
  {
   "cell_type": "markdown",
   "metadata": {
    "hidden": true
   },
   "source": [
    "Another feature, especially useful for debugging, is the ability to print the tree of calls needed to replicate a given object:"
   ]
  },
  {
   "cell_type": "code",
   "execution_count": null,
   "metadata": {},
   "outputs": [],
   "source": [
    "print(Psi)"
   ]
  },
  {
   "cell_type": "code",
   "execution_count": null,
   "metadata": {},
   "outputs": [],
   "source": [
    "print(It)"
   ]
  },
  {
   "cell_type": "code",
   "execution_count": null,
   "metadata": {},
   "outputs": [],
   "source": [
    "print(Fw)"
   ]
  },
  {
   "cell_type": "markdown",
   "metadata": {
    "hidden": true
   },
   "source": [
    "In this simple example it is pretty straightforward, but this feature is useful for debugging the code when the amplification factor has been generated in the middle of a more complicated script, e.g. when we use a random distribution of lenses or a lens generated by a different piece of code."
   ]
  },
  {
   "cell_type": "markdown",
   "metadata": {
    "jp-MarkdownHeadingCollapsed": true
   },
   "source": [
    "### C precision parameters"
   ]
  },
  {
   "attachments": {},
   "cell_type": "markdown",
   "metadata": {},
   "source": [
    "Most of the precision parameters in the C code can be accessed from Python. After defining the main object, the current precision parameters can be visualized with the `display_Cprec` method (including options for non-numerical parameters)"
   ]
  },
  {
   "cell_type": "code",
   "execution_count": null,
   "metadata": {},
   "outputs": [],
   "source": [
    "It = time_domain_c.It_AnalyticSIS_C(y=1.2)\n",
    "#It.display_Cprec()   # long output"
   ]
  },
  {
   "cell_type": "markdown",
   "metadata": {},
   "source": [
    "These parameters can be modified through an entry in `p_prec`"
   ]
  },
  {
   "cell_type": "code",
   "execution_count": null,
   "metadata": {},
   "outputs": [],
   "source": [
    "C_prec = {'ro_issameCP_dist' : 2e-5, \\\n",
    "          'sc_intContourStd' : {'type' : 'rkf45', 'epsabs' : 1e-6}}\n",
    "Psi = lenses.Psi_SIS()\n",
    "It = time_domain_c.It_SingleContour_C(Psi, y=1.2, p_prec={'C_prec' : C_prec})"
   ]
  },
  {
   "cell_type": "markdown",
   "metadata": {
    "execution": {
     "iopub.execute_input": "2023-07-25T20:20:20.161782Z",
     "iopub.status.busy": "2023-07-25T20:20:20.160845Z",
     "iopub.status.idle": "2023-07-25T20:20:20.172451Z",
     "shell.execute_reply": "2023-07-25T20:20:20.170635Z",
     "shell.execute_reply.started": "2023-07-25T20:20:20.161711Z"
    }
   },
   "source": [
    "If needed, the precision parameters of the current session can also be retrieved in dictionary form"
   ]
  },
  {
   "cell_type": "code",
   "execution_count": null,
   "metadata": {},
   "outputs": [],
   "source": [
    "full_C_prec = It.get_Cprec()"
   ]
  },
  {
   "cell_type": "markdown",
   "metadata": {
    "heading_collapsed": true,
    "hidden": true,
    "jp-MarkdownHeadingCollapsed": true
   },
   "source": [
    "## A more complex example: $n$ SISs"
   ]
  },
  {
   "cell_type": "markdown",
   "metadata": {
    "hidden": true
   },
   "source": [
    "First, we define a couple of functions that will prove handy"
   ]
  },
  {
   "cell_type": "code",
   "execution_count": null,
   "metadata": {},
   "outputs": [],
   "source": [
    "def distribute_centers(n, R=1, seed=None):\n",
    "    \n",
    "    if(seed is None):\n",
    "        seed = np.random.randint(0, 1e7)\n",
    "        print(\"Seed:\", seed)    \n",
    "    np.random.seed(seed)\n",
    "    \n",
    "    Rs = R*np.sqrt(np.random.random_sample(n))\n",
    "    ths = 2*np.pi*np.random.random_sample(n)\n",
    "    \n",
    "    x1 = Rs*np.cos(ths)\n",
    "    x2 = Rs*np.sin(ths)\n",
    "    \n",
    "    x1CM = np.sum(x1)/n\n",
    "    x2CM = np.sum(x2)/n\n",
    "    \n",
    "    x1 -= x1CM\n",
    "    x2 -= x2CM\n",
    "    \n",
    "    return x1, x2\n",
    "\n",
    "def create_lens(n, R, seed=None):\n",
    "    psi0 = 1./n\n",
    "    xc1s, xc2s = distribute_centers(n, R, seed=seed)\n",
    "    \n",
    "    p_phys = {'lenses' : []}\n",
    "    for xc1, xc2 in zip(xc1s, xc2s):\n",
    "        sub_p_phys = {'psi0' : psi0, 'xc1' : xc1, 'xc2' : xc2}\n",
    "        Psi = lenses.Psi_offcenterSIS(sub_p_phys)\n",
    "        p_phys['lenses'].append(Psi)\n",
    "\n",
    "    return lenses.CombinedLens(p_phys)\n",
    "\n",
    "def plot_It(Psi, y, SIS=False, CIS=False, rc=0.1):\n",
    "    p_prec = {'eval_mode' : 'exact'}\n",
    "    It = time_domain_c.It_SingleContour_C(Psi, y, p_prec)\n",
    "\n",
    "    taus = np.geomspace(1e-1, 50, 1000)\n",
    "\n",
    "    fig, ax = plt.subplots()\n",
    "    ax.plot(taus, It.eval_It(taus)/2/np.pi, label='%d SIS' % len(Psi.p_phys['lenses']))\n",
    "    ax.set_xscale('log')\n",
    "    \n",
    "    It_SIS = None\n",
    "    if SIS is True:\n",
    "        It_SIS = time_domain_c.It_AnalyticSIS_C(y, p_prec)\n",
    "        ax.plot(taus, It_SIS.eval_It(taus)/2/np.pi, label='SIS')\n",
    "    \n",
    "    It_CIS = None\n",
    "    if CIS is True:\n",
    "        Psi_CIS = lenses.Psi_CIS({'psi0':1, 'rc':rc})\n",
    "        It_CIS = time_domain_c.It_SingleContour_C(Psi_CIS, y, p_prec)\n",
    "        ax.plot(taus, It_CIS.eval_It(taus)/2/np.pi, label='CIS')\n",
    "    \n",
    "    ax.set_xlabel(r'$\\tau$')\n",
    "    ax.set_ylabel(r'$I(\\tau)/2\\pi$')\n",
    "    ax.set_xlim([taus[0], taus[-1]])\n",
    "    ax.legend(loc='best')\n",
    "    \n",
    "def plot_Gt(Psi, y, SIS=False, CIS=False, rc=0.1):\n",
    "    p_prec = {'eval_mode' : 'exact'}\n",
    "    It = time_domain_c.It_SingleContour_C(Psi, y, p_prec)\n",
    "\n",
    "    dt = 1e-3\n",
    "    taus = np.geomspace(1e-1, 50, 1000)\n",
    "    \n",
    "    fig, ax = plt.subplots()\n",
    "    ax.plot(taus, It.eval_Gt(taus, dt=dt), label='%d SIS' % len(Psi.p_phys['lenses']), c='C0')\n",
    "    ax.set_xscale('log')\n",
    "    \n",
    "    It_SIS = None\n",
    "    if SIS is True:\n",
    "        It_SIS = time_domain_c.It_AnalyticSIS_C(y, p_prec)\n",
    "        ax.plot(taus, It_SIS.eval_Gt(taus, dt=dt), label='SIS', c='C1')\n",
    "    \n",
    "    It_CIS = None\n",
    "    if CIS is True:\n",
    "        Psi_CIS = lenses.Psi_CIS({'psi0':1, 'rc':rc})\n",
    "        It_CIS = time_domain_c.It_SingleContour_C(Psi_CIS, y, p_prec)\n",
    "        ax.plot(taus, It_CIS.eval_Gt(taus, dt=dt), label='CIS', c='C2')\n",
    "    \n",
    "    ax.set_xlabel(r'$\\tau$')\n",
    "    ax.set_ylabel(r'$G(\\tau)$')\n",
    "    ax.set_xlim([taus[0], taus[-1]])\n",
    "    ax.legend(loc='best')"
   ]
  },
  {
   "cell_type": "markdown",
   "metadata": {
    "hidden": true
   },
   "source": [
    "Now, we will create a set of (`n_sublenses`) SIS randomly distributed inside a sphere of radius (`R`). The center of mass position and the total lens mass are fixed."
   ]
  },
  {
   "cell_type": "code",
   "execution_count": null,
   "metadata": {},
   "outputs": [],
   "source": [
    "n_sublenses = 3\n",
    "R = 1\n",
    "\n",
    "Psi = create_lens(n=n_sublenses, R=R, seed=None)"
   ]
  },
  {
   "cell_type": "markdown",
   "metadata": {
    "hidden": true
   },
   "source": [
    "We can compare this composed lens with a SIS or a CIS of the same mass (situated at the center of mass of the lens distribution)"
   ]
  },
  {
   "cell_type": "code",
   "execution_count": null,
   "metadata": {},
   "outputs": [],
   "source": [
    "plot_It(Psi, y=1.2, SIS=True, CIS=True)"
   ]
  },
  {
   "cell_type": "code",
   "execution_count": null,
   "metadata": {},
   "outputs": [],
   "source": [
    "plot_Gt(Psi, y=1.2, SIS=False, CIS=True)"
   ]
  },
  {
   "cell_type": "markdown",
   "metadata": {
    "hidden": true
   },
   "source": [
    "We can also compare the effects in the amplification factor. First we must compute the time-domain integral in a wide temporal range, as usual. (Note: the plot above was computed using the `p_prec['eval_method']='exact'` option to compute it at any $\\tau$ requested, now we need a grid so we must use `'interpolate'`, which is the default)"
   ]
  },
  {
   "cell_type": "code",
   "execution_count": null,
   "metadata": {},
   "outputs": [],
   "source": [
    "y = 1.2\n",
    "p_prec = {'tmin':1e-2, 'tmax':1e8, 'Nt':5000, 'sampling':'log'}\n",
    "\n",
    "It_MultiSIS = time_domain_c.It_SingleContour_C(Psi, y, p_prec)\n",
    "\n",
    "It_SIS = time_domain_c.It_AnalyticSIS_C(y, p_prec)\n",
    "\n",
    "Psi_CIS = lenses.Psi_CIS({'psi0':1, 'rc':0.1})\n",
    "It_CIS = time_domain_c.It_SingleContour_C(Psi_CIS, y, p_prec)"
   ]
  },
  {
   "cell_type": "markdown",
   "metadata": {
    "hidden": true
   },
   "source": [
    "Next, we compute the amplification factors"
   ]
  },
  {
   "cell_type": "code",
   "execution_count": null,
   "metadata": {},
   "outputs": [],
   "source": [
    "Fw_MultiSIS = freq_domain_c.Fw_FFT_C(It_MultiSIS)\n",
    "Fw_SIS = freq_domain_c.Fw_FFT_C(It_SIS)\n",
    "Fw_CIS = freq_domain_c.Fw_FFT_C(It_CIS)"
   ]
  },
  {
   "cell_type": "markdown",
   "metadata": {
    "hidden": true
   },
   "source": [
    "and plot them"
   ]
  },
  {
   "cell_type": "code",
   "execution_count": null,
   "metadata": {},
   "outputs": [],
   "source": [
    "fig, ax = plt.subplots()\n",
    "\n",
    "ws = Fw_SIS.w_grid\n",
    "\n",
    "ws = np.geomspace(1e-2, 1e2, 5000)\n",
    "\n",
    "ax.plot(ws, np.abs(Fw_MultiSIS(ws)), zorder=10, label='%d SIS' % len(Psi.p_phys['lenses']))\n",
    "ax.plot(ws, np.abs(Fw_SIS(ws)), alpha=0.5, label='SIS')\n",
    "ax.plot(ws, np.abs(Fw_CIS(ws)), alpha=0.5, label='CIS')\n",
    "\n",
    "ax.set_xlim([ws[0], ws[-1]])\n",
    "ax.set_xscale('log')\n",
    "ax.set_ylabel('$|F(w)|$')\n",
    "ax.set_xlabel('$w$')\n",
    "ax.legend(loc='best');"
   ]
  }
 ],
 "metadata": {
  "kernelspec": {
   "display_name": "Python 3 (ipykernel)",
   "language": "python",
   "name": "python3"
  },
  "language_info": {
   "codemirror_mode": {
    "name": "ipython",
    "version": 3
   },
   "file_extension": ".py",
   "mimetype": "text/x-python",
   "name": "python",
   "nbconvert_exporter": "python",
   "pygments_lexer": "ipython3",
   "version": "3.12.3"
  }
 },
 "nbformat": 4,
 "nbformat_minor": 4
}
