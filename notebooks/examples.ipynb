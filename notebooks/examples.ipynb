{
 "cells": [
  {
   "cell_type": "code",
   "execution_count": null,
   "metadata": {},
   "outputs": [],
   "source": [
    "import numpy as np\n",
    "import matplotlib\n",
    "import matplotlib.pyplot as plt\n",
    "\n",
    "from glow import lenses, time_domain, freq_domain, tools"
   ]
  },
  {
   "cell_type": "markdown",
   "metadata": {
    "heading_collapsed": true,
    "jp-MarkdownHeadingCollapsed": true
   },
   "source": [
    "## Lenses"
   ]
  },
  {
   "cell_type": "markdown",
   "metadata": {
    "heading_collapsed": true,
    "hidden": true,
    "jp-MarkdownHeadingCollapsed": true
   },
   "source": [
    "### Axisymmetric lenses: SIS"
   ]
  },
  {
   "cell_type": "code",
   "execution_count": null,
   "metadata": {},
   "outputs": [],
   "source": [
    "Psi = lenses.Psi_SIS()"
   ]
  },
  {
   "cell_type": "markdown",
   "metadata": {
    "hidden": true
   },
   "source": [
    "Every object has a `display_info()` method"
   ]
  },
  {
   "cell_type": "code",
   "execution_count": null,
   "metadata": {},
   "outputs": [],
   "source": [
    "Psi.display_info()"
   ]
  },
  {
   "cell_type": "markdown",
   "metadata": {
    "hidden": true
   },
   "source": [
    "We can use a couple of simple functions in `tools.py` to plot the lens"
   ]
  },
  {
   "cell_type": "code",
   "execution_count": null,
   "metadata": {},
   "outputs": [],
   "source": [
    "y = 0.3\n",
    "fig, ax = tools.plot_potential(y, Psi, levels=10)"
   ]
  },
  {
   "cell_type": "markdown",
   "metadata": {
    "hidden": true
   },
   "source": [
    "Also in polar coordinates"
   ]
  },
  {
   "cell_type": "code",
   "execution_count": null,
   "metadata": {},
   "outputs": [],
   "source": [
    "y = 0.3\n",
    "fig, ax = tools.plot_potential_polar(y, Psi, levels=10)"
   ]
  },
  {
   "cell_type": "code",
   "execution_count": null,
   "metadata": {},
   "outputs": [],
   "source": [
    "y = 0.3\n",
    "fig, ax = tools.plot_potential_polar2(y, Psi, levels=10)"
   ]
  },
  {
   "cell_type": "markdown",
   "metadata": {
    "heading_collapsed": true,
    "hidden": true,
    "jp-MarkdownHeadingCollapsed": true
   },
   "source": [
    "### Non-axisymmetric lenses: off-center SIS"
   ]
  },
  {
   "cell_type": "markdown",
   "metadata": {
    "hidden": true
   },
   "source": [
    "As a simple example of a non-axisymmetric lens we have the SIS displaced from the center"
   ]
  },
  {
   "cell_type": "code",
   "execution_count": null,
   "metadata": {},
   "outputs": [],
   "source": [
    "p_phys = {'xc1' : 0.1, 'xc2' : 0.2}\n",
    "\n",
    "Psi = lenses.Psi_offcenterSIS(p_phys)\n",
    "\n",
    "Psi.display_info()"
   ]
  },
  {
   "cell_type": "code",
   "execution_count": null,
   "metadata": {},
   "outputs": [],
   "source": [
    "y = 0.3\n",
    "fig, ax = tools.plot_potential(y, Psi, levels=10)"
   ]
  },
  {
   "cell_type": "markdown",
   "metadata": {
    "heading_collapsed": true,
    "hidden": true,
    "jp-MarkdownHeadingCollapsed": true
   },
   "source": [
    "### Combined lenses"
   ]
  },
  {
   "cell_type": "markdown",
   "metadata": {
    "hidden": true
   },
   "source": [
    "Finally, we combine different lenses"
   ]
  },
  {
   "cell_type": "code",
   "execution_count": null,
   "metadata": {},
   "outputs": [],
   "source": [
    "Psi1 = lenses.Psi_offcenterSIS({'psi0' : 0.5, 'xc1' : 0.,  'xc2' : 0.})\n",
    "Psi2 = lenses.Psi_offcenterSIS({'psi0' : 0.5, 'xc1' : 0.1, 'xc2' : 0.2})\n",
    "\n",
    "Psi = lenses.CombinedLens({'lenses' : [Psi1, Psi2]})\n",
    "\n",
    "Psi.display_info()"
   ]
  },
  {
   "cell_type": "code",
   "execution_count": null,
   "metadata": {},
   "outputs": [],
   "source": [
    "y = 0.3\n",
    "fig, ax = tools.plot_potential(y, Psi, levels=25)"
   ]
  },
  {
   "cell_type": "markdown",
   "metadata": {
    "hidden": true
   },
   "source": [
    "Right now, only the combination of non-axisymmetric lenses is implemented. For axisymmetric lenses, use the off-center version at 0."
   ]
  },
  {
   "cell_type": "markdown",
   "metadata": {
    "heading_collapsed": true,
    "jp-MarkdownHeadingCollapsed": true
   },
   "source": [
    "## Time domain"
   ]
  },
  {
   "cell_type": "markdown",
   "metadata": {
    "heading_collapsed": true,
    "hidden": true,
    "jp-MarkdownHeadingCollapsed": true
   },
   "source": [
    "### Single contour"
   ]
  },
  {
   "cell_type": "markdown",
   "metadata": {
    "hidden": true
   },
   "source": [
    "For WL, the single contour is now also implemented in Python. However, keep in mind that it **does not** check if we are indeed in the WL regime. It is also quite slow. "
   ]
  },
  {
   "cell_type": "code",
   "execution_count": null,
   "metadata": {},
   "outputs": [],
   "source": [
    "Psi = lenses.Psi_SIS()\n",
    "It = time_domain.It_SingleContour(Psi, y=2.)\n",
    "\n",
    "fig, ax = plt.subplots()\n",
    "ax.plot(It.t_grid, It.It_grid/2/np.pi)\n",
    "ax.set_xlabel(r'$\\tau$')\n",
    "ax.set_ylabel(r'$I(\\tau)/2\\pi$')\n",
    "ax.set_xscale('log');"
   ]
  },
  {
   "cell_type": "markdown",
   "metadata": {
    "hidden": true
   },
   "source": [
    "It includes a method to obtain the contour contributing to a given time delay"
   ]
  },
  {
   "cell_type": "code",
   "execution_count": null,
   "metadata": {},
   "outputs": [],
   "source": [
    "tau1 = 0.3\n",
    "tau2 = 1.3\n",
    "\n",
    "x1_1, x2_1 = It.get_contour(tau1)\n",
    "x1_2, x2_2 = It.get_contour(tau2)\n",
    "\n",
    "fig, ax = plt.subplots()\n",
    "ax.plot(x1_1, x2_1, label='$\\\\tau = %g$' % tau1)\n",
    "ax.plot(x1_2, x2_2, label='$\\\\tau = %g$' % tau2)\n",
    "ax.set_xlabel('$x_1$')\n",
    "ax.set_ylabel('$x_2$')\n",
    "ax.legend(loc=1);"
   ]
  },
  {
   "cell_type": "markdown",
   "metadata": {
    "heading_collapsed": true,
    "hidden": true,
    "jp-MarkdownHeadingCollapsed": true
   },
   "source": [
    "### Analytic SIS"
   ]
  },
  {
   "cell_type": "markdown",
   "metadata": {
    "hidden": true
   },
   "source": [
    "The analytic integral for the SIS is also implemented now"
   ]
  },
  {
   "cell_type": "code",
   "execution_count": null,
   "metadata": {},
   "outputs": [],
   "source": [
    "y = 0.3\n",
    "It_exact = time_domain.It_AnalyticSIS(y, p_prec={'tmax':2.5})\n",
    "\n",
    "fig, ax = plt.subplots()\n",
    "ax.plot(It_exact.t_grid, It_exact.It_grid/2/np.pi)\n",
    "ax.set_xlabel(r'$\\tau$')\n",
    "ax.set_ylabel(r'$I(\\tau)/2\\pi$');"
   ]
  },
  {
   "cell_type": "markdown",
   "metadata": {
    "jp-MarkdownHeadingCollapsed": true
   },
   "source": [
    "### Single integral"
   ]
  },
  {
   "cell_type": "markdown",
   "metadata": {},
   "source": [
    "This method can only be applied to axisymmetric lenses but it works for strong lensing."
   ]
  },
  {
   "cell_type": "code",
   "execution_count": null,
   "metadata": {},
   "outputs": [],
   "source": [
    "y = 0.3\n",
    "\n",
    "Psi = lenses.Psi_CIS()\n",
    "It  = time_domain.It_SingleIntegral(Psi, y, {'tmax':2.4, 'sampling':'linear'})\n",
    "\n",
    "fig, ax = plt.subplots()\n",
    "ax.plot(It.t_grid, It.It_grid/2./np.pi)\n",
    "ax.set_xlabel(r'$\\tau$')\n",
    "ax.set_ylabel(r'$I(\\tau)/2\\pi$');"
   ]
  },
  {
   "cell_type": "markdown",
   "metadata": {},
   "source": [
    "As with the single contour method, we can also get the contours:"
   ]
  },
  {
   "cell_type": "code",
   "execution_count": null,
   "metadata": {},
   "outputs": [],
   "source": [
    "taus = [0.2, 0.5, 0.6, 0.8, 1.3]\n",
    "ctrs = [It.get_contour(tau) for tau in taus]\n",
    "\n",
    "# ----------------------------\n",
    "\n",
    "fig, ax = plt.subplots()\n",
    "\n",
    "for i, ctr in enumerate(ctrs):\n",
    "    label = label='$\\\\tau = %g$' % taus[i]\n",
    "    for c in ctr:\n",
    "        x1, x2 = c\n",
    "        ax.plot(x1, x2, label=label, c='C%d' % i)\n",
    "        label = ''\n",
    "        \n",
    "ax.set_xlabel('$x_1$')\n",
    "ax.set_ylabel('$x_2$')\n",
    "ax.grid(alpha=0.7)\n",
    "ax.legend();"
   ]
  },
  {
   "cell_type": "markdown",
   "metadata": {
    "heading_collapsed": true,
    "hidden": true,
    "jp-MarkdownHeadingCollapsed": true
   },
   "source": [
    "### Naive grid integration"
   ]
  },
  {
   "cell_type": "markdown",
   "metadata": {
    "hidden": true
   },
   "source": [
    "A very simple implementation of the grid integration is also included (although it is not very efficient). Example for strong lensing with a CIS:"
   ]
  },
  {
   "cell_type": "code",
   "execution_count": null,
   "metadata": {},
   "outputs": [],
   "source": [
    "Psi = lenses.Psi_CIS()\n",
    "It = time_domain.It_NaiveAreaIntegral(Psi, y=0.3)\n",
    "It.display_info()"
   ]
  },
  {
   "cell_type": "code",
   "execution_count": null,
   "metadata": {},
   "outputs": [],
   "source": [
    "ts, Its = It.t_grid, It.It_grid\n",
    "    \n",
    "fig, ax = plt.subplots()\n",
    "ax.plot(ts, Its)\n",
    "ax.set_xlim([0, 3])\n",
    "ax.set_xlabel(\"$\\\\tau$\")\n",
    "ax.set_ylabel(\"$I(\\\\tau)$\")\n",
    "plt.tight_layout();"
   ]
  },
  {
   "cell_type": "markdown",
   "metadata": {
    "heading_collapsed": true,
    "jp-MarkdownHeadingCollapsed": true
   },
   "source": [
    "## Frequency domain"
   ]
  },
  {
   "cell_type": "markdown",
   "metadata": {
    "heading_collapsed": true,
    "hidden": true,
    "jp-MarkdownHeadingCollapsed": true
   },
   "source": [
    "### Default settings"
   ]
  },
  {
   "cell_type": "code",
   "execution_count": null,
   "metadata": {},
   "outputs": [],
   "source": [
    "It = time_domain.It_AnalyticSIS(y=2)\n",
    "Fw  = freq_domain.Fw_FFT_OldReg(It)"
   ]
  },
  {
   "cell_type": "markdown",
   "metadata": {
    "hidden": true
   },
   "source": [
    "The multigrid method can be compared with the standard one (demanding on memory and time)"
   ]
  },
  {
   "cell_type": "code",
   "execution_count": null,
   "metadata": {},
   "outputs": [],
   "source": [
    "ws = Fw.w_grid\n",
    "\n",
    "fig, ax = plt.subplots()\n",
    "ax.plot(ws, np.abs(Fw.Fw_grid), label='multigrid')\n",
    "ax.legend(loc='best')\n",
    "ax.set_xscale('log')\n",
    "ax.set_yscale('linear')\n",
    "ax.set_xlim([ws[0], ws[-1]])\n",
    "ax.set_xlabel(\"$w$\")\n",
    "ax.set_ylabel(\"$|F(w)|$\")\n",
    "plt.tight_layout();"
   ]
  }
 ],
 "metadata": {
  "language_info": {
   "name": "python"
  }
 },
 "nbformat": 4,
 "nbformat_minor": 4
}
