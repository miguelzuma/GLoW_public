{
 "cells": [
  {
   "cell_type": "code",
   "execution_count": 1,
   "id": "0479f064-f397-4261-8da3-7ce9068e3e0b",
   "metadata": {
    "execution": {
     "iopub.execute_input": "2024-08-21T21:33:26.667969Z",
     "iopub.status.busy": "2024-08-21T21:33:26.667379Z",
     "iopub.status.idle": "2024-08-21T21:33:27.926984Z",
     "shell.execute_reply": "2024-08-21T21:33:27.926013Z",
     "shell.execute_reply.started": "2024-08-21T21:33:26.667903Z"
    }
   },
   "outputs": [],
   "source": [
    "import numpy as np\n",
    "import matplotlib\n",
    "import matplotlib.pyplot as plt\n",
    "\n",
    "from glow import wrapper\n",
    "from glow import lenses\n",
    "from glow import time_domain, time_domain_c\n",
    "from glow import freq_domain, freq_domain_c\n",
    "from glow import tools"
   ]
  },
  {
   "cell_type": "markdown",
   "id": "082782da-f84a-479e-9e7e-fbee36817027",
   "metadata": {},
   "source": [
    "Temporary notebook to store previous performance tests, before passing them to a script."
   ]
  },
  {
   "cell_type": "markdown",
   "id": "44c1cf78-9130-49b9-88cc-c4239ec09409",
   "metadata": {},
   "source": [
    "# Python"
   ]
  },
  {
   "cell_type": "markdown",
   "id": "65dbe0a8-e706-4adc-8731-8f7c77ec4fde",
   "metadata": {
    "heading_collapsed": true,
    "hidden": true
   },
   "source": [
    "### Performance tests"
   ]
  },
  {
   "cell_type": "code",
   "execution_count": 2,
   "id": "cdee45d9-2ce2-4337-90e0-1e88fec0c2cf",
   "metadata": {
    "ExecuteTime": {
     "end_time": "2023-05-03T14:15:09.021369Z",
     "start_time": "2023-05-03T14:15:08.985324Z"
    },
    "execution": {
     "iopub.execute_input": "2024-08-21T21:33:27.929639Z",
     "iopub.status.busy": "2024-08-21T21:33:27.929069Z",
     "iopub.status.idle": "2024-08-21T21:33:27.943734Z",
     "shell.execute_reply": "2024-08-21T21:33:27.942104Z",
     "shell.execute_reply.started": "2024-08-21T21:33:27.929616Z"
    },
    "hidden": true
   },
   "outputs": [],
   "source": [
    "It = time_domain.It_AnalyticSIS(y=2, p_prec={'tmax':1e7})"
   ]
  },
  {
   "cell_type": "markdown",
   "id": "847dfc53-a3a4-4e55-98e7-4a7ff76b1118",
   "metadata": {
    "hidden": true
   },
   "source": [
    "The default parameters, that we will use as baseline are"
   ]
  },
  {
   "cell_type": "code",
   "execution_count": 3,
   "id": "a031f40b-28b2-4fe1-b530-32ffd6ee7041",
   "metadata": {
    "ExecuteTime": {
     "end_time": "2023-05-03T14:15:15.205134Z",
     "start_time": "2023-05-03T14:15:15.200511Z"
    },
    "execution": {
     "iopub.execute_input": "2024-08-21T21:33:27.945691Z",
     "iopub.status.busy": "2024-08-21T21:33:27.945257Z",
     "iopub.status.idle": "2024-08-21T21:33:27.951813Z",
     "shell.execute_reply": "2024-08-21T21:33:27.950431Z",
     "shell.execute_reply.started": "2024-08-21T21:33:27.945663Z"
    },
    "hidden": true
   },
   "outputs": [],
   "source": [
    "p_default={'wmin':1e-3,\n",
    "           'wmax':1e3,\n",
    "           'FFT method':'multigrid',\n",
    "           'N_below_discard':8,\n",
    "           'N_above_discard':4,\n",
    "           'N_keep':2}"
   ]
  },
  {
   "cell_type": "markdown",
   "id": "d533ef26-2996-463e-9103-14873c23f2f7",
   "metadata": {
    "hidden": true
   },
   "source": [
    "with reference computation time:"
   ]
  },
  {
   "cell_type": "code",
   "execution_count": 4,
   "id": "9a6bb2a6-eabf-4047-97f9-c3666d249d76",
   "metadata": {
    "ExecuteTime": {
     "end_time": "2023-05-03T14:15:26.712077Z",
     "start_time": "2023-05-03T14:15:15.930573Z"
    },
    "execution": {
     "iopub.execute_input": "2024-08-21T21:33:27.954086Z",
     "iopub.status.busy": "2024-08-21T21:33:27.953469Z",
     "iopub.status.idle": "2024-08-21T21:33:42.862233Z",
     "shell.execute_reply": "2024-08-21T21:33:42.859144Z",
     "shell.execute_reply.started": "2024-08-21T21:33:27.954041Z"
    },
    "hidden": true
   },
   "outputs": [
    {
     "name": "stdout",
     "output_type": "stream",
     "text": [
      "The slowest run took 4.07 times longer than the fastest. This could mean that an intermediate result is being cached.\n",
      "19.6 ms ± 7.97 ms per loop (mean ± std. dev. of 7 runs, 100 loops each)\n"
     ]
    }
   ],
   "source": [
    "%timeit F = freq_domain.Fw_FFT_OldReg(It, p_default)"
   ]
  },
  {
   "cell_type": "markdown",
   "id": "88067bbc-0076-4462-8f55-8afdfefb6d77",
   "metadata": {
    "hidden": true
   },
   "source": [
    "The performance can be boosted (without affecting the precision) just by reducing the portion of the transformed signal that we keep, thus increasing the number of frequency chunks that we must use. There is a trade-off between reducing the number of points computed in each chunk (reducing 'N_keep') and the additional number of FFTs that we must compute (because the number of chunks increases), i.e. if we reduce 'N_keep' too much computation time increases. "
   ]
  },
  {
   "cell_type": "code",
   "execution_count": 5,
   "id": "dd9a32d9-3a05-43a3-8f54-786e7cc368d0",
   "metadata": {
    "ExecuteTime": {
     "end_time": "2023-05-03T14:15:33.857579Z",
     "start_time": "2023-05-03T14:15:29.210993Z"
    },
    "execution": {
     "iopub.execute_input": "2024-08-21T21:33:42.864246Z",
     "iopub.status.busy": "2024-08-21T21:33:42.863933Z",
     "iopub.status.idle": "2024-08-21T21:33:57.056450Z",
     "shell.execute_reply": "2024-08-21T21:33:57.054934Z",
     "shell.execute_reply.started": "2024-08-21T21:33:42.864217Z"
    },
    "hidden": true
   },
   "outputs": [
    {
     "name": "stdout",
     "output_type": "stream",
     "text": [
      "18.5 ms ± 11.1 ms per loop (mean ± std. dev. of 7 runs, 100 loops each)\n"
     ]
    }
   ],
   "source": [
    "p_prec = p_default.copy()\n",
    "p_prec['N_keep'] = 1\n",
    "\n",
    "%timeit F = freq_domain.Fw_FFT_OldReg(It, p_prec)"
   ]
  },
  {
   "cell_type": "markdown",
   "id": "f464364e-6ee5-42de-a386-2a553bdd7477",
   "metadata": {
    "hidden": true
   },
   "source": [
    "Increasing the number of decades thrown away by 1 in the low-frequency regime increases the precision by a factor of (around) 2, while also increasing the computation time by a factor of 2."
   ]
  },
  {
   "cell_type": "code",
   "execution_count": 6,
   "id": "b31a69c3-0661-411c-89e4-1b3be955c33d",
   "metadata": {
    "ExecuteTime": {
     "end_time": "2023-05-03T14:15:46.758831Z",
     "start_time": "2023-05-03T14:15:35.945246Z"
    },
    "execution": {
     "iopub.execute_input": "2024-08-21T21:33:57.058230Z",
     "iopub.status.busy": "2024-08-21T21:33:57.057853Z",
     "iopub.status.idle": "2024-08-21T21:33:59.393261Z",
     "shell.execute_reply": "2024-08-21T21:33:59.392508Z",
     "shell.execute_reply.started": "2024-08-21T21:33:57.058199Z"
    },
    "hidden": true
   },
   "outputs": [
    {
     "name": "stdout",
     "output_type": "stream",
     "text": [
      "28 ms ± 761 µs per loop (mean ± std. dev. of 7 runs, 10 loops each)\n"
     ]
    }
   ],
   "source": [
    "p_prec = p_default.copy()\n",
    "p_prec['N_above_discard'] = 9\n",
    "p_prec['N_below_discard'] = 5\n",
    "\n",
    "%timeit F = freq_domain.Fw_FFT_OldReg(It, p_prec)"
   ]
  },
  {
   "cell_type": "markdown",
   "id": "c0b2c0e1-25d5-44a1-b6c7-eba395a5f62e",
   "metadata": {},
   "source": [
    "# C"
   ]
  },
  {
   "cell_type": "markdown",
   "id": "d9430769-8a17-4618-9431-fb6fe5b76ffd",
   "metadata": {
    "heading_collapsed": true,
    "hidden": true
   },
   "source": [
    "## Testing performance"
   ]
  },
  {
   "cell_type": "markdown",
   "id": "3f001708-9888-49bd-9510-f83d3240b79a",
   "metadata": {
    "heading_collapsed": true,
    "hidden": true
   },
   "source": [
    "### Analytic SIS"
   ]
  },
  {
   "cell_type": "code",
   "execution_count": 7,
   "id": "f71c6870-5fab-4290-990f-f508fc957d03",
   "metadata": {
    "ExecuteTime": {
     "end_time": "2023-05-03T14:38:44.699662Z",
     "start_time": "2023-05-03T14:38:44.692493Z"
    },
    "execution": {
     "iopub.execute_input": "2024-08-21T21:33:59.396796Z",
     "iopub.status.busy": "2024-08-21T21:33:59.396434Z",
     "iopub.status.idle": "2024-08-21T21:33:59.400914Z",
     "shell.execute_reply": "2024-08-21T21:33:59.400019Z",
     "shell.execute_reply.started": "2024-08-21T21:33:59.396774Z"
    },
    "hidden": true
   },
   "outputs": [],
   "source": [
    "y = 0.3\n",
    "psi0 = 1\n",
    "\n",
    "tau_ini = 0.8\n",
    "taus = np.geomspace(1e-2, 10, 1000)"
   ]
  },
  {
   "cell_type": "markdown",
   "id": "f803e5a5-fe7a-41e5-9df7-79a33a933309",
   "metadata": {
    "hidden": true
   },
   "source": [
    "Performance for a single point, numpy arrays and numpy arrays in parallel"
   ]
  },
  {
   "cell_type": "code",
   "execution_count": 8,
   "id": "95a06720-4332-4aa9-8dca-4b2a1495e368",
   "metadata": {
    "ExecuteTime": {
     "end_time": "2023-05-03T14:38:57.967452Z",
     "start_time": "2023-05-03T14:38:45.671930Z"
    },
    "execution": {
     "iopub.execute_input": "2024-08-21T21:33:59.402998Z",
     "iopub.status.busy": "2024-08-21T21:33:59.402461Z",
     "iopub.status.idle": "2024-08-21T21:34:13.268587Z",
     "shell.execute_reply": "2024-08-21T21:34:13.267530Z",
     "shell.execute_reply.started": "2024-08-21T21:33:59.402960Z"
    },
    "hidden": true
   },
   "outputs": [
    {
     "name": "stdout",
     "output_type": "stream",
     "text": [
      "8.6 µs ± 261 ns per loop (mean ± std. dev. of 7 runs, 100,000 loops each)\n",
      "602 µs ± 8.78 µs per loop (mean ± std. dev. of 7 runs, 1,000 loops each)\n",
      "239 µs ± 22.4 µs per loop (mean ± std. dev. of 7 runs, 1,000 loops each)\n"
     ]
    }
   ],
   "source": [
    "%timeit wrapper.pyIt_SIS(tau_ini, y, psi0)\n",
    "%timeit wrapper.pyIt_SIS(taus, y, psi0, parallel=False)\n",
    "%timeit wrapper.pyIt_SIS(taus, y, psi0)"
   ]
  },
  {
   "cell_type": "markdown",
   "id": "4fc965de-caa1-4bc7-a830-edad36e21a9f",
   "metadata": {
    "heading_collapsed": true,
    "hidden": true
   },
   "source": [
    "### Single contour"
   ]
  },
  {
   "cell_type": "markdown",
   "id": "ed0c0701-8a45-4c9a-aa7d-1bcb6bc7ad0b",
   "metadata": {
    "hidden": true
   },
   "source": [
    "Benchmark values (RK(8,9) integrator with tol=1e-5, compilation with `-Ofast`)"
   ]
  },
  {
   "cell_type": "code",
   "execution_count": 9,
   "id": "1714042f-c4fe-40ba-884e-69e20ba3d14f",
   "metadata": {
    "ExecuteTime": {
     "end_time": "2023-05-03T14:40:47.240739Z",
     "start_time": "2023-05-03T14:40:47.232860Z"
    },
    "execution": {
     "iopub.execute_input": "2024-08-21T21:34:13.270218Z",
     "iopub.status.busy": "2024-08-21T21:34:13.269775Z",
     "iopub.status.idle": "2024-08-21T21:34:13.277303Z",
     "shell.execute_reply": "2024-08-21T21:34:13.276283Z",
     "shell.execute_reply.started": "2024-08-21T21:34:13.270182Z"
    },
    "hidden": true
   },
   "outputs": [],
   "source": [
    "y = 1.1\n",
    "psi0 = 1\n",
    "x1_min = psi0 + y\n",
    "x2_min = 0\n",
    "\n",
    "Psi = lenses.Psi_SIS({'psi0':psi0})\n",
    "\n",
    "tau_ini = 0.8\n",
    "taus = np.geomspace(0.1, 100, 1000)"
   ]
  },
  {
   "cell_type": "markdown",
   "id": "6f1b55fd-b865-4c96-bbb1-d67044dbcee8",
   "metadata": {
    "hidden": true
   },
   "source": [
    "Performance for a single point, numpy arrays and numpy arrays in parallel"
   ]
  },
  {
   "cell_type": "code",
   "execution_count": 10,
   "id": "b34b55c1-3531-4bc6-ad01-e913824c975f",
   "metadata": {
    "ExecuteTime": {
     "end_time": "2023-05-03T14:40:50.355139Z",
     "start_time": "2023-05-03T14:40:47.966989Z"
    },
    "execution": {
     "iopub.execute_input": "2024-08-21T21:34:13.278922Z",
     "iopub.status.busy": "2024-08-21T21:34:13.278521Z",
     "iopub.status.idle": "2024-08-21T21:34:24.475846Z",
     "shell.execute_reply": "2024-08-21T21:34:24.474468Z",
     "shell.execute_reply.started": "2024-08-21T21:34:13.278890Z"
    },
    "hidden": true
   },
   "outputs": [
    {
     "name": "stdout",
     "output_type": "stream",
     "text": [
      "36.8 µs ± 1.15 µs per loop (mean ± std. dev. of 7 runs, 10,000 loops each)\n",
      "22.6 ms ± 809 µs per loop (mean ± std. dev. of 7 runs, 10 loops each)\n",
      "7.87 ms ± 310 µs per loop (mean ± std. dev. of 7 runs, 100 loops each)\n"
     ]
    }
   ],
   "source": [
    "%timeit wrapper.pyContour(tau_ini, x1_min, x2_min, y, Psi)\n",
    "%timeit wrapper.pyContour(taus, x1_min, x2_min, y, Psi, parallel=False)\n",
    "%timeit wrapper.pyContour(taus, x1_min, x2_min, y, Psi)"
   ]
  },
  {
   "cell_type": "markdown",
   "id": "17c85ab8-f345-4c72-bc79-199de58f397f",
   "metadata": {},
   "source": [
    "Same but now with the `'robust'` method (i.e. parametric contours)"
   ]
  },
  {
   "cell_type": "code",
   "execution_count": 11,
   "id": "1f8c1a14-d52d-4a95-adee-f2ac9c62bae6",
   "metadata": {
    "ExecuteTime": {
     "end_time": "2023-05-03T14:40:56.316529Z",
     "start_time": "2023-05-03T14:40:50.730231Z"
    },
    "execution": {
     "iopub.execute_input": "2024-08-21T21:34:24.478101Z",
     "iopub.status.busy": "2024-08-21T21:34:24.477368Z",
     "iopub.status.idle": "2024-08-21T21:34:54.019020Z",
     "shell.execute_reply": "2024-08-21T21:34:54.018173Z",
     "shell.execute_reply.started": "2024-08-21T21:34:24.478060Z"
    },
    "hidden": true
   },
   "outputs": [
    {
     "name": "stdout",
     "output_type": "stream",
     "text": [
      "79.3 µs ± 4.38 µs per loop (mean ± std. dev. of 7 runs, 10,000 loops each)\n",
      "68.4 ms ± 2.22 ms per loop (mean ± std. dev. of 7 runs, 10 loops each)\n",
      "21.7 ms ± 396 µs per loop (mean ± std. dev. of 7 runs, 100 loops each)\n"
     ]
    }
   ],
   "source": [
    "%timeit wrapper.pyContour(tau_ini, x1_min, x2_min, y, Psi, method='robust')\n",
    "%timeit wrapper.pyContour(taus, x1_min, x2_min, y, Psi, parallel=False, method='robust')\n",
    "%timeit wrapper.pyContour(taus, x1_min, x2_min, y, Psi, method='robust')"
   ]
  },
  {
   "cell_type": "markdown",
   "id": "cfd9dec6-5dce-4dbf-9433-25790cbf487a",
   "metadata": {
    "heading_collapsed": true,
    "hidden": true
   },
   "source": [
    "### Single integral"
   ]
  },
  {
   "cell_type": "markdown",
   "id": "532692b1-6386-437f-adaf-9118d2ad45e0",
   "metadata": {
    "hidden": true
   },
   "source": [
    "Benchmark values: `qags` integrator with rtol=1e-4, atol=0, sub_int_limit=1000, compilation with `-Ofast`)"
   ]
  },
  {
   "cell_type": "code",
   "execution_count": 12,
   "id": "228c5736-aefe-40c5-87d2-3509b8bce292",
   "metadata": {
    "ExecuteTime": {
     "end_time": "2023-05-03T14:41:27.667779Z",
     "start_time": "2023-05-03T14:41:27.661498Z"
    },
    "execution": {
     "iopub.execute_input": "2024-08-21T21:34:54.020829Z",
     "iopub.status.busy": "2024-08-21T21:34:54.020259Z",
     "iopub.status.idle": "2024-08-21T21:34:54.028268Z",
     "shell.execute_reply": "2024-08-21T21:34:54.027287Z",
     "shell.execute_reply.started": "2024-08-21T21:34:54.020792Z"
    },
    "hidden": true
   },
   "outputs": [],
   "source": [
    "y = 1.3\n",
    "\n",
    "tau_ini = 0.8\n",
    "taus = np.geomspace(1e-2, 10, 1000)\n",
    "\n",
    "Psi = lenses.Psi_SIS()\n",
    "\n",
    "# extract p_crits first\n",
    "It = time_domain_c.It_SingleIntegral_C(Psi, y, {'eval_mode':'exact'})\n",
    "p_crits = It.p_crits"
   ]
  },
  {
   "cell_type": "markdown",
   "id": "37084c11-13dd-47c2-8f29-f5f115b56650",
   "metadata": {
    "hidden": true
   },
   "source": [
    "Performance for a single point, numpy arrays and numpy arrays in parallel"
   ]
  },
  {
   "cell_type": "code",
   "execution_count": 13,
   "id": "31a7df76-73b6-435b-bcba-49161e498c8d",
   "metadata": {
    "ExecuteTime": {
     "end_time": "2023-05-03T14:41:34.124260Z",
     "start_time": "2023-05-03T14:41:28.466670Z"
    },
    "execution": {
     "iopub.execute_input": "2024-08-21T21:34:54.029677Z",
     "iopub.status.busy": "2024-08-21T21:34:54.029377Z",
     "iopub.status.idle": "2024-08-21T21:35:10.287155Z",
     "shell.execute_reply": "2024-08-21T21:35:10.286143Z",
     "shell.execute_reply.started": "2024-08-21T21:34:54.029650Z"
    },
    "hidden": true
   },
   "outputs": [
    {
     "name": "stdout",
     "output_type": "stream",
     "text": [
      "10.8 µs ± 302 ns per loop (mean ± std. dev. of 7 runs, 100,000 loops each)\n",
      "2.01 ms ± 45.6 µs per loop (mean ± std. dev. of 7 runs, 100 loops each)\n",
      "682 µs ± 11.5 µs per loop (mean ± std. dev. of 7 runs, 1,000 loops each)\n"
     ]
    }
   ],
   "source": [
    "%timeit wrapper.pySingleIntegral(tau_ini, y, Psi, p_crits, method='qag15')\n",
    "%timeit wrapper.pySingleIntegral(taus, y, Psi, p_crits, method='qag15', parallel=False)\n",
    "%timeit wrapper.pySingleIntegral(taus, y, Psi, p_crits, method='qag15')"
   ]
  },
  {
   "cell_type": "markdown",
   "id": "93e42dad-f58c-46ce-989d-502925dbcfa2",
   "metadata": {
    "heading_collapsed": true,
    "hidden": true
   },
   "source": [
    "### Pseudo-analytic SIS"
   ]
  },
  {
   "cell_type": "markdown",
   "id": "62194d90-aae1-49bc-ace6-870c51627c62",
   "metadata": {},
   "source": [
    "Semi-analytical formula for the SIS"
   ]
  },
  {
   "cell_type": "code",
   "execution_count": 14,
   "id": "549a3af1-9b35-4cb1-b3c6-1a5c2222ab0a",
   "metadata": {
    "ExecuteTime": {
     "end_time": "2023-05-03T14:41:43.687612Z",
     "start_time": "2023-05-03T14:41:43.684440Z"
    },
    "execution": {
     "iopub.execute_input": "2024-08-21T21:35:10.289185Z",
     "iopub.status.busy": "2024-08-21T21:35:10.288740Z",
     "iopub.status.idle": "2024-08-21T21:35:10.295892Z",
     "shell.execute_reply": "2024-08-21T21:35:10.294907Z",
     "shell.execute_reply.started": "2024-08-21T21:35:10.289135Z"
    },
    "hidden": true
   },
   "outputs": [],
   "source": [
    "ws = np.geomspace(1e-2, 1e2, 1000)"
   ]
  },
  {
   "cell_type": "markdown",
   "id": "ec549140-7dc0-429f-81f8-d335357506cd",
   "metadata": {},
   "source": [
    "Strong and weak lensing tests. The `'direct'` method usually outperforms the default `'osc'` method, but it cannot be used for high frequencies."
   ]
  },
  {
   "cell_type": "code",
   "execution_count": 15,
   "id": "51d073cc-63c8-4310-bfec-74abacac793c",
   "metadata": {
    "ExecuteTime": {
     "end_time": "2023-05-03T14:41:48.582938Z",
     "start_time": "2023-05-03T14:41:44.509815Z"
    },
    "execution": {
     "iopub.execute_input": "2024-08-21T21:35:10.297470Z",
     "iopub.status.busy": "2024-08-21T21:35:10.297054Z",
     "iopub.status.idle": "2024-08-21T21:35:15.326795Z",
     "shell.execute_reply": "2024-08-21T21:35:15.325314Z",
     "shell.execute_reply.started": "2024-08-21T21:35:10.297424Z"
    },
    "hidden": true
   },
   "outputs": [
    {
     "name": "stdout",
     "output_type": "stream",
     "text": [
      "3.21 ms ± 269 µs per loop (mean ± std. dev. of 7 runs, 100 loops each)\n",
      "2.93 ms ± 42.9 µs per loop (mean ± std. dev. of 7 runs, 100 loops each)\n"
     ]
    }
   ],
   "source": [
    "y = 0.3\n",
    "Fw1 = freq_domain_c.Fw_SemiAnalyticSIS_C(y)\n",
    "Fw2 = freq_domain_c.Fw_SemiAnalyticSIS_C(y, {'method':'direct'})\n",
    "\n",
    "%timeit Fw1.eval_Fw(ws)\n",
    "%timeit Fw2.eval_Fw(ws)"
   ]
  },
  {
   "cell_type": "code",
   "execution_count": 16,
   "id": "4e55618f-38e4-44af-80b1-82fde81d3a6f",
   "metadata": {
    "execution": {
     "iopub.execute_input": "2024-08-21T21:35:15.328576Z",
     "iopub.status.busy": "2024-08-21T21:35:15.328204Z",
     "iopub.status.idle": "2024-08-21T21:35:33.429307Z",
     "shell.execute_reply": "2024-08-21T21:35:33.428202Z",
     "shell.execute_reply.started": "2024-08-21T21:35:15.328547Z"
    }
   },
   "outputs": [
    {
     "name": "stdout",
     "output_type": "stream",
     "text": [
      "13 ms ± 398 µs per loop (mean ± std. dev. of 7 runs, 100 loops each)\n",
      "9.12 ms ± 90.6 µs per loop (mean ± std. dev. of 7 runs, 100 loops each)\n"
     ]
    }
   ],
   "source": [
    "y = 1.3\n",
    "Fw1 = freq_domain_c.Fw_SemiAnalyticSIS_C(y)\n",
    "Fw2 = freq_domain_c.Fw_SemiAnalyticSIS_C(y, {'method':'direct'})\n",
    "\n",
    "%timeit Fw1.eval_Fw(ws)\n",
    "%timeit Fw2.eval_Fw(ws)"
   ]
  },
  {
   "cell_type": "markdown",
   "id": "91f2cb60-de2c-494f-846d-3a05487118cc",
   "metadata": {
    "heading_collapsed": true,
    "hidden": true
   },
   "source": [
    "### General F(w)"
   ]
  },
  {
   "cell_type": "markdown",
   "id": "35b9b3d9-8a28-4bab-9e12-80bcf66f0fa4",
   "metadata": {
    "hidden": true
   },
   "source": [
    "Weak-lensing speed"
   ]
  },
  {
   "cell_type": "code",
   "execution_count": 17,
   "id": "3d4d9e67-efe6-4c69-8514-78cbdc19f196",
   "metadata": {
    "ExecuteTime": {
     "end_time": "2023-05-03T14:42:12.408531Z",
     "start_time": "2023-05-03T14:42:12.379181Z"
    },
    "execution": {
     "iopub.execute_input": "2024-08-21T21:35:33.431094Z",
     "iopub.status.busy": "2024-08-21T21:35:33.430633Z",
     "iopub.status.idle": "2024-08-21T21:35:39.661373Z",
     "shell.execute_reply": "2024-08-21T21:35:39.659876Z",
     "shell.execute_reply.started": "2024-08-21T21:35:33.431062Z"
    },
    "hidden": true
   },
   "outputs": [
    {
     "name": "stdout",
     "output_type": "stream",
     "text": [
      "740 µs ± 144 µs per loop (mean ± std. dev. of 7 runs, 1,000 loops each)\n"
     ]
    }
   ],
   "source": [
    "y = 1.3\n",
    "It = time_domain_c.It_AnalyticSIS_C(y, {'Nt':5000})\n",
    "\n",
    "%timeit Fw = freq_domain_c.Fw_FFT_C(It)"
   ]
  },
  {
   "cell_type": "markdown",
   "id": "dbfc7c96-5d91-4429-924c-d24f2c9a909f",
   "metadata": {
    "hidden": true
   },
   "source": [
    "Strong-lensing speed"
   ]
  },
  {
   "cell_type": "code",
   "execution_count": 18,
   "id": "4c3464e2-9fb4-44a2-bbdd-0867e9f2a5fe",
   "metadata": {
    "ExecuteTime": {
     "end_time": "2023-05-03T14:42:24.745207Z",
     "start_time": "2023-05-03T14:42:23.260579Z"
    },
    "execution": {
     "iopub.execute_input": "2024-08-21T21:35:39.663778Z",
     "iopub.status.busy": "2024-08-21T21:35:39.663002Z",
     "iopub.status.idle": "2024-08-21T21:35:47.575857Z",
     "shell.execute_reply": "2024-08-21T21:35:47.574640Z",
     "shell.execute_reply.started": "2024-08-21T21:35:39.663703Z"
    },
    "hidden": true
   },
   "outputs": [
    {
     "name": "stdout",
     "output_type": "stream",
     "text": [
      "959 µs ± 38.5 µs per loop (mean ± std. dev. of 7 runs, 1,000 loops each)\n"
     ]
    }
   ],
   "source": [
    "y = 0.3\n",
    "It = time_domain_c.It_AnalyticSIS_C(y, {'Nt':5000})\n",
    "\n",
    "%timeit Fw = freq_domain_c.Fw_FFT_C(It)"
   ]
  },
  {
   "cell_type": "code",
   "execution_count": null,
   "id": "2a841e8f-37e5-4621-9acf-d2090c2d11c8",
   "metadata": {},
   "outputs": [],
   "source": []
  }
 ],
 "metadata": {
  "kernelspec": {
   "display_name": "Python 3 (ipykernel)",
   "language": "python",
   "name": "python3"
  },
  "language_info": {
   "codemirror_mode": {
    "name": "ipython",
    "version": 3
   },
   "file_extension": ".py",
   "mimetype": "text/x-python",
   "name": "python",
   "nbconvert_exporter": "python",
   "pygments_lexer": "ipython3",
   "version": "3.10.12"
  }
 },
 "nbformat": 4,
 "nbformat_minor": 5
}
